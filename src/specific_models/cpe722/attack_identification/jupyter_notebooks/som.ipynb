{
 "cells": [
  {
   "cell_type": "code",
   "execution_count": null,
   "metadata": {},
   "outputs": [],
   "source": [
    "# Author: Kaylani Bochie\n",
    "# github.com/kaylani2\n",
    "# kaylani AT gta DOT ufrj DOT br\n",
    "\n",
    "### K: Model: SOM\n",
    "import sys\n",
    "import time\n",
    "import pandas as pd\n",
    "import os\n",
    "import math\n",
    "sys.path.insert(1, '../')\n",
    "import numpy as np\n",
    "from numpy import mean, std\n",
    "from matplotlib import pyplot as plt\n",
    "from unit import remove_columns_with_one_value, remove_nan_columns, load_dataset\n",
    "from unit import display_general_information, display_feature_distribution\n",
    "from collections import Counter\n",
    "#from imblearn.over_sampling import RandomOverSampler, RandomUnderSampler\n",
    "import sklearn\n",
    "from sklearn import set_config\n",
    "from sklearn.cluster import KMeans\n",
    "from sklearn.impute import SimpleImputer\n",
    "from sklearn.svm import SVC, LinearSVC\n",
    "from sklearn.tree import DecisionTreeClassifier\n",
    "from sklearn.ensemble import RandomForestClassifier\n",
    "from sklearn.linear_model import LinearRegression\n",
    "from sklearn.naive_bayes import GaussianNB\n",
    "from sklearn.preprocessing import LabelEncoder, OneHotEncoder, OrdinalEncoder\n",
    "from sklearn.preprocessing import StandardScaler, RobustScaler, MinMaxScaler\n",
    "from sklearn.metrics import confusion_matrix, precision_score, recall_score\n",
    "from sklearn.metrics import f1_score, classification_report, accuracy_score\n",
    "from sklearn.metrics import cohen_kappa_score, mean_squared_error\n",
    "from sklearn.metrics import classification_report\n",
    "from sklearn.model_selection import train_test_split, PredefinedSplit, RandomizedSearchCV\n",
    "from sklearn.model_selection import GridSearchCV, RepeatedStratifiedKFold\n",
    "from sklearn.model_selection import cross_val_score\n",
    "from sklearn.decomposition import PCA\n",
    "from sklearn.feature_selection import SelectKBest\n",
    "from sklearn.feature_selection import f_classif, chi2, mutual_info_classif\n",
    "from sklearn.utils import class_weight\n",
    "from sklearn.pipeline import Pipeline\n",
    "from sklearn.compose import ColumnTransformer\n",
    "from tensorflow.keras.wrappers.scikit_learn import KerasClassifier, KerasRegressor\n",
    "import keras.utils\n",
    "from keras import metrics\n",
    "from keras.utils import to_categorical\n",
    "from keras.models import Sequential\n",
    "from keras.layers import Dense, Dropout\n",
    "from keras.layers import Conv2D, MaxPooling2D, Flatten, LSTM\n",
    "from keras.optimizers import RMSprop, Adam\n",
    "from keras.constraints import maxnorm\n",
    "import susi\n",
    "from susi.SOMPlots import plot_umatrix, plot_estimation_map\n",
    "\n",
    "\n",
    "###############################################################################\n",
    "## Define constants\n",
    "###############################################################################\n",
    "pd.set_option ('display.max_rows', None)\n",
    "pd.set_option ('display.max_columns', 5)\n",
    "BOT_IOT_DIRECTORY = '../../../../../datasets/bot-iot/'\n",
    "BOT_IOT_FEATURE_NAMES = 'UNSW_2018_IoT_Botnet_Dataset_Feature_Names.csv'\n",
    "BOT_IOT_FILE_5_PERCENT_SCHEMA = 'UNSW_2018_IoT_Botnet_Full5pc_{}.csv' # 1 - 4\n",
    "FIVE_PERCENT_FILES = 4\n",
    "BOT_IOT_FILE_FULL_SCHEMA = 'UNSW_2018_IoT_Botnet_Dataset_{}.csv' # 1 - 74\n",
    "FULL_FILES = 74\n",
    "FILE_NAME = BOT_IOT_DIRECTORY + BOT_IOT_FILE_5_PERCENT_SCHEMA\n",
    "FEATURES = BOT_IOT_DIRECTORY + BOT_IOT_FEATURE_NAMES\n",
    "NAN_VALUES = ['?', '.']\n",
    "TARGET = 'attack'\n",
    "INDEX_COLUMN = 'pkSeqID'\n",
    "LABELS = ['attack', 'category', 'subcategory']\n",
    "STATE = 0\n",
    "try:\n",
    "  STATE = int (sys.argv [1])\n",
    "except:\n",
    "  pass\n",
    "#for STATE in [1, 2, 3, 4, 5]:\n",
    "np.random.seed (STATE)\n",
    "print ('STATE:', STATE)\n",
    "\n",
    "\n",
    "###############################################################################\n",
    "## Load dataset\n",
    "###############################################################################\n",
    "df = load_dataset (FILE_NAME, FIVE_PERCENT_FILES, INDEX_COLUMN, NAN_VALUES)\n",
    "\n",
    "\n",
    "###############################################################################\n",
    "## Clean dataset\n",
    "###############################################################################\n",
    "###############################################################################\n",
    "### Remove columns with only one value\n",
    "df, log = remove_columns_with_one_value (df, verbose = False)\n",
    "print (log)\n",
    "\n",
    "\n",
    "###############################################################################\n",
    "### Remove redundant columns, useless columns and unused targets\n",
    "### K: _number columns are numerical representations of other existing columns.\n",
    "### K: category and subcategory are other labels.\n",
    "### K: saddr and daddr may specialize the model to a single network\n",
    "redundant_columns = ['state_number', 'proto_number', 'flgs_number']\n",
    "other_targets = ['category', 'subcategory']\n",
    "misc_columns = ['saddr', 'daddr']\n",
    "print ('Removing redundant columns:', redundant_columns)\n",
    "print ('Removing useless targets:', other_targets)\n",
    "print ('Removing misc columns:', misc_columns)\n",
    "columns_to_remove = redundant_columns + other_targets + misc_columns\n",
    "df.drop (axis = 'columns', columns = columns_to_remove, inplace = True)\n",
    "\n",
    "###############################################################################\n",
    "### Remove NaN columns (with a lot of NaN values)\n",
    "df, log = remove_nan_columns (df, 1/2, verbose = False)\n",
    "print (log)\n",
    "\n",
    "###############################################################################\n",
    "### Encode categorical features\n",
    "print ('Encoding categorical features (ordinal encoding).')\n",
    "my_encoder = OrdinalEncoder ()\n",
    "df ['flgs'] = my_encoder.fit_transform (df ['flgs'].values.reshape (-1, 1))\n",
    "df ['proto'] = my_encoder.fit_transform (df ['proto'].values.reshape (-1, 1))\n",
    "df ['sport'] = my_encoder.fit_transform (df ['sport'].astype (str).values.reshape (-1, 1))\n",
    "df ['dport'] = my_encoder.fit_transform (df ['dport'].astype (str).values.reshape (-1, 1))\n",
    "df ['state'] = my_encoder.fit_transform (df ['state'].values.reshape (-1, 1))\n",
    "print ('Objects:', list (df.select_dtypes ( ['object']).columns))\n",
    "\n",
    "\n",
    "###############################################################################\n",
    "## Quick sanity check\n",
    "###############################################################################\n",
    "display_general_information (df)\n",
    "\n",
    "\n",
    "###############################################################################\n",
    "## Split dataset into train and test sets\n",
    "###############################################################################\n",
    "### K: Dataset is too big? Drop.\n",
    "# drop_indices = np.random.choice (df.index, int (df.shape [0] * 0.5),\n",
    "#                                  replace = False)\n",
    "# df = df.drop (drop_indices)\n",
    "TEST_SIZE = 3/10\n",
    "VALIDATION_SIZE = 1/4\n",
    "print ('Splitting dataset (test/train):', TEST_SIZE)\n",
    "X_train_df, X_test_df, y_train_df, y_test_df = train_test_split (\n",
    "                                               df.loc [:, df.columns != TARGET],\n",
    "                                               df [TARGET],\n",
    "                                               test_size = TEST_SIZE,\n",
    "                                               random_state = STATE,)\n",
    "print ('Splitting dataset (validation/train):', VALIDATION_SIZE)\n",
    "X_train_df, X_val_df, y_train_df, y_val_df = train_test_split (\n",
    "                                             X_train_df,\n",
    "                                             y_train_df,\n",
    "                                             test_size = VALIDATION_SIZE,\n",
    "                                             random_state = STATE,)\n",
    "print ('X_train_df shape:', X_train_df.shape)\n",
    "print ('y_train_df shape:', y_train_df.shape)\n",
    "print ('X_val_df shape:', X_val_df.shape)\n",
    "print ('y_val_df shape:', y_val_df.shape)\n",
    "print ('X_test_df shape:', X_test_df.shape)\n",
    "print ('y_test_df shape:', y_test_df.shape)\n",
    "\n",
    "\n",
    "###############################################################################\n",
    "## Convert dataframe to a numpy array\n",
    "###############################################################################\n",
    "print ('\\nConverting dataframe to numpy array.')\n",
    "X_train = X_train_df.values\n",
    "y_train = y_train_df.values\n",
    "X_val = X_val_df.values\n",
    "y_val = y_val_df.values\n",
    "X_test = X_test_df.values\n",
    "y_test = y_test_df.values\n",
    "print ('X_train shape:', X_train.shape)\n",
    "print ('y_train shape:', y_train.shape)\n",
    "print ('X_val shape:', X_val.shape)\n",
    "print ('y_val shape:', y_val.shape)\n",
    "print ('X_test shape:', X_test.shape)\n",
    "print ('y_test shape:', y_test.shape)"
   ]
  },
  {
   "cell_type": "code",
   "execution_count": 13,
   "metadata": {},
   "outputs": [
    {
     "name": "stdout",
     "output_type": "stream",
     "text": [
      "\n",
      "Applying normalization.\n",
      "2.5533463954925537 to normalize data.\n",
      "\n",
      "Selecting top 15 features.\n",
      "[0.26937754 0.14698033 0.09683159 0.05761509 0.05032776 0.04246148\n",
      " 0.03897552 0.03290626 0.03135817 0.02828787 0.02620613 0.02611431\n",
      " 0.02521368 0.02161661 0.02025722]\n",
      "[4381.33690129 3236.35062717 2626.84522622 2026.25499721 1893.78105346\n",
      " 1739.49643257 1666.56379345 1531.31742771 1494.86270668 1419.79650538\n",
      " 1366.55583483 1364.15986451 1340.42985299 1241.13707    1201.47809671]\n",
      "X_train shape: (1925973, 15)\n",
      "y_train shape: (1925973,)\n",
      "X_val shape: (641992, 15)\n",
      "y_val shape: (641992,)\n",
      "X_test shape: (1100557, 15)\n",
      "y_test shape: (1100557,)\n"
     ]
    }
   ],
   "source": [
    "###############################################################################\n",
    "## Apply normalization\n",
    "###############################################################################\n",
    "### K: NOTE: Only use derived information from the train set to avoid leakage.\n",
    "print ('\\nApplying normalization.')\n",
    "startTime = time.time ()\n",
    "scaler = StandardScaler ()\n",
    "#scaler = MinMaxScaler (feature_range = (0, 1))\n",
    "scaler.fit (X_train)\n",
    "X_train = scaler.transform (X_train)\n",
    "X_val = scaler.transform (X_val)\n",
    "X_test = scaler.transform (X_test)\n",
    "print (str (time.time () - startTime), 'to normalize data.')\n",
    "\n",
    "###############################################################################\n",
    "## Perform feature selection\n",
    "###############################################################################\n",
    "NUMBER_OF_FEATURES = 15 #X_train.shape [-1]\n",
    "print ('\\nSelecting top', NUMBER_OF_FEATURES, 'features.')\n",
    "fs = PCA (n_components = NUMBER_OF_FEATURES)\n",
    "fs.fit (X_train)\n",
    "print (fs.explained_variance_ratio_)\n",
    "print (fs.singular_values_)\n",
    "X_train = fs.transform (X_train)\n",
    "X_val = fs.transform (X_val)\n",
    "X_test = fs.transform (X_test)\n",
    "print ('X_train shape:', X_train.shape)\n",
    "print ('y_train shape:', y_train.shape)\n",
    "print ('X_val shape:', X_val.shape)\n",
    "print ('y_val shape:', y_val.shape)\n",
    "print ('X_test shape:', X_test.shape)\n",
    "print ('y_test shape:', y_test.shape)\n"
   ]
  },
  {
   "cell_type": "code",
   "execution_count": 14,
   "metadata": {},
   "outputs": [
    {
     "name": "stdout",
     "output_type": "stream",
     "text": [
      "4358.75089263916 s to train model.\n"
     ]
    }
   ],
   "source": [
    "som = susi.SOMClassifier (n_rows = 10, n_columns = 10, n_iter_supervised = 5000)\n",
    "startTime = time.time ()\n",
    "som.fit (X_train, y_train)\n",
    "print (str (time.time () - startTime), 's to train model.')"
   ]
  },
  {
   "cell_type": "code",
   "execution_count": 15,
   "metadata": {},
   "outputs": [
    {
     "name": "stdout",
     "output_type": "stream",
     "text": [
      "0.9998855125177524\n"
     ]
    }
   ],
   "source": [
    "print (som.score (X_test, y_test))"
   ]
  },
  {
   "cell_type": "code",
   "execution_count": 16,
   "metadata": {},
   "outputs": [
    {
     "data": {
      "image/png": "[encoded data removed]",
      "text/plain": [
       "<Figure size 432x432 with 2 Axes>"
      ]
     },
     "metadata": {
      "needs_background": "light"
     },
     "output_type": "display_data"
    }
   ],
   "source": [
    "u_matrix = som.get_u_matrix()\n",
    "plot_umatrix(u_matrix, 10, 10)\n",
    "plt.show()"
   ]
  },
  {
   "cell_type": "code",
   "execution_count": 17,
   "metadata": {},
   "outputs": [
    {
     "data": {
      "image/png": "[encoded data removed]",
      "text/plain": [
       "<Figure size 504x360 with 2 Axes>"
      ]
     },
     "metadata": {
      "needs_background": "light"
     },
     "output_type": "display_data"
    }
   ],
   "source": [
    "estimation_map = som.get_estimation_map().squeeze()\n",
    "plot_estimation_map(estimation_map)\n",
    "plt.show()"
   ]
  }
 ],
 "metadata": {
  "kernelspec": {
   "display_name": "Python 3",
   "language": "python",
   "name": "python3"
  },
  "language_info": {
   "codemirror_mode": {
    "name": "ipython",
    "version": 3
   },
   "file_extension": ".py",
   "mimetype": "text/x-python",
   "name": "python",
   "nbconvert_exporter": "python",
   "pygments_lexer": "ipython3",
   "version": "3.8.5"
  }
 },
 "nbformat": 4,
 "nbformat_minor": 4
}
