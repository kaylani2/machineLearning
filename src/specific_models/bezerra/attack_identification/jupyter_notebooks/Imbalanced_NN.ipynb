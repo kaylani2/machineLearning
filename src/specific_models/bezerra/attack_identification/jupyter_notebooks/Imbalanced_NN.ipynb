{
 "cells": [
  {
   "cell_type": "code",
   "execution_count": 1,
   "metadata": {},
   "outputs": [],
   "source": [
    "# Load the TensorBoard notebook extension\n",
    "%load_ext tensorboard"
   ]
  },
  {
   "cell_type": "code",
   "execution_count": 1,
   "metadata": {},
   "outputs": [],
   "source": [
    "import functools\n",
    "import time\n",
    "import math\n",
    "import tensorflow as tf\n",
    "from tensorflow import keras\n",
    "import datetime\n",
    "\n",
    "import matplotlib as mpl\n",
    "import matplotlib.pyplot as plt\n",
    "import numpy as np\n",
    "import pandas as pd\n",
    "import seaborn as sns\n",
    "\n",
    "import sklearn\n",
    "from sklearn.metrics import confusion_matrix\n",
    "from sklearn.preprocessing import StandardScaler\n",
    "\n",
    "mpl.rcParams['figure.figsize'] = (12, 10)\n",
    "colors = plt.rcParams['axes.prop_cycle'].by_key()['color']"
   ]
  },
  {
   "cell_type": "code",
   "execution_count": 2,
   "metadata": {},
   "outputs": [],
   "source": [
    "# Clear any logs from previous runs\n",
    "!rm -rf ./logs/ "
   ]
  },
  {
   "cell_type": "markdown",
   "metadata": {},
   "source": [
    "Defining constants"
   ]
  },
  {
   "cell_type": "code",
   "execution_count": 3,
   "metadata": {},
   "outputs": [
    {
     "name": "stdout",
     "output_type": "stream",
     "text": [
      "['MC_L.csv', 'MC_I1.csv', 'MC_I2.csv', 'MC_I3.csv']\n"
     ]
    }
   ],
   "source": [
    "DEVICE = 'GPU/:0'\n",
    "\n",
    "DATASET_DIR = '../datasets/Dataset-IoT/'\n",
    "NETFLOW_DIR = DATASET_DIR + 'MC/NetFlow/'\n",
    "\n",
    "# MC_I_FIRST: Has infected data by Hajime, Aidra and BashLite botnets'\n",
    "# MC_I_SECOND: Has infected data from Mirai botnets\n",
    "# MC_I_THIR: Has infected data from Mirai, Doflo, Tsunami and Wroba botnets\n",
    "# MC_L: Has legitimate data, no infection\n",
    "MC_L = r'MC_L.csv'\n",
    "\n",
    "data_set_files = [r'MC_I{}.csv'.format(index) for index in range(1, 4)]\n",
    "data_set_files.insert(0, r'MC_L.csv')\n",
    "print (data_set_files)"
   ]
  },
  {
   "cell_type": "markdown",
   "metadata": {},
   "source": [
    "Loading the Dataset"
   ]
  },
  {
   "cell_type": "code",
   "execution_count": 4,
   "metadata": {
    "scrolled": true
   },
   "outputs": [
    {
     "data": {
      "text/html": [
       "<div>\n",
       "<style scoped>\n",
       "    .dataframe tbody tr th:only-of-type {\n",
       "        vertical-align: middle;\n",
       "    }\n",
       "\n",
       "    .dataframe tbody tr th {\n",
       "        vertical-align: top;\n",
       "    }\n",
       "\n",
       "    .dataframe thead th {\n",
       "        text-align: right;\n",
       "    }\n",
       "</style>\n",
       "<table border=\"1\" class=\"dataframe\">\n",
       "  <thead>\n",
       "    <tr style=\"text-align: right;\">\n",
       "      <th></th>\n",
       "      <th>Label</th>\n",
       "      <th>ts</th>\n",
       "      <th>te</th>\n",
       "      <th>td</th>\n",
       "      <th>sa</th>\n",
       "      <th>da</th>\n",
       "      <th>sp</th>\n",
       "      <th>dp</th>\n",
       "      <th>pr</th>\n",
       "      <th>flg</th>\n",
       "      <th>ipkt</th>\n",
       "      <th>ibyt</th>\n",
       "    </tr>\n",
       "  </thead>\n",
       "  <tbody>\n",
       "    <tr>\n",
       "      <th>157276</th>\n",
       "      <td>1</td>\n",
       "      <td>2018-11-11 03:44:19</td>\n",
       "      <td>2018-11-11 03:44:19</td>\n",
       "      <td>0.0</td>\n",
       "      <td>192.168.1.109</td>\n",
       "      <td>83142209155</td>\n",
       "      <td>14309</td>\n",
       "      <td>23.0</td>\n",
       "      <td>TCP</td>\n",
       "      <td>....S.</td>\n",
       "      <td>1.0</td>\n",
       "      <td>40.0</td>\n",
       "    </tr>\n",
       "    <tr>\n",
       "      <th>310900</th>\n",
       "      <td>1</td>\n",
       "      <td>2018-11-11 04:02:54</td>\n",
       "      <td>2018-11-11 04:02:54</td>\n",
       "      <td>0.0</td>\n",
       "      <td>192.168.1.109</td>\n",
       "      <td>17.85.84.168</td>\n",
       "      <td>33143</td>\n",
       "      <td>23.0</td>\n",
       "      <td>TCP</td>\n",
       "      <td>....S.</td>\n",
       "      <td>1.0</td>\n",
       "      <td>40.0</td>\n",
       "    </tr>\n",
       "    <tr>\n",
       "      <th>163506</th>\n",
       "      <td>1</td>\n",
       "      <td>2018-11-11 03:45:06</td>\n",
       "      <td>2018-11-11 03:45:06</td>\n",
       "      <td>0.0</td>\n",
       "      <td>192.168.1.109</td>\n",
       "      <td>156241248212</td>\n",
       "      <td>10607</td>\n",
       "      <td>23.0</td>\n",
       "      <td>TCP</td>\n",
       "      <td>....S.</td>\n",
       "      <td>1.0</td>\n",
       "      <td>40.0</td>\n",
       "    </tr>\n",
       "    <tr>\n",
       "      <th>97313</th>\n",
       "      <td>1</td>\n",
       "      <td>2018-11-11 03:37:03</td>\n",
       "      <td>2018-11-11 03:37:03</td>\n",
       "      <td>0.0</td>\n",
       "      <td>192.168.1.109</td>\n",
       "      <td>76.49.28.161</td>\n",
       "      <td>8421</td>\n",
       "      <td>23.0</td>\n",
       "      <td>TCP</td>\n",
       "      <td>....S.</td>\n",
       "      <td>1.0</td>\n",
       "      <td>40.0</td>\n",
       "    </tr>\n",
       "    <tr>\n",
       "      <th>215220</th>\n",
       "      <td>1</td>\n",
       "      <td>2018-11-11 03:51:14</td>\n",
       "      <td>2018-11-11 03:51:14</td>\n",
       "      <td>0.0</td>\n",
       "      <td>192.168.1.109</td>\n",
       "      <td>148.25.4.33</td>\n",
       "      <td>33832</td>\n",
       "      <td>23.0</td>\n",
       "      <td>TCP</td>\n",
       "      <td>....S.</td>\n",
       "      <td>1.0</td>\n",
       "      <td>40.0</td>\n",
       "    </tr>\n",
       "    <tr>\n",
       "      <th>...</th>\n",
       "      <td>...</td>\n",
       "      <td>...</td>\n",
       "      <td>...</td>\n",
       "      <td>...</td>\n",
       "      <td>...</td>\n",
       "      <td>...</td>\n",
       "      <td>...</td>\n",
       "      <td>...</td>\n",
       "      <td>...</td>\n",
       "      <td>...</td>\n",
       "      <td>...</td>\n",
       "      <td>...</td>\n",
       "    </tr>\n",
       "    <tr>\n",
       "      <th>6472</th>\n",
       "      <td>1</td>\n",
       "      <td>2018-11-11 03:26:22</td>\n",
       "      <td>2018-11-11 03:26:22</td>\n",
       "      <td>0.0</td>\n",
       "      <td>192.168.1.109</td>\n",
       "      <td>91.77.235.12</td>\n",
       "      <td>28244</td>\n",
       "      <td>81.0</td>\n",
       "      <td>TCP</td>\n",
       "      <td>....S.</td>\n",
       "      <td>1.0</td>\n",
       "      <td>40.0</td>\n",
       "    </tr>\n",
       "    <tr>\n",
       "      <th>112718</th>\n",
       "      <td>0</td>\n",
       "      <td>2018-11-11 03:38:54</td>\n",
       "      <td>2018-11-11 03:38:54</td>\n",
       "      <td>0.0</td>\n",
       "      <td>192.168.1.109</td>\n",
       "      <td>224.0.0.251</td>\n",
       "      <td>0</td>\n",
       "      <td>0.0</td>\n",
       "      <td>IGMP</td>\n",
       "      <td>......</td>\n",
       "      <td>1.0</td>\n",
       "      <td>32.0</td>\n",
       "    </tr>\n",
       "    <tr>\n",
       "      <th>227714</th>\n",
       "      <td>1</td>\n",
       "      <td>2018-11-11 03:52:43</td>\n",
       "      <td>2018-11-11 03:52:43</td>\n",
       "      <td>0.0</td>\n",
       "      <td>192.168.1.109</td>\n",
       "      <td>220.53.254.248</td>\n",
       "      <td>32898</td>\n",
       "      <td>23.0</td>\n",
       "      <td>TCP</td>\n",
       "      <td>....S.</td>\n",
       "      <td>1.0</td>\n",
       "      <td>40.0</td>\n",
       "    </tr>\n",
       "    <tr>\n",
       "      <th>358337</th>\n",
       "      <td>1</td>\n",
       "      <td>2018-11-11 04:08:40</td>\n",
       "      <td>2018-11-11 04:08:40</td>\n",
       "      <td>0.0</td>\n",
       "      <td>192.168.1.109</td>\n",
       "      <td>78.166.169.28</td>\n",
       "      <td>25188</td>\n",
       "      <td>23.0</td>\n",
       "      <td>TCP</td>\n",
       "      <td>....S.</td>\n",
       "      <td>1.0</td>\n",
       "      <td>40.0</td>\n",
       "    </tr>\n",
       "    <tr>\n",
       "      <th>12891</th>\n",
       "      <td>1</td>\n",
       "      <td>2018-11-11 03:27:05</td>\n",
       "      <td>2018-11-11 03:27:05</td>\n",
       "      <td>0.0</td>\n",
       "      <td>192.168.1.109</td>\n",
       "      <td>110215229138</td>\n",
       "      <td>50999</td>\n",
       "      <td>81.0</td>\n",
       "      <td>TCP</td>\n",
       "      <td>....S.</td>\n",
       "      <td>1.0</td>\n",
       "      <td>40.0</td>\n",
       "    </tr>\n",
       "  </tbody>\n",
       "</table>\n",
       "<p>360617 rows × 12 columns</p>\n",
       "</div>"
      ],
      "text/plain": [
       "        Label                   ts                   te   td             sa  \\\n",
       "157276      1  2018-11-11 03:44:19  2018-11-11 03:44:19  0.0  192.168.1.109   \n",
       "310900      1  2018-11-11 04:02:54  2018-11-11 04:02:54  0.0  192.168.1.109   \n",
       "163506      1  2018-11-11 03:45:06  2018-11-11 03:45:06  0.0  192.168.1.109   \n",
       "97313       1  2018-11-11 03:37:03  2018-11-11 03:37:03  0.0  192.168.1.109   \n",
       "215220      1  2018-11-11 03:51:14  2018-11-11 03:51:14  0.0  192.168.1.109   \n",
       "...       ...                  ...                  ...  ...            ...   \n",
       "6472        1  2018-11-11 03:26:22  2018-11-11 03:26:22  0.0  192.168.1.109   \n",
       "112718      0  2018-11-11 03:38:54  2018-11-11 03:38:54  0.0  192.168.1.109   \n",
       "227714      1  2018-11-11 03:52:43  2018-11-11 03:52:43  0.0  192.168.1.109   \n",
       "358337      1  2018-11-11 04:08:40  2018-11-11 04:08:40  0.0  192.168.1.109   \n",
       "12891       1  2018-11-11 03:27:05  2018-11-11 03:27:05  0.0  192.168.1.109   \n",
       "\n",
       "                    da     sp    dp    pr     flg  ipkt  ibyt  \n",
       "157276     83142209155  14309  23.0   TCP  ....S.   1.0  40.0  \n",
       "310900    17.85.84.168  33143  23.0   TCP  ....S.   1.0  40.0  \n",
       "163506    156241248212  10607  23.0   TCP  ....S.   1.0  40.0  \n",
       "97313     76.49.28.161   8421  23.0   TCP  ....S.   1.0  40.0  \n",
       "215220     148.25.4.33  33832  23.0   TCP  ....S.   1.0  40.0  \n",
       "...                ...    ...   ...   ...     ...   ...   ...  \n",
       "6472      91.77.235.12  28244  81.0   TCP  ....S.   1.0  40.0  \n",
       "112718     224.0.0.251      0   0.0  IGMP  ......   1.0  32.0  \n",
       "227714  220.53.254.248  32898  23.0   TCP  ....S.   1.0  40.0  \n",
       "358337   78.166.169.28  25188  23.0   TCP  ....S.   1.0  40.0  \n",
       "12891     110215229138  50999  81.0   TCP  ....S.   1.0  40.0  \n",
       "\n",
       "[360617 rows x 12 columns]"
      ]
     },
     "execution_count": 4,
     "metadata": {},
     "output_type": "execute_result"
    }
   ],
   "source": [
    "legitimate_file_path = NETFLOW_DIR + MC_L\n",
    "\n",
    "LABEL_COLUMN = 'Label'\n",
    "\n",
    "#reading data\n",
    "df = pd.read_csv (legitimate_file_path)\n",
    "\n",
    "# for file in data_set_files:\n",
    "#     aux_df = pd.read_csv(NETFLOW_DIR + file)\n",
    "#     df = pd.concat([df, aux_df], ignore_index=True)\n",
    "\n",
    "aux_df = pd.read_csv(NETFLOW_DIR + data_set_files[1])\n",
    "df = pd.concat([df, aux_df], ignore_index=True)\n",
    "\n",
    "#making the final DataFrame\n",
    "df = df.sample(frac=1, random_state=math.ceil(time.time()), )\n",
    "df = df.drop(df.columns[0], axis=1)\n",
    "df.describe()\n",
    "\n",
    "nUniques = df.nunique()\n",
    "for column, nUnique in zip (df.columns, nUniques):\n",
    "    if(nUnique == 1):\n",
    "        df.drop(axis='columns', columns=column, inplace=True)\n",
    "df"
   ]
  },
  {
   "cell_type": "markdown",
   "metadata": {},
   "source": [
    "# Encoding the Categorical Columns"
   ]
  },
  {
   "cell_type": "code",
   "execution_count": 5,
   "metadata": {},
   "outputs": [
    {
     "data": {
      "text/html": [
       "<div>\n",
       "<style scoped>\n",
       "    .dataframe tbody tr th:only-of-type {\n",
       "        vertical-align: middle;\n",
       "    }\n",
       "\n",
       "    .dataframe tbody tr th {\n",
       "        vertical-align: top;\n",
       "    }\n",
       "\n",
       "    .dataframe thead th {\n",
       "        text-align: right;\n",
       "    }\n",
       "</style>\n",
       "<table border=\"1\" class=\"dataframe\">\n",
       "  <thead>\n",
       "    <tr style=\"text-align: right;\">\n",
       "      <th></th>\n",
       "      <th>Label</th>\n",
       "      <th>ts</th>\n",
       "      <th>te</th>\n",
       "      <th>td</th>\n",
       "      <th>sa</th>\n",
       "      <th>da</th>\n",
       "      <th>sp</th>\n",
       "      <th>dp</th>\n",
       "      <th>pr</th>\n",
       "      <th>flg</th>\n",
       "      <th>ipkt</th>\n",
       "      <th>ibyt</th>\n",
       "    </tr>\n",
       "  </thead>\n",
       "  <tbody>\n",
       "    <tr>\n",
       "      <th>157276</th>\n",
       "      <td>1</td>\n",
       "      <td>0.0</td>\n",
       "      <td>0.0</td>\n",
       "      <td>0.0</td>\n",
       "      <td>0.0</td>\n",
       "      <td>0.0</td>\n",
       "      <td>14309</td>\n",
       "      <td>23.0</td>\n",
       "      <td>0.0</td>\n",
       "      <td>0.0</td>\n",
       "      <td>1.0</td>\n",
       "      <td>40.0</td>\n",
       "    </tr>\n",
       "    <tr>\n",
       "      <th>310900</th>\n",
       "      <td>1</td>\n",
       "      <td>1.0</td>\n",
       "      <td>1.0</td>\n",
       "      <td>0.0</td>\n",
       "      <td>0.0</td>\n",
       "      <td>1.0</td>\n",
       "      <td>33143</td>\n",
       "      <td>23.0</td>\n",
       "      <td>0.0</td>\n",
       "      <td>0.0</td>\n",
       "      <td>1.0</td>\n",
       "      <td>40.0</td>\n",
       "    </tr>\n",
       "    <tr>\n",
       "      <th>163506</th>\n",
       "      <td>1</td>\n",
       "      <td>2.0</td>\n",
       "      <td>2.0</td>\n",
       "      <td>0.0</td>\n",
       "      <td>0.0</td>\n",
       "      <td>2.0</td>\n",
       "      <td>10607</td>\n",
       "      <td>23.0</td>\n",
       "      <td>0.0</td>\n",
       "      <td>0.0</td>\n",
       "      <td>1.0</td>\n",
       "      <td>40.0</td>\n",
       "    </tr>\n",
       "    <tr>\n",
       "      <th>97313</th>\n",
       "      <td>1</td>\n",
       "      <td>3.0</td>\n",
       "      <td>3.0</td>\n",
       "      <td>0.0</td>\n",
       "      <td>0.0</td>\n",
       "      <td>3.0</td>\n",
       "      <td>8421</td>\n",
       "      <td>23.0</td>\n",
       "      <td>0.0</td>\n",
       "      <td>0.0</td>\n",
       "      <td>1.0</td>\n",
       "      <td>40.0</td>\n",
       "    </tr>\n",
       "    <tr>\n",
       "      <th>215220</th>\n",
       "      <td>1</td>\n",
       "      <td>4.0</td>\n",
       "      <td>4.0</td>\n",
       "      <td>0.0</td>\n",
       "      <td>0.0</td>\n",
       "      <td>4.0</td>\n",
       "      <td>33832</td>\n",
       "      <td>23.0</td>\n",
       "      <td>0.0</td>\n",
       "      <td>0.0</td>\n",
       "      <td>1.0</td>\n",
       "      <td>40.0</td>\n",
       "    </tr>\n",
       "    <tr>\n",
       "      <th>...</th>\n",
       "      <td>...</td>\n",
       "      <td>...</td>\n",
       "      <td>...</td>\n",
       "      <td>...</td>\n",
       "      <td>...</td>\n",
       "      <td>...</td>\n",
       "      <td>...</td>\n",
       "      <td>...</td>\n",
       "      <td>...</td>\n",
       "      <td>...</td>\n",
       "      <td>...</td>\n",
       "      <td>...</td>\n",
       "    </tr>\n",
       "    <tr>\n",
       "      <th>6472</th>\n",
       "      <td>1</td>\n",
       "      <td>456.0</td>\n",
       "      <td>455.0</td>\n",
       "      <td>0.0</td>\n",
       "      <td>0.0</td>\n",
       "      <td>329109.0</td>\n",
       "      <td>28244</td>\n",
       "      <td>81.0</td>\n",
       "      <td>0.0</td>\n",
       "      <td>0.0</td>\n",
       "      <td>1.0</td>\n",
       "      <td>40.0</td>\n",
       "    </tr>\n",
       "    <tr>\n",
       "      <th>112718</th>\n",
       "      <td>0</td>\n",
       "      <td>1264.0</td>\n",
       "      <td>1263.0</td>\n",
       "      <td>0.0</td>\n",
       "      <td>0.0</td>\n",
       "      <td>639.0</td>\n",
       "      <td>0</td>\n",
       "      <td>0.0</td>\n",
       "      <td>3.0</td>\n",
       "      <td>3.0</td>\n",
       "      <td>1.0</td>\n",
       "      <td>32.0</td>\n",
       "    </tr>\n",
       "    <tr>\n",
       "      <th>227714</th>\n",
       "      <td>1</td>\n",
       "      <td>278.0</td>\n",
       "      <td>908.0</td>\n",
       "      <td>0.0</td>\n",
       "      <td>0.0</td>\n",
       "      <td>329110.0</td>\n",
       "      <td>32898</td>\n",
       "      <td>23.0</td>\n",
       "      <td>0.0</td>\n",
       "      <td>0.0</td>\n",
       "      <td>1.0</td>\n",
       "      <td>40.0</td>\n",
       "    </tr>\n",
       "    <tr>\n",
       "      <th>358337</th>\n",
       "      <td>1</td>\n",
       "      <td>1169.0</td>\n",
       "      <td>1170.0</td>\n",
       "      <td>0.0</td>\n",
       "      <td>0.0</td>\n",
       "      <td>329111.0</td>\n",
       "      <td>25188</td>\n",
       "      <td>23.0</td>\n",
       "      <td>0.0</td>\n",
       "      <td>0.0</td>\n",
       "      <td>1.0</td>\n",
       "      <td>40.0</td>\n",
       "    </tr>\n",
       "    <tr>\n",
       "      <th>12891</th>\n",
       "      <td>1</td>\n",
       "      <td>313.0</td>\n",
       "      <td>310.0</td>\n",
       "      <td>0.0</td>\n",
       "      <td>0.0</td>\n",
       "      <td>329112.0</td>\n",
       "      <td>50999</td>\n",
       "      <td>81.0</td>\n",
       "      <td>0.0</td>\n",
       "      <td>0.0</td>\n",
       "      <td>1.0</td>\n",
       "      <td>40.0</td>\n",
       "    </tr>\n",
       "  </tbody>\n",
       "</table>\n",
       "<p>360617 rows × 12 columns</p>\n",
       "</div>"
      ],
      "text/plain": [
       "        Label      ts      te   td   sa        da     sp    dp   pr  flg  \\\n",
       "157276      1     0.0     0.0  0.0  0.0       0.0  14309  23.0  0.0  0.0   \n",
       "310900      1     1.0     1.0  0.0  0.0       1.0  33143  23.0  0.0  0.0   \n",
       "163506      1     2.0     2.0  0.0  0.0       2.0  10607  23.0  0.0  0.0   \n",
       "97313       1     3.0     3.0  0.0  0.0       3.0   8421  23.0  0.0  0.0   \n",
       "215220      1     4.0     4.0  0.0  0.0       4.0  33832  23.0  0.0  0.0   \n",
       "...       ...     ...     ...  ...  ...       ...    ...   ...  ...  ...   \n",
       "6472        1   456.0   455.0  0.0  0.0  329109.0  28244  81.0  0.0  0.0   \n",
       "112718      0  1264.0  1263.0  0.0  0.0     639.0      0   0.0  3.0  3.0   \n",
       "227714      1   278.0   908.0  0.0  0.0  329110.0  32898  23.0  0.0  0.0   \n",
       "358337      1  1169.0  1170.0  0.0  0.0  329111.0  25188  23.0  0.0  0.0   \n",
       "12891       1   313.0   310.0  0.0  0.0  329112.0  50999  81.0  0.0  0.0   \n",
       "\n",
       "        ipkt  ibyt  \n",
       "157276   1.0  40.0  \n",
       "310900   1.0  40.0  \n",
       "163506   1.0  40.0  \n",
       "97313    1.0  40.0  \n",
       "215220   1.0  40.0  \n",
       "...      ...   ...  \n",
       "6472     1.0  40.0  \n",
       "112718   1.0  32.0  \n",
       "227714   1.0  40.0  \n",
       "358337   1.0  40.0  \n",
       "12891    1.0  40.0  \n",
       "\n",
       "[360617 rows x 12 columns]"
      ]
     },
     "execution_count": 5,
     "metadata": {},
     "output_type": "execute_result"
    }
   ],
   "source": [
    "from sklearn import preprocessing\n",
    "\n",
    "cat_cols, num_cols = df.columns[df.dtypes == 'O'], df.columns[df.dtypes != 'O']\n",
    "num_cols = num_cols[1:]\n",
    "\n",
    "categories = [df[column].unique() for column in df[cat_cols]]\n",
    "\n",
    "categorical_encoder = preprocessing.OrdinalEncoder(categories=categories)\n",
    "categorical_encoder.fit(df[cat_cols])\n",
    "df[cat_cols] = categorical_encoder.transform(df[cat_cols])\n",
    "\n",
    "df\n"
   ]
  },
  {
   "cell_type": "markdown",
   "metadata": {},
   "source": [
    "Splitting the data"
   ]
  },
  {
   "cell_type": "code",
   "execution_count": 6,
   "metadata": {},
   "outputs": [
    {
     "name": "stdout",
     "output_type": "stream",
     "text": [
      "230794 train examples\n",
      "57699 validation examples\n",
      "72124 test examples\n"
     ]
    }
   ],
   "source": [
    "from tensorflow import feature_column\n",
    "from tensorflow.keras import layers\n",
    "from sklearn.model_selection import train_test_split\n",
    "\n",
    "train, test = train_test_split (df, test_size=0.2)\n",
    "train, val = train_test_split (train, test_size=0.2)\n",
    "print(len(train), 'train examples')\n",
    "print(len(val), 'validation examples')\n",
    "print(len(test), 'test examples')\n",
    "\n",
    "train_labels = np.array (train.pop('Label'))\n",
    "bool_train_labels = train_labels != 0\n",
    "val_labels = np.array(val.pop('Label'))\n",
    "test_labels = np.array (test.pop('Label'))\n",
    "\n",
    "train_features = np.array(train)\n",
    "val_features = np.array(val)\n",
    "test_features = np.array(test)\n",
    "\n"
   ]
  },
  {
   "cell_type": "code",
   "execution_count": 7,
   "metadata": {},
   "outputs": [
    {
     "name": "stdout",
     "output_type": "stream",
     "text": [
      "Negative Examples: 2005\n",
      "Positive Examples: 358612\n"
     ]
    }
   ],
   "source": [
    "neg, pos = np.bincount(df['Label'])\n",
    "print (\"Negative Examples: {}\".format(neg))\n",
    "print (\"Positive Examples: {}\".format(pos))\n",
    "\n",
    "#dropping the labels columns\n",
    "df = df.drop(df.columns[0], axis=1)"
   ]
  },
  {
   "cell_type": "markdown",
   "metadata": {},
   "source": [
    "# Scaling the data"
   ]
  },
  {
   "cell_type": "code",
   "execution_count": 8,
   "metadata": {},
   "outputs": [],
   "source": [
    "#getting the index of the numerical columns\n",
    "index = [df.columns.get_loc(c) for c in num_cols]\n",
    "index = np.array(index)\n",
    "\n",
    "cat_index = [df.columns.get_loc(c) for c in cat_cols]\n",
    "cat_index = np.array(index)\n",
    "\n",
    "scaler = StandardScaler()\n",
    "train_features[:, index] = scaler.fit_transform(train_features[:, index])\n",
    "\n",
    "val_features[:, index] = scaler.transform(val_features[:, index])\n",
    "\n",
    "test_features[:, index] = scaler.transform(test_features[:, index])\n",
    "\n",
    "train_features[:, index] = np.clip(train_features[:, index], -5, 5)\n",
    "val_features[:, index] = np.clip(val_features[:, index], -5, 5)\n",
    "test_features[:, index] = np.clip(test_features[:, index], -5, 5)\n"
   ]
  },
  {
   "cell_type": "code",
   "execution_count": 9,
   "metadata": {},
   "outputs": [
    {
     "data": {
      "image/png": "[encoded data removed]",
      "text/plain": [
       "<Figure size 432x432 with 3 Axes>"
      ]
     },
     "metadata": {
      "needs_background": "light"
     },
     "output_type": "display_data"
    },
    {
     "data": {
      "image/png": "[encoded data removed]",
      "text/plain": [
       "<Figure size 432x432 with 3 Axes>"
      ]
     },
     "metadata": {
      "needs_background": "light"
     },
     "output_type": "display_data"
    }
   ],
   "source": [
    "pos_df = pd.DataFrame(train_features[ bool_train_labels], columns = train.columns)\n",
    "neg_df = pd.DataFrame(train_features[~bool_train_labels], columns = train.columns)\n",
    "\n",
    "sns.jointplot(pos_df['ibyt'], pos_df['ipkt'],\n",
    "              kind='hex', xlim = (-20,20), ylim = (-20,20))\n",
    "plt.suptitle(\"Positive distribution\")\n",
    "\n",
    "sns.jointplot(neg_df['ibyt'], neg_df['ipkt'],\n",
    "              kind='hex', xlim = (-20,20), ylim = (-20,20))\n",
    "_ = plt.suptitle(\"Negative distribution\")"
   ]
  },
  {
   "cell_type": "markdown",
   "metadata": {},
   "source": [
    "Making the df into a dataset"
   ]
  },
  {
   "cell_type": "code",
   "execution_count": 10,
   "metadata": {},
   "outputs": [],
   "source": [
    "METRICS = [\n",
    "      keras.metrics.TruePositives(name='tp'),\n",
    "      keras.metrics.FalsePositives(name='fp'),\n",
    "      keras.metrics.TrueNegatives(name='tn'),\n",
    "      keras.metrics.FalseNegatives(name='fn'), \n",
    "      keras.metrics.BinaryAccuracy(name='accuracy'),\n",
    "      keras.metrics.Precision(name='precision'),\n",
    "      keras.metrics.Recall(name='recall'),\n",
    "      keras.metrics.AUC(name='auc'),\n",
    "]\n",
    "\n",
    "\n",
    "hidden_layer_size = 16\n",
    "def make_model(metrics = METRICS, output_bias=None):\n",
    "    if output_bias is not None:\n",
    "        output_bias = tf.keras.initializers.Constant(output_bias)\n",
    "    model = keras.Sequential([\n",
    "        keras.layers.Dense(hidden_layer_size, activation='relu', input_shape=(train_features.shape[-1],)),\n",
    "        keras.layers.Dropout(0.5),\n",
    "        keras.layers.Dense(hidden_layer_size, activation='relu'),\n",
    "        keras.layers.Dense(1, activation='sigmoid', bias_initializer=output_bias)\n",
    "\n",
    "    ])\n",
    "\n",
    "    model.compile(\n",
    "        optimizer=keras.optimizers.Adam(lr=1e-3),\n",
    "        loss=keras.losses.BinaryCrossentropy(),\n",
    "        metrics=metrics)\n",
    "    \n",
    "    return model"
   ]
  },
  {
   "cell_type": "code",
   "execution_count": 11,
   "metadata": {},
   "outputs": [
    {
     "name": "stdout",
     "output_type": "stream",
     "text": [
      "Model: \"sequential\"\n",
      "_________________________________________________________________\n",
      "Layer (type)                 Output Shape              Param #   \n",
      "=================================================================\n",
      "dense (Dense)                (None, 16)                192       \n",
      "_________________________________________________________________\n",
      "dropout (Dropout)            (None, 16)                0         \n",
      "_________________________________________________________________\n",
      "dense_1 (Dense)              (None, 16)                272       \n",
      "_________________________________________________________________\n",
      "dense_2 (Dense)              (None, 1)                 17        \n",
      "=================================================================\n",
      "Total params: 481\n",
      "Trainable params: 481\n",
      "Non-trainable params: 0\n",
      "_________________________________________________________________\n"
     ]
    }
   ],
   "source": [
    "model = make_model()\n",
    "model.summary()"
   ]
  },
  {
   "cell_type": "code",
   "execution_count": 13,
   "metadata": {},
   "outputs": [
    {
     "data": {
      "text/plain": [
       "array([[0.],\n",
       "       [0.],\n",
       "       [0.],\n",
       "       [0.],\n",
       "       [0.],\n",
       "       [0.],\n",
       "       [0.],\n",
       "       [0.],\n",
       "       [0.],\n",
       "       [0.]], dtype=float32)"
      ]
     },
     "execution_count": 13,
     "metadata": {},
     "output_type": "execute_result"
    }
   ],
   "source": [
    "model.predict(train_features[:10])"
   ]
  },
  {
   "cell_type": "code",
   "execution_count": 14,
   "metadata": {},
   "outputs": [
    {
     "name": "stdout",
     "output_type": "stream",
     "text": [
      "Loss: 42221.5430\n"
     ]
    }
   ],
   "source": [
    "BATCH_SIZE=2048\n",
    "\n",
    "results = model.evaluate(train_features, train_labels, batch_size=BATCH_SIZE, verbose=0)\n",
    "print (\"Loss: {:0.4f}\".format(results[0]))"
   ]
  },
  {
   "cell_type": "code",
   "execution_count": 12,
   "metadata": {},
   "outputs": [],
   "source": [
    "import os\n",
    "import tempfile\n",
    "\n",
    "initial_weights = os.path.join(tempfile.mkdtemp(), 'initial_weights')\n",
    "model.save_weights(initial_weights)"
   ]
  },
  {
   "cell_type": "markdown",
   "metadata": {},
   "source": [
    "Comparing with/without better initialization"
   ]
  },
  {
   "cell_type": "code",
   "execution_count": 18,
   "metadata": {},
   "outputs": [],
   "source": [
    "model = make_model()\n",
    "model.load_weights(initial_weights)\n",
    "model.layers[-1].bias.assign([0.0])\n",
    "\n",
    "log_dir = \"logs/fit/\" + datetime.datetime.now().strftime(\"%Y%m%d-%H%M%S\")\n",
    "tensorboard_callback = tf.keras.callbacks.TensorBoard(log_dir=log_dir, histogram_freq=1)\n",
    "\n",
    "zero_bias_history = model.fit(\n",
    "    train_features,\n",
    "    train_labels,\n",
    "    batch_size=BATCH_SIZE,\n",
    "    epochs=20,\n",
    "    validation_data=(val_features, val_labels), \n",
    "    verbose=0,\n",
    "    callbacks=[tensorboard_callback])"
   ]
  },
  {
   "cell_type": "code",
   "execution_count": 19,
   "metadata": {},
   "outputs": [
    {
     "data": {
      "text/plain": [
       "Reusing TensorBoard on port 6006 (pid 3617), started 0:00:38 ago. (Use '!kill 3617' to kill it.)"
      ]
     },
     "metadata": {},
     "output_type": "display_data"
    },
    {
     "data": {
      "text/html": [
       "\n",
       "      <iframe id=\"tensorboard-frame-a9bbc42d246f12c7\" width=\"100%\" height=\"800\" frameborder=\"0\">\n",
       "      </iframe>\n",
       "      <script>\n",
       "        (function() {\n",
       "          const frame = document.getElementById(\"tensorboard-frame-a9bbc42d246f12c7\");\n",
       "          const url = new URL(\"/\", window.location);\n",
       "          url.port = 6006;\n",
       "          frame.src = url;\n",
       "        })();\n",
       "      </script>\n",
       "  "
      ],
      "text/plain": [
       "<IPython.core.display.HTML object>"
      ]
     },
     "metadata": {},
     "output_type": "display_data"
    }
   ],
   "source": [
    "%tensorboard --logdir logs/fit\n"
   ]
  },
  {
   "cell_type": "code",
   "execution_count": 21,
   "metadata": {},
   "outputs": [],
   "source": [
    "#initial bias for imbalanced data\n",
    "initial_bias = np.log([neg/pos])\n",
    "\n",
    "model = make_model(output_bias=initial_bias)\n",
    "model.load_weights(initial_weights)\n",
    "careful_bias_history = model.fit(\n",
    "    train_features,\n",
    "    train_labels,\n",
    "    batch_size=BATCH_SIZE,\n",
    "    epochs=20,\n",
    "    validation_data=(val_features, val_labels), \n",
    "    verbose=0,\n",
    "    callbacks=[tensorboard_callback])"
   ]
  },
  {
   "cell_type": "code",
   "execution_count": 22,
   "metadata": {},
   "outputs": [],
   "source": [
    "def plot_loss(history, label, n):\n",
    "  # Use a log scale to show the wide range of values.\n",
    "  plt.semilogy(history.epoch,  history.history['loss'],\n",
    "               color=colors[n], label='Train '+label)\n",
    "  plt.semilogy(history.epoch,  history.history['val_loss'],\n",
    "          color=colors[n], label='Val '+label,\n",
    "          linestyle=\"--\")\n",
    "  plt.xlabel('Epoch')\n",
    "  plt.ylabel('Loss')\n",
    "  \n",
    "  plt.legend()"
   ]
  },
  {
   "cell_type": "code",
   "execution_count": 23,
   "metadata": {},
   "outputs": [
    {
     "data": {
      "image/png": "[encoded data removed]",
      "text/plain": [
       "<Figure size 864x720 with 1 Axes>"
      ]
     },
     "metadata": {
      "needs_background": "light"
     },
     "output_type": "display_data"
    }
   ],
   "source": [
    "plot_loss(zero_bias_history, \"Zero Bias\", 0)\n",
    "plot_loss(careful_bias_history, \"Careful Bias\", 1)"
   ]
  },
  {
   "cell_type": "code",
   "execution_count": 15,
   "metadata": {},
   "outputs": [
    {
     "name": "stdout",
     "output_type": "stream",
     "text": [
      "Epoch 1/100\n",
      "113/113 [==============================] - 1s 9ms/step - loss: 1512.2642 - tp: 184470.0000 - fp: 992.0000 - tn: 314.0000 - fn: 45018.0000 - accuracy: 0.8006 - precision: 0.9947 - recall: 0.8038 - auc: 0.5245 - val_loss: 16.6176 - val_tp: 57360.0000 - val_fp: 337.0000 - val_tn: 0.0000e+00 - val_fn: 2.0000 - val_accuracy: 0.9941 - val_precision: 0.9942 - val_recall: 1.0000 - val_auc: 0.5014\n",
      "Epoch 2/100\n",
      "113/113 [==============================] - 0s 4ms/step - loss: 15.6047 - tp: 223345.0000 - fp: 1147.0000 - tn: 159.0000 - fn: 6143.0000 - accuracy: 0.9684 - precision: 0.9949 - recall: 0.9732 - auc: 0.5539 - val_loss: 16.2485 - val_tp: 57360.0000 - val_fp: 337.0000 - val_tn: 0.0000e+00 - val_fn: 2.0000 - val_accuracy: 0.9941 - val_precision: 0.9942 - val_recall: 1.0000 - val_auc: 0.5028\n",
      "Epoch 3/100\n",
      "113/113 [==============================] - 1s 5ms/step - loss: 11.3382 - tp: 224829.0000 - fp: 1082.0000 - tn: 224.0000 - fn: 4659.0000 - accuracy: 0.9751 - precision: 0.9952 - recall: 0.9797 - auc: 0.5846 - val_loss: 15.7223 - val_tp: 57171.0000 - val_fp: 213.0000 - val_tn: 124.0000 - val_fn: 191.0000 - val_accuracy: 0.9930 - val_precision: 0.9963 - val_recall: 0.9967 - val_auc: 0.6941\n",
      "Epoch 4/100\n",
      "113/113 [==============================] - 1s 5ms/step - loss: 10.5289 - tp: 224826.0000 - fp: 1080.0000 - tn: 226.0000 - fn: 4662.0000 - accuracy: 0.9751 - precision: 0.9952 - recall: 0.9797 - auc: 0.5874 - val_loss: 15.1493 - val_tp: 57201.0000 - val_fp: 293.0000 - val_tn: 44.0000 - val_fn: 161.0000 - val_accuracy: 0.9921 - val_precision: 0.9949 - val_recall: 0.9972 - val_auc: 0.6227\n",
      "Epoch 5/100\n",
      "113/113 [==============================] - 1s 5ms/step - loss: 9.9471 - tp: 224786.0000 - fp: 1068.0000 - tn: 238.0000 - fn: 4702.0000 - accuracy: 0.9750 - precision: 0.9953 - recall: 0.9795 - auc: 0.5960 - val_loss: 14.5954 - val_tp: 57302.0000 - val_fp: 334.0000 - val_tn: 3.0000 - val_fn: 60.0000 - val_accuracy: 0.9932 - val_precision: 0.9942 - val_recall: 0.9990 - val_auc: 0.5298\n",
      "Epoch 6/100\n",
      "113/113 [==============================] - 1s 5ms/step - loss: 9.5273 - tp: 224464.0000 - fp: 1052.0000 - tn: 254.0000 - fn: 5024.0000 - accuracy: 0.9737 - precision: 0.9953 - recall: 0.9781 - auc: 0.6028 - val_loss: 14.0080 - val_tp: 57251.0000 - val_fp: 329.0000 - val_tn: 8.0000 - val_fn: 111.0000 - val_accuracy: 0.9924 - val_precision: 0.9943 - val_recall: 0.9981 - val_auc: 0.5498\n",
      "Epoch 7/100\n",
      "113/113 [==============================] - 1s 5ms/step - loss: 8.6431 - tp: 224505.0000 - fp: 1055.0000 - tn: 251.0000 - fn: 4983.0000 - accuracy: 0.9738 - precision: 0.9953 - recall: 0.9783 - auc: 0.6072 - val_loss: 11.9778 - val_tp: 57209.0000 - val_fp: 323.0000 - val_tn: 14.0000 - val_fn: 153.0000 - val_accuracy: 0.9918 - val_precision: 0.9944 - val_recall: 0.9973 - val_auc: 0.5554\n",
      "Epoch 8/100\n",
      "113/113 [==============================] - 1s 5ms/step - loss: 4.8175 - tp: 224435.0000 - fp: 1051.0000 - tn: 255.0000 - fn: 5053.0000 - accuracy: 0.9736 - precision: 0.9953 - recall: 0.9780 - auc: 0.6100 - val_loss: 8.0508 - val_tp: 57104.0000 - val_fp: 194.0000 - val_tn: 143.0000 - val_fn: 258.0000 - val_accuracy: 0.9922 - val_precision: 0.9966 - val_recall: 0.9955 - val_auc: 0.7227\n",
      "Epoch 9/100\n",
      "113/113 [==============================] - 0s 4ms/step - loss: 3.5485 - tp: 224150.0000 - fp: 1056.0000 - tn: 250.0000 - fn: 5338.0000 - accuracy: 0.9723 - precision: 0.9953 - recall: 0.9767 - auc: 0.6242 - val_loss: 7.5491 - val_tp: 57083.0000 - val_fp: 200.0000 - val_tn: 137.0000 - val_fn: 279.0000 - val_accuracy: 0.9917 - val_precision: 0.9965 - val_recall: 0.9951 - val_auc: 0.7225\n",
      "Epoch 10/100\n",
      "113/113 [==============================] - 1s 5ms/step - loss: 3.6664 - tp: 224234.0000 - fp: 1059.0000 - tn: 247.0000 - fn: 5254.0000 - accuracy: 0.9726 - precision: 0.9953 - recall: 0.9771 - auc: 0.6251 - val_loss: 7.0688 - val_tp: 57162.0000 - val_fp: 205.0000 - val_tn: 132.0000 - val_fn: 200.0000 - val_accuracy: 0.9930 - val_precision: 0.9964 - val_recall: 0.9965 - val_auc: 0.7214\n",
      "Epoch 11/100\n",
      "113/113 [==============================] - 1s 4ms/step - loss: 2.9184 - tp: 224236.0000 - fp: 1055.0000 - tn: 251.0000 - fn: 5252.0000 - accuracy: 0.9727 - precision: 0.9953 - recall: 0.9771 - auc: 0.6572 - val_loss: 6.8654 - val_tp: 57057.0000 - val_fp: 197.0000 - val_tn: 140.0000 - val_fn: 305.0000 - val_accuracy: 0.9913 - val_precision: 0.9966 - val_recall: 0.9947 - val_auc: 0.7300\n",
      "Epoch 12/100\n",
      "113/113 [==============================] - 1s 5ms/step - loss: 3.3619 - tp: 224201.0000 - fp: 1033.0000 - tn: 273.0000 - fn: 5287.0000 - accuracy: 0.9726 - precision: 0.9954 - recall: 0.9770 - auc: 0.6743 - val_loss: 6.7200 - val_tp: 57063.0000 - val_fp: 199.0000 - val_tn: 138.0000 - val_fn: 299.0000 - val_accuracy: 0.9914 - val_precision: 0.9965 - val_recall: 0.9948 - val_auc: 0.7314\n",
      "Epoch 13/100\n",
      "113/113 [==============================] - 1s 5ms/step - loss: 3.6940 - tp: 224323.0000 - fp: 1045.0000 - tn: 261.0000 - fn: 5165.0000 - accuracy: 0.9731 - precision: 0.9954 - recall: 0.9775 - auc: 0.6857 - val_loss: 6.4211 - val_tp: 57057.0000 - val_fp: 196.0000 - val_tn: 141.0000 - val_fn: 305.0000 - val_accuracy: 0.9913 - val_precision: 0.9966 - val_recall: 0.9947 - val_auc: 0.7356\n",
      "Epoch 14/100\n",
      "113/113 [==============================] - 1s 5ms/step - loss: 2.9367 - tp: 224142.0000 - fp: 1049.0000 - tn: 257.0000 - fn: 5346.0000 - accuracy: 0.9723 - precision: 0.9953 - recall: 0.9767 - auc: 0.6818 - val_loss: 6.0558 - val_tp: 57041.0000 - val_fp: 197.0000 - val_tn: 140.0000 - val_fn: 321.0000 - val_accuracy: 0.9910 - val_precision: 0.9966 - val_recall: 0.9944 - val_auc: 0.7368\n",
      "Epoch 15/100\n",
      "113/113 [==============================] - 1s 5ms/step - loss: 2.8575 - tp: 224176.0000 - fp: 1046.0000 - tn: 260.0000 - fn: 5312.0000 - accuracy: 0.9725 - precision: 0.9954 - recall: 0.9769 - auc: 0.6813 - val_loss: 6.2049 - val_tp: 56978.0000 - val_fp: 190.0000 - val_tn: 147.0000 - val_fn: 384.0000 - val_accuracy: 0.9901 - val_precision: 0.9967 - val_recall: 0.9933 - val_auc: 0.7408\n",
      "Epoch 16/100\n",
      "113/113 [==============================] - 0s 4ms/step - loss: 2.1290 - tp: 224541.0000 - fp: 1052.0000 - tn: 254.0000 - fn: 4947.0000 - accuracy: 0.9740 - precision: 0.9953 - recall: 0.9784 - auc: 0.6912 - val_loss: 5.7684 - val_tp: 56941.0000 - val_fp: 188.0000 - val_tn: 149.0000 - val_fn: 421.0000 - val_accuracy: 0.9894 - val_precision: 0.9967 - val_recall: 0.9927 - val_auc: 0.7436\n",
      "Epoch 17/100\n",
      "113/113 [==============================] - 0s 4ms/step - loss: 2.4241 - tp: 224100.0000 - fp: 1061.0000 - tn: 245.0000 - fn: 5388.0000 - accuracy: 0.9721 - precision: 0.9953 - recall: 0.9765 - auc: 0.6977 - val_loss: 5.5825 - val_tp: 57035.0000 - val_fp: 192.0000 - val_tn: 145.0000 - val_fn: 327.0000 - val_accuracy: 0.9910 - val_precision: 0.9966 - val_recall: 0.9943 - val_auc: 0.7423\n",
      "Epoch 18/100\n",
      "113/113 [==============================] - 1s 5ms/step - loss: 2.4458 - tp: 224312.0000 - fp: 1071.0000 - tn: 235.0000 - fn: 5176.0000 - accuracy: 0.9729 - precision: 0.9952 - recall: 0.9774 - auc: 0.7022 - val_loss: 5.5716 - val_tp: 57327.0000 - val_fp: 259.0000 - val_tn: 78.0000 - val_fn: 35.0000 - val_accuracy: 0.9949 - val_precision: 0.9955 - val_recall: 0.9994 - val_auc: 0.7378\n",
      "Epoch 19/100\n",
      "113/113 [==============================] - 1s 5ms/step - loss: 2.0539 - tp: 224368.0000 - fp: 1073.0000 - tn: 233.0000 - fn: 5120.0000 - accuracy: 0.9732 - precision: 0.9952 - recall: 0.9777 - auc: 0.7013 - val_loss: 5.1526 - val_tp: 57261.0000 - val_fp: 223.0000 - val_tn: 114.0000 - val_fn: 101.0000 - val_accuracy: 0.9944 - val_precision: 0.9961 - val_recall: 0.9982 - val_auc: 0.7435\n",
      "Epoch 20/100\n",
      "113/113 [==============================] - 1s 5ms/step - loss: 2.3951 - tp: 227592.0000 - fp: 1117.0000 - tn: 189.0000 - fn: 1896.0000 - accuracy: 0.9869 - precision: 0.9951 - recall: 0.9917 - auc: 0.7030 - val_loss: 4.9619 - val_tp: 57275.0000 - val_fp: 251.0000 - val_tn: 86.0000 - val_fn: 87.0000 - val_accuracy: 0.9941 - val_precision: 0.9956 - val_recall: 0.9985 - val_auc: 0.7518\n",
      "Epoch 21/100\n",
      "113/113 [==============================] - 1s 5ms/step - loss: 2.0428 - tp: 228352.0000 - fp: 1101.0000 - tn: 205.0000 - fn: 1136.0000 - accuracy: 0.9903 - precision: 0.9952 - recall: 0.9950 - auc: 0.7142 - val_loss: 4.6508 - val_tp: 56910.0000 - val_fp: 185.0000 - val_tn: 152.0000 - val_fn: 452.0000 - val_accuracy: 0.9890 - val_precision: 0.9968 - val_recall: 0.9921 - val_auc: 0.7612\n",
      "Epoch 22/100\n",
      "113/113 [==============================] - 1s 5ms/step - loss: 2.2551 - tp: 228402.0000 - fp: 1123.0000 - tn: 183.0000 - fn: 1086.0000 - accuracy: 0.9904 - precision: 0.9951 - recall: 0.9953 - auc: 0.7123 - val_loss: 4.8071 - val_tp: 57094.0000 - val_fp: 202.0000 - val_tn: 135.0000 - val_fn: 268.0000 - val_accuracy: 0.9919 - val_precision: 0.9965 - val_recall: 0.9953 - val_auc: 0.7593\n",
      "Epoch 23/100\n",
      "113/113 [==============================] - 1s 5ms/step - loss: 2.1514 - tp: 228583.0000 - fp: 1136.0000 - tn: 170.0000 - fn: 905.0000 - accuracy: 0.9912 - precision: 0.9951 - recall: 0.9961 - auc: 0.7203 - val_loss: 4.3297 - val_tp: 56979.0000 - val_fp: 211.0000 - val_tn: 126.0000 - val_fn: 383.0000 - val_accuracy: 0.9897 - val_precision: 0.9963 - val_recall: 0.9933 - val_auc: 0.7589\n",
      "Epoch 24/100\n",
      "113/113 [==============================] - 0s 4ms/step - loss: 1.8071 - tp: 228643.0000 - fp: 1137.0000 - tn: 169.0000 - fn: 845.0000 - accuracy: 0.9914 - precision: 0.9951 - recall: 0.9963 - auc: 0.7246 - val_loss: 4.2530 - val_tp: 56898.0000 - val_fp: 205.0000 - val_tn: 132.0000 - val_fn: 464.0000 - val_accuracy: 0.9884 - val_precision: 0.9964 - val_recall: 0.9919 - val_auc: 0.7640\n",
      "Epoch 25/100\n",
      "113/113 [==============================] - 1s 5ms/step - loss: 1.5836 - tp: 228716.0000 - fp: 1105.0000 - tn: 201.0000 - fn: 772.0000 - accuracy: 0.9919 - precision: 0.9952 - recall: 0.9966 - auc: 0.7352 - val_loss: 4.2137 - val_tp: 57180.0000 - val_fp: 217.0000 - val_tn: 120.0000 - val_fn: 182.0000 - val_accuracy: 0.9931 - val_precision: 0.9962 - val_recall: 0.9968 - val_auc: 0.7639\n",
      "Epoch 26/100\n",
      "113/113 [==============================] - 1s 5ms/step - loss: 1.7884 - tp: 228799.0000 - fp: 1123.0000 - tn: 183.0000 - fn: 689.0000 - accuracy: 0.9921 - precision: 0.9951 - recall: 0.9970 - auc: 0.7642 - val_loss: 3.5797 - val_tp: 57333.0000 - val_fp: 297.0000 - val_tn: 40.0000 - val_fn: 29.0000 - val_accuracy: 0.9944 - val_precision: 0.9948 - val_recall: 0.9995 - val_auc: 0.7722\n",
      "Epoch 27/100\n",
      "113/113 [==============================] - 0s 4ms/step - loss: 1.4465 - tp: 228862.0000 - fp: 1152.0000 - tn: 154.0000 - fn: 626.0000 - accuracy: 0.9923 - precision: 0.9950 - recall: 0.9973 - auc: 0.7724 - val_loss: 3.4245 - val_tp: 57356.0000 - val_fp: 304.0000 - val_tn: 33.0000 - val_fn: 6.0000 - val_accuracy: 0.9946 - val_precision: 0.9947 - val_recall: 0.9999 - val_auc: 0.7724\n",
      "Epoch 28/100\n",
      "113/113 [==============================] - 1s 5ms/step - loss: 1.1929 - tp: 228897.0000 - fp: 1130.0000 - tn: 176.0000 - fn: 591.0000 - accuracy: 0.9925 - precision: 0.9951 - recall: 0.9974 - auc: 0.7752 - val_loss: 3.0516 - val_tp: 57322.0000 - val_fp: 256.0000 - val_tn: 81.0000 - val_fn: 40.0000 - val_accuracy: 0.9949 - val_precision: 0.9956 - val_recall: 0.9993 - val_auc: 0.7771\n",
      "Epoch 29/100\n",
      "113/113 [==============================] - 0s 4ms/step - loss: 1.3046 - tp: 228920.0000 - fp: 1146.0000 - tn: 160.0000 - fn: 568.0000 - accuracy: 0.9926 - precision: 0.9950 - recall: 0.9975 - auc: 0.7648 - val_loss: 3.1912 - val_tp: 57285.0000 - val_fp: 246.0000 - val_tn: 91.0000 - val_fn: 77.0000 - val_accuracy: 0.9944 - val_precision: 0.9957 - val_recall: 0.9987 - val_auc: 0.7681\n",
      "Epoch 30/100\n",
      "113/113 [==============================] - 1s 5ms/step - loss: 1.2005 - tp: 228948.0000 - fp: 1147.0000 - tn: 159.0000 - fn: 540.0000 - accuracy: 0.9927 - precision: 0.9950 - recall: 0.9976 - auc: 0.7691 - val_loss: 2.9417 - val_tp: 57288.0000 - val_fp: 246.0000 - val_tn: 91.0000 - val_fn: 74.0000 - val_accuracy: 0.9945 - val_precision: 0.9957 - val_recall: 0.9987 - val_auc: 0.7760\n",
      "Epoch 31/100\n",
      "113/113 [==============================] - 1s 5ms/step - loss: 1.5988 - tp: 229028.0000 - fp: 1149.0000 - tn: 157.0000 - fn: 460.0000 - accuracy: 0.9930 - precision: 0.9950 - recall: 0.9980 - auc: 0.7529 - val_loss: 3.1105 - val_tp: 57361.0000 - val_fp: 337.0000 - val_tn: 0.0000e+00 - val_fn: 1.0000 - val_accuracy: 0.9941 - val_precision: 0.9942 - val_recall: 1.0000 - val_auc: 0.7704\n",
      "Epoch 32/100\n",
      "113/113 [==============================] - 0s 4ms/step - loss: 1.1160 - tp: 228815.0000 - fp: 1155.0000 - tn: 151.0000 - fn: 673.0000 - accuracy: 0.9921 - precision: 0.9950 - recall: 0.9971 - auc: 0.7838 - val_loss: 2.2533 - val_tp: 57289.0000 - val_fp: 274.0000 - val_tn: 63.0000 - val_fn: 73.0000 - val_accuracy: 0.9940 - val_precision: 0.9952 - val_recall: 0.9987 - val_auc: 0.7822\n",
      "Epoch 33/100\n",
      "113/113 [==============================] - 0s 4ms/step - loss: 0.7251 - tp: 228546.0000 - fp: 1153.0000 - tn: 153.0000 - fn: 942.0000 - accuracy: 0.9909 - precision: 0.9950 - recall: 0.9959 - auc: 0.7982 - val_loss: 1.9553 - val_tp: 57309.0000 - val_fp: 253.0000 - val_tn: 84.0000 - val_fn: 53.0000 - val_accuracy: 0.9947 - val_precision: 0.9956 - val_recall: 0.9991 - val_auc: 0.7862\n",
      "Epoch 34/100\n",
      "113/113 [==============================] - 1s 5ms/step - loss: 0.7341 - tp: 228809.0000 - fp: 1182.0000 - tn: 124.0000 - fn: 679.0000 - accuracy: 0.9919 - precision: 0.9949 - recall: 0.9970 - auc: 0.7967 - val_loss: 1.8159 - val_tp: 57362.0000 - val_fp: 336.0000 - val_tn: 1.0000 - val_fn: 0.0000e+00 - val_accuracy: 0.9942 - val_precision: 0.9942 - val_recall: 1.0000 - val_auc: 0.7806\n",
      "Epoch 35/100\n",
      "113/113 [==============================] - 0s 4ms/step - loss: 0.9446 - tp: 229085.0000 - fp: 1189.0000 - tn: 117.0000 - fn: 403.0000 - accuracy: 0.9931 - precision: 0.9948 - recall: 0.9982 - auc: 0.7878 - val_loss: 2.8006 - val_tp: 57362.0000 - val_fp: 337.0000 - val_tn: 0.0000e+00 - val_fn: 0.0000e+00 - val_accuracy: 0.9942 - val_precision: 0.9942 - val_recall: 1.0000 - val_auc: 0.7710\n",
      "Epoch 36/100\n",
      "113/113 [==============================] - 0s 4ms/step - loss: 1.0301 - tp: 229160.0000 - fp: 1183.0000 - tn: 123.0000 - fn: 328.0000 - accuracy: 0.9935 - precision: 0.9949 - recall: 0.9986 - auc: 0.7977 - val_loss: 2.4127 - val_tp: 57362.0000 - val_fp: 337.0000 - val_tn: 0.0000e+00 - val_fn: 0.0000e+00 - val_accuracy: 0.9942 - val_precision: 0.9942 - val_recall: 1.0000 - val_auc: 0.7758\n",
      "Epoch 37/100\n",
      "113/113 [==============================] - 0s 4ms/step - loss: 1.0150 - tp: 229155.0000 - fp: 1191.0000 - tn: 115.0000 - fn: 333.0000 - accuracy: 0.9934 - precision: 0.9948 - recall: 0.9985 - auc: 0.8017 - val_loss: 2.4579 - val_tp: 57362.0000 - val_fp: 337.0000 - val_tn: 0.0000e+00 - val_fn: 0.0000e+00 - val_accuracy: 0.9942 - val_precision: 0.9942 - val_recall: 1.0000 - val_auc: 0.7895\n",
      "Epoch 38/100\n",
      "113/113 [==============================] - 0s 4ms/step - loss: 0.9052 - tp: 229210.0000 - fp: 1191.0000 - tn: 115.0000 - fn: 278.0000 - accuracy: 0.9936 - precision: 0.9948 - recall: 0.9988 - auc: 0.7919 - val_loss: 1.9319 - val_tp: 57362.0000 - val_fp: 337.0000 - val_tn: 0.0000e+00 - val_fn: 0.0000e+00 - val_accuracy: 0.9942 - val_precision: 0.9942 - val_recall: 1.0000 - val_auc: 0.7765\n",
      "Epoch 39/100\n",
      "113/113 [==============================] - 0s 4ms/step - loss: 1.0124 - tp: 229088.0000 - fp: 1170.0000 - tn: 136.0000 - fn: 400.0000 - accuracy: 0.9932 - precision: 0.9949 - recall: 0.9983 - auc: 0.7958 - val_loss: 2.2302 - val_tp: 57362.0000 - val_fp: 337.0000 - val_tn: 0.0000e+00 - val_fn: 0.0000e+00 - val_accuracy: 0.9942 - val_precision: 0.9942 - val_recall: 1.0000 - val_auc: 0.7987\n",
      "Epoch 40/100\n",
      "113/113 [==============================] - 0s 4ms/step - loss: 1.0553 - tp: 229043.0000 - fp: 1188.0000 - tn: 118.0000 - fn: 445.0000 - accuracy: 0.9929 - precision: 0.9948 - recall: 0.9981 - auc: 0.8024 - val_loss: 1.8291 - val_tp: 57362.0000 - val_fp: 337.0000 - val_tn: 0.0000e+00 - val_fn: 0.0000e+00 - val_accuracy: 0.9942 - val_precision: 0.9942 - val_recall: 1.0000 - val_auc: 0.7774\n",
      "Epoch 41/100\n"
     ]
    },
    {
     "name": "stdout",
     "output_type": "stream",
     "text": [
      "113/113 [==============================] - 0s 4ms/step - loss: 1.4231 - tp: 229243.0000 - fp: 1170.0000 - tn: 136.0000 - fn: 245.0000 - accuracy: 0.9939 - precision: 0.9949 - recall: 0.9989 - auc: 0.7875 - val_loss: 1.5127 - val_tp: 57362.0000 - val_fp: 337.0000 - val_tn: 0.0000e+00 - val_fn: 0.0000e+00 - val_accuracy: 0.9942 - val_precision: 0.9942 - val_recall: 1.0000 - val_auc: 0.7933\n",
      "Epoch 42/100\n",
      "113/113 [==============================] - 0s 4ms/step - loss: 1.3180 - tp: 229204.0000 - fp: 1160.0000 - tn: 146.0000 - fn: 284.0000 - accuracy: 0.9937 - precision: 0.9950 - recall: 0.9988 - auc: 0.7959 - val_loss: 1.3800 - val_tp: 57357.0000 - val_fp: 337.0000 - val_tn: 0.0000e+00 - val_fn: 5.0000 - val_accuracy: 0.9941 - val_precision: 0.9942 - val_recall: 0.9999 - val_auc: 0.8164\n",
      "Epoch 43/100\n",
      "113/113 [==============================] - 0s 4ms/step - loss: 1.0407 - tp: 229161.0000 - fp: 1137.0000 - tn: 169.0000 - fn: 327.0000 - accuracy: 0.9937 - precision: 0.9951 - recall: 0.9986 - auc: 0.8182 - val_loss: 1.3525 - val_tp: 57344.0000 - val_fp: 287.0000 - val_tn: 50.0000 - val_fn: 18.0000 - val_accuracy: 0.9947 - val_precision: 0.9950 - val_recall: 0.9997 - val_auc: 0.8012\n",
      "Epoch 44/100\n",
      "113/113 [==============================] - 0s 4ms/step - loss: 0.6290 - tp: 229191.0000 - fp: 1150.0000 - tn: 156.0000 - fn: 297.0000 - accuracy: 0.9937 - precision: 0.9950 - recall: 0.9987 - auc: 0.8197 - val_loss: 0.7208 - val_tp: 57336.0000 - val_fp: 299.0000 - val_tn: 38.0000 - val_fn: 26.0000 - val_accuracy: 0.9944 - val_precision: 0.9948 - val_recall: 0.9995 - val_auc: 0.7858\n",
      "Epoch 45/100\n",
      "113/113 [==============================] - 0s 4ms/step - loss: 1.1127 - tp: 229205.0000 - fp: 1157.0000 - tn: 149.0000 - fn: 283.0000 - accuracy: 0.9938 - precision: 0.9950 - recall: 0.9988 - auc: 0.7964 - val_loss: 0.9450 - val_tp: 57357.0000 - val_fp: 302.0000 - val_tn: 35.0000 - val_fn: 5.0000 - val_accuracy: 0.9947 - val_precision: 0.9948 - val_recall: 0.9999 - val_auc: 0.7812\n",
      "Epoch 46/100\n",
      "113/113 [==============================] - 0s 4ms/step - loss: 0.7138 - tp: 229252.0000 - fp: 1145.0000 - tn: 161.0000 - fn: 236.0000 - accuracy: 0.9940 - precision: 0.9950 - recall: 0.9990 - auc: 0.8134 - val_loss: 0.8544 - val_tp: 57361.0000 - val_fp: 303.0000 - val_tn: 34.0000 - val_fn: 1.0000 - val_accuracy: 0.9947 - val_precision: 0.9947 - val_recall: 1.0000 - val_auc: 0.7843\n",
      "Epoch 47/100\n",
      "113/113 [==============================] - 0s 4ms/step - loss: 1.8186 - tp: 229258.0000 - fp: 1177.0000 - tn: 129.0000 - fn: 230.0000 - accuracy: 0.9939 - precision: 0.9949 - recall: 0.9990 - auc: 0.7957 - val_loss: 0.9941 - val_tp: 57362.0000 - val_fp: 337.0000 - val_tn: 0.0000e+00 - val_fn: 0.0000e+00 - val_accuracy: 0.9942 - val_precision: 0.9942 - val_recall: 1.0000 - val_auc: 0.8366\n",
      "Epoch 48/100\n",
      "113/113 [==============================] - 0s 4ms/step - loss: 0.7737 - tp: 229097.0000 - fp: 1186.0000 - tn: 120.0000 - fn: 391.0000 - accuracy: 0.9932 - precision: 0.9948 - recall: 0.9983 - auc: 0.8344 - val_loss: 1.1893 - val_tp: 57362.0000 - val_fp: 337.0000 - val_tn: 0.0000e+00 - val_fn: 0.0000e+00 - val_accuracy: 0.9942 - val_precision: 0.9942 - val_recall: 1.0000 - val_auc: 0.7834\n",
      "Epoch 49/100\n",
      "113/113 [==============================] - 0s 4ms/step - loss: 0.9471 - tp: 229283.0000 - fp: 1164.0000 - tn: 142.0000 - fn: 205.0000 - accuracy: 0.9941 - precision: 0.9949 - recall: 0.9991 - auc: 0.8144 - val_loss: 1.6375 - val_tp: 57362.0000 - val_fp: 337.0000 - val_tn: 0.0000e+00 - val_fn: 0.0000e+00 - val_accuracy: 0.9942 - val_precision: 0.9942 - val_recall: 1.0000 - val_auc: 0.7760\n",
      "Epoch 50/100\n",
      "113/113 [==============================] - 0s 4ms/step - loss: 1.0148 - tp: 229228.0000 - fp: 1141.0000 - tn: 165.0000 - fn: 260.0000 - accuracy: 0.9939 - precision: 0.9950 - recall: 0.9989 - auc: 0.8201 - val_loss: 1.4745 - val_tp: 57362.0000 - val_fp: 337.0000 - val_tn: 0.0000e+00 - val_fn: 0.0000e+00 - val_accuracy: 0.9942 - val_precision: 0.9942 - val_recall: 1.0000 - val_auc: 0.7900\n",
      "Epoch 51/100\n",
      "113/113 [==============================] - 0s 4ms/step - loss: 0.9993 - tp: 229288.0000 - fp: 1122.0000 - tn: 184.0000 - fn: 200.0000 - accuracy: 0.9943 - precision: 0.9951 - recall: 0.9991 - auc: 0.8141 - val_loss: 1.0841 - val_tp: 57350.0000 - val_fp: 276.0000 - val_tn: 61.0000 - val_fn: 12.0000 - val_accuracy: 0.9950 - val_precision: 0.9952 - val_recall: 0.9998 - val_auc: 0.8599\n",
      "Epoch 52/100\n",
      "113/113 [==============================] - 0s 4ms/step - loss: 1.2885 - tp: 229209.0000 - fp: 1178.0000 - tn: 128.0000 - fn: 279.0000 - accuracy: 0.9937 - precision: 0.9949 - recall: 0.9988 - auc: 0.8095 - val_loss: 2.3217 - val_tp: 57355.0000 - val_fp: 297.0000 - val_tn: 40.0000 - val_fn: 7.0000 - val_accuracy: 0.9947 - val_precision: 0.9948 - val_recall: 0.9999 - val_auc: 0.7708\n",
      "Epoch 53/100\n",
      "113/113 [==============================] - 0s 4ms/step - loss: 1.6539 - tp: 229359.0000 - fp: 1184.0000 - tn: 122.0000 - fn: 129.0000 - accuracy: 0.9943 - precision: 0.9949 - recall: 0.9994 - auc: 0.8068 - val_loss: 0.6341 - val_tp: 57362.0000 - val_fp: 337.0000 - val_tn: 0.0000e+00 - val_fn: 0.0000e+00 - val_accuracy: 0.9942 - val_precision: 0.9942 - val_recall: 1.0000 - val_auc: 0.8401\n",
      "Epoch 54/100\n",
      "113/113 [==============================] - 0s 4ms/step - loss: 0.7956 - tp: 229307.0000 - fp: 1176.0000 - tn: 130.0000 - fn: 181.0000 - accuracy: 0.9941 - precision: 0.9949 - recall: 0.9992 - auc: 0.8239 - val_loss: 1.1681 - val_tp: 57362.0000 - val_fp: 337.0000 - val_tn: 0.0000e+00 - val_fn: 0.0000e+00 - val_accuracy: 0.9942 - val_precision: 0.9942 - val_recall: 1.0000 - val_auc: 0.8163\n",
      "Epoch 55/100\n",
      "113/113 [==============================] - 0s 4ms/step - loss: 0.6225 - tp: 229188.0000 - fp: 1152.0000 - tn: 154.0000 - fn: 300.0000 - accuracy: 0.9937 - precision: 0.9950 - recall: 0.9987 - auc: 0.8359 - val_loss: 0.8908 - val_tp: 57362.0000 - val_fp: 337.0000 - val_tn: 0.0000e+00 - val_fn: 0.0000e+00 - val_accuracy: 0.9942 - val_precision: 0.9942 - val_recall: 1.0000 - val_auc: 0.8047\n",
      "Epoch 56/100\n",
      "113/113 [==============================] - 0s 4ms/step - loss: 0.9628 - tp: 229275.0000 - fp: 1176.0000 - tn: 130.0000 - fn: 213.0000 - accuracy: 0.9940 - precision: 0.9949 - recall: 0.9991 - auc: 0.8230 - val_loss: 0.8680 - val_tp: 57362.0000 - val_fp: 337.0000 - val_tn: 0.0000e+00 - val_fn: 0.0000e+00 - val_accuracy: 0.9942 - val_precision: 0.9942 - val_recall: 1.0000 - val_auc: 0.8279\n",
      "Epoch 57/100\n",
      "113/113 [==============================] - 1s 5ms/step - loss: 0.7489 - tp: 229336.0000 - fp: 1164.0000 - tn: 142.0000 - fn: 152.0000 - accuracy: 0.9943 - precision: 0.9950 - recall: 0.9993 - auc: 0.8442 - val_loss: 0.5257 - val_tp: 57362.0000 - val_fp: 337.0000 - val_tn: 0.0000e+00 - val_fn: 0.0000e+00 - val_accuracy: 0.9942 - val_precision: 0.9942 - val_recall: 1.0000 - val_auc: 0.8639\n",
      "Epoch 58/100\n",
      "113/113 [==============================] - 1s 5ms/step - loss: 0.7749 - tp: 229237.0000 - fp: 1153.0000 - tn: 153.0000 - fn: 251.0000 - accuracy: 0.9939 - precision: 0.9950 - recall: 0.9989 - auc: 0.8358 - val_loss: 0.4132 - val_tp: 57362.0000 - val_fp: 337.0000 - val_tn: 0.0000e+00 - val_fn: 0.0000e+00 - val_accuracy: 0.9942 - val_precision: 0.9942 - val_recall: 1.0000 - val_auc: 0.8315\n",
      "Epoch 59/100\n",
      "113/113 [==============================] - 1s 5ms/step - loss: 0.9038 - tp: 229324.0000 - fp: 1159.0000 - tn: 147.0000 - fn: 164.0000 - accuracy: 0.9943 - precision: 0.9950 - recall: 0.9993 - auc: 0.8444 - val_loss: 0.3885 - val_tp: 57362.0000 - val_fp: 337.0000 - val_tn: 0.0000e+00 - val_fn: 0.0000e+00 - val_accuracy: 0.9942 - val_precision: 0.9942 - val_recall: 1.0000 - val_auc: 0.8636\n",
      "Epoch 60/100\n",
      "113/113 [==============================] - 1s 5ms/step - loss: 0.3468 - tp: 229029.0000 - fp: 1129.0000 - tn: 177.0000 - fn: 459.0000 - accuracy: 0.9931 - precision: 0.9951 - recall: 0.9980 - auc: 0.8508 - val_loss: 0.2887 - val_tp: 57359.0000 - val_fp: 286.0000 - val_tn: 51.0000 - val_fn: 3.0000 - val_accuracy: 0.9950 - val_precision: 0.9950 - val_recall: 0.9999 - val_auc: 0.8383\n",
      "Epoch 61/100\n",
      "113/113 [==============================] - 1s 4ms/step - loss: 1.1371 - tp: 229269.0000 - fp: 1173.0000 - tn: 133.0000 - fn: 219.0000 - accuracy: 0.9940 - precision: 0.9949 - recall: 0.9990 - auc: 0.8413 - val_loss: 0.9675 - val_tp: 57360.0000 - val_fp: 286.0000 - val_tn: 51.0000 - val_fn: 2.0000 - val_accuracy: 0.9950 - val_precision: 0.9950 - val_recall: 1.0000 - val_auc: 0.8505\n",
      "Epoch 62/100\n",
      "113/113 [==============================] - 0s 4ms/step - loss: 1.0148 - tp: 229357.0000 - fp: 1142.0000 - tn: 164.0000 - fn: 131.0000 - accuracy: 0.9945 - precision: 0.9950 - recall: 0.9994 - auc: 0.8469 - val_loss: 1.4220 - val_tp: 57360.0000 - val_fp: 294.0000 - val_tn: 43.0000 - val_fn: 2.0000 - val_accuracy: 0.9949 - val_precision: 0.9949 - val_recall: 1.0000 - val_auc: 0.8415\n",
      "Epoch 63/100\n",
      "113/113 [==============================] - 0s 4ms/step - loss: 0.6226 - tp: 229212.0000 - fp: 1110.0000 - tn: 196.0000 - fn: 276.0000 - accuracy: 0.9940 - precision: 0.9952 - recall: 0.9988 - auc: 0.8483 - val_loss: 0.9883 - val_tp: 57358.0000 - val_fp: 277.0000 - val_tn: 60.0000 - val_fn: 4.0000 - val_accuracy: 0.9951 - val_precision: 0.9952 - val_recall: 0.9999 - val_auc: 0.8590\n",
      "Epoch 64/100\n",
      "113/113 [==============================] - 0s 4ms/step - loss: 0.5605 - tp: 229191.0000 - fp: 1115.0000 - tn: 191.0000 - fn: 297.0000 - accuracy: 0.9939 - precision: 0.9952 - recall: 0.9987 - auc: 0.8529 - val_loss: 0.7363 - val_tp: 57362.0000 - val_fp: 337.0000 - val_tn: 0.0000e+00 - val_fn: 0.0000e+00 - val_accuracy: 0.9942 - val_precision: 0.9942 - val_recall: 1.0000 - val_auc: 0.8646\n",
      "Epoch 65/100\n",
      "113/113 [==============================] - 0s 4ms/step - loss: 0.8966 - tp: 229250.0000 - fp: 1141.0000 - tn: 165.0000 - fn: 238.0000 - accuracy: 0.9940 - precision: 0.9950 - recall: 0.9990 - auc: 0.8326 - val_loss: 0.9767 - val_tp: 57361.0000 - val_fp: 303.0000 - val_tn: 34.0000 - val_fn: 1.0000 - val_accuracy: 0.9947 - val_precision: 0.9947 - val_recall: 1.0000 - val_auc: 0.8358\n",
      "Epoch 66/100\n",
      "113/113 [==============================] - 1s 5ms/step - loss: 0.8049 - tp: 229182.0000 - fp: 1140.0000 - tn: 166.0000 - fn: 306.0000 - accuracy: 0.9937 - precision: 0.9951 - recall: 0.9987 - auc: 0.8546 - val_loss: 0.3217 - val_tp: 57362.0000 - val_fp: 331.0000 - val_tn: 6.0000 - val_fn: 0.0000e+00 - val_accuracy: 0.9943 - val_precision: 0.9943 - val_recall: 1.0000 - val_auc: 0.8385\n",
      "Epoch 67/100\n",
      "113/113 [==============================] - 1s 5ms/step - loss: 0.7781 - tp: 229202.0000 - fp: 1139.0000 - tn: 167.0000 - fn: 286.0000 - accuracy: 0.9938 - precision: 0.9951 - recall: 0.9988 - auc: 0.8376 - val_loss: 1.4358 - val_tp: 57358.0000 - val_fp: 293.0000 - val_tn: 44.0000 - val_fn: 4.0000 - val_accuracy: 0.9949 - val_precision: 0.9949 - val_recall: 0.9999 - val_auc: 0.8470\n",
      "Epoch 68/100\n",
      "113/113 [==============================] - 1s 5ms/step - loss: 0.9882 - tp: 229233.0000 - fp: 1124.0000 - tn: 182.0000 - fn: 255.0000 - accuracy: 0.9940 - precision: 0.9951 - recall: 0.9989 - auc: 0.8621 - val_loss: 0.5863 - val_tp: 57362.0000 - val_fp: 337.0000 - val_tn: 0.0000e+00 - val_fn: 0.0000e+00 - val_accuracy: 0.9942 - val_precision: 0.9942 - val_recall: 1.0000 - val_auc: 0.8747\n",
      "Epoch 69/100\n",
      "113/113 [==============================] - 1s 5ms/step - loss: 0.4485 - tp: 229265.0000 - fp: 1101.0000 - tn: 205.0000 - fn: 223.0000 - accuracy: 0.9943 - precision: 0.9952 - recall: 0.9990 - auc: 0.8631 - val_loss: 0.3632 - val_tp: 57362.0000 - val_fp: 337.0000 - val_tn: 0.0000e+00 - val_fn: 0.0000e+00 - val_accuracy: 0.9942 - val_precision: 0.9942 - val_recall: 1.0000 - val_auc: 0.8374\n",
      "Epoch 70/100\n",
      "113/113 [==============================] - 1s 4ms/step - loss: 1.0235 - tp: 229385.0000 - fp: 1123.0000 - tn: 183.0000 - fn: 103.0000 - accuracy: 0.9947 - precision: 0.9951 - recall: 0.9996 - auc: 0.8547 - val_loss: 0.5158 - val_tp: 57362.0000 - val_fp: 337.0000 - val_tn: 0.0000e+00 - val_fn: 0.0000e+00 - val_accuracy: 0.9942 - val_precision: 0.9942 - val_recall: 1.0000 - val_auc: 0.8732\n",
      "Epoch 71/100\n",
      "113/113 [==============================] - 1s 5ms/step - loss: 0.3006 - tp: 229309.0000 - fp: 1114.0000 - tn: 192.0000 - fn: 179.0000 - accuracy: 0.9944 - precision: 0.9952 - recall: 0.9992 - auc: 0.8568 - val_loss: 0.5753 - val_tp: 57358.0000 - val_fp: 276.0000 - val_tn: 61.0000 - val_fn: 4.0000 - val_accuracy: 0.9951 - val_precision: 0.9952 - val_recall: 0.9999 - val_auc: 0.8665\n",
      "Epoch 72/100\n",
      "113/113 [==============================] - 1s 5ms/step - loss: 0.7745 - tp: 229317.0000 - fp: 1121.0000 - tn: 185.0000 - fn: 171.0000 - accuracy: 0.9944 - precision: 0.9951 - recall: 0.9993 - auc: 0.8573 - val_loss: 0.3597 - val_tp: 57358.0000 - val_fp: 280.0000 - val_tn: 57.0000 - val_fn: 4.0000 - val_accuracy: 0.9951 - val_precision: 0.9951 - val_recall: 0.9999 - val_auc: 0.8718\n",
      "Epoch 73/100\n",
      "113/113 [==============================] - 1s 5ms/step - loss: 0.6750 - tp: 229316.0000 - fp: 1117.0000 - tn: 189.0000 - fn: 172.0000 - accuracy: 0.9944 - precision: 0.9952 - recall: 0.9993 - auc: 0.8518 - val_loss: 0.9375 - val_tp: 57360.0000 - val_fp: 281.0000 - val_tn: 56.0000 - val_fn: 2.0000 - val_accuracy: 0.9951 - val_precision: 0.9951 - val_recall: 1.0000 - val_auc: 0.8654\n",
      "Epoch 74/100\n",
      "113/113 [==============================] - 1s 5ms/step - loss: 0.5222 - tp: 229379.0000 - fp: 1115.0000 - tn: 191.0000 - fn: 109.0000 - accuracy: 0.9947 - precision: 0.9952 - recall: 0.9995 - auc: 0.8652 - val_loss: 0.2430 - val_tp: 57359.0000 - val_fp: 285.0000 - val_tn: 52.0000 - val_fn: 3.0000 - val_accuracy: 0.9950 - val_precision: 0.9951 - val_recall: 0.9999 - val_auc: 0.8812\n",
      "Epoch 75/100\n",
      "113/113 [==============================] - 1s 5ms/step - loss: 0.1171 - tp: 229345.0000 - fp: 1109.0000 - tn: 197.0000 - fn: 143.0000 - accuracy: 0.9946 - precision: 0.9952 - recall: 0.9994 - auc: 0.8714 - val_loss: 0.0504 - val_tp: 57360.0000 - val_fp: 337.0000 - val_tn: 0.0000e+00 - val_fn: 2.0000 - val_accuracy: 0.9941 - val_precision: 0.9942 - val_recall: 1.0000 - val_auc: 0.8913\n",
      "Epoch 76/100\n",
      "113/113 [==============================] - 1s 5ms/step - loss: 0.1130 - tp: 229315.0000 - fp: 1126.0000 - tn: 180.0000 - fn: 173.0000 - accuracy: 0.9944 - precision: 0.9951 - recall: 0.9992 - auc: 0.8707 - val_loss: 0.3982 - val_tp: 57361.0000 - val_fp: 302.0000 - val_tn: 35.0000 - val_fn: 1.0000 - val_accuracy: 0.9947 - val_precision: 0.9948 - val_recall: 1.0000 - val_auc: 0.8717\n",
      "Epoch 77/100\n",
      "113/113 [==============================] - 1s 5ms/step - loss: 0.1823 - tp: 229336.0000 - fp: 1116.0000 - tn: 190.0000 - fn: 152.0000 - accuracy: 0.9945 - precision: 0.9952 - recall: 0.9993 - auc: 0.8755 - val_loss: 0.0581 - val_tp: 57361.0000 - val_fp: 336.0000 - val_tn: 1.0000 - val_fn: 1.0000 - val_accuracy: 0.9942 - val_precision: 0.9942 - val_recall: 1.0000 - val_auc: 0.8802\n",
      "Epoch 78/100\n",
      "113/113 [==============================] - 1s 5ms/step - loss: 0.1897 - tp: 229244.0000 - fp: 1134.0000 - tn: 172.0000 - fn: 244.0000 - accuracy: 0.9940 - precision: 0.9951 - recall: 0.9989 - auc: 0.8640 - val_loss: 0.3358 - val_tp: 57362.0000 - val_fp: 337.0000 - val_tn: 0.0000e+00 - val_fn: 0.0000e+00 - val_accuracy: 0.9942 - val_precision: 0.9942 - val_recall: 1.0000 - val_auc: 0.8593\n",
      "Epoch 79/100\n",
      "113/113 [==============================] - 1s 5ms/step - loss: 0.5367 - tp: 229286.0000 - fp: 1118.0000 - tn: 188.0000 - fn: 202.0000 - accuracy: 0.9943 - precision: 0.9951 - recall: 0.9991 - auc: 0.8597 - val_loss: 0.3361 - val_tp: 57362.0000 - val_fp: 306.0000 - val_tn: 31.0000 - val_fn: 0.0000e+00 - val_accuracy: 0.9947 - val_precision: 0.9947 - val_recall: 1.0000 - val_auc: 0.8798\n",
      "Epoch 80/100\n",
      "113/113 [==============================] - 1s 5ms/step - loss: 0.3221 - tp: 229328.0000 - fp: 1119.0000 - tn: 187.0000 - fn: 160.0000 - accuracy: 0.9945 - precision: 0.9951 - recall: 0.9993 - auc: 0.8608 - val_loss: 0.0437 - val_tp: 57361.0000 - val_fp: 309.0000 - val_tn: 28.0000 - val_fn: 1.0000 - val_accuracy: 0.9946 - val_precision: 0.9946 - val_recall: 1.0000 - val_auc: 0.8863\n",
      "Epoch 81/100\n",
      "113/113 [==============================] - 1s 5ms/step - loss: 0.4045 - tp: 229311.0000 - fp: 1107.0000 - tn: 199.0000 - fn: 177.0000 - accuracy: 0.9944 - precision: 0.9952 - recall: 0.9992 - auc: 0.8687 - val_loss: 0.5204 - val_tp: 57362.0000 - val_fp: 337.0000 - val_tn: 0.0000e+00 - val_fn: 0.0000e+00 - val_accuracy: 0.9942 - val_precision: 0.9942 - val_recall: 1.0000 - val_auc: 0.8789\n"
     ]
    },
    {
     "name": "stdout",
     "output_type": "stream",
     "text": [
      "Epoch 82/100\n",
      "113/113 [==============================] - 1s 5ms/step - loss: 0.3017 - tp: 229244.0000 - fp: 1112.0000 - tn: 194.0000 - fn: 244.0000 - accuracy: 0.9941 - precision: 0.9952 - recall: 0.9989 - auc: 0.8636 - val_loss: 0.5337 - val_tp: 57359.0000 - val_fp: 280.0000 - val_tn: 57.0000 - val_fn: 3.0000 - val_accuracy: 0.9951 - val_precision: 0.9951 - val_recall: 0.9999 - val_auc: 0.8294\n",
      "Epoch 83/100\n",
      "113/113 [==============================] - 1s 5ms/step - loss: 0.7981 - tp: 229295.0000 - fp: 1138.0000 - tn: 168.0000 - fn: 193.0000 - accuracy: 0.9942 - precision: 0.9951 - recall: 0.9992 - auc: 0.8526 - val_loss: 0.6031 - val_tp: 57350.0000 - val_fp: 293.0000 - val_tn: 44.0000 - val_fn: 12.0000 - val_accuracy: 0.9947 - val_precision: 0.9949 - val_recall: 0.9998 - val_auc: 0.8859\n",
      "Epoch 84/100\n",
      "113/113 [==============================] - 1s 5ms/step - loss: 0.5342 - tp: 229385.0000 - fp: 1087.0000 - tn: 219.0000 - fn: 103.0000 - accuracy: 0.9948 - precision: 0.9953 - recall: 0.9996 - auc: 0.8760 - val_loss: 0.2224 - val_tp: 57361.0000 - val_fp: 302.0000 - val_tn: 35.0000 - val_fn: 1.0000 - val_accuracy: 0.9947 - val_precision: 0.9948 - val_recall: 1.0000 - val_auc: 0.8935\n",
      "Epoch 85/100\n",
      "113/113 [==============================] - 1s 4ms/step - loss: 0.2039 - tp: 229314.0000 - fp: 1086.0000 - tn: 220.0000 - fn: 174.0000 - accuracy: 0.9945 - precision: 0.9953 - recall: 0.9992 - auc: 0.8796 - val_loss: 0.0399 - val_tp: 57186.0000 - val_fp: 336.0000 - val_tn: 1.0000 - val_fn: 176.0000 - val_accuracy: 0.9911 - val_precision: 0.9942 - val_recall: 0.9969 - val_auc: 0.8918\n",
      "Epoch 86/100\n",
      "113/113 [==============================] - 1s 5ms/step - loss: 0.1469 - tp: 229335.0000 - fp: 1124.0000 - tn: 182.0000 - fn: 153.0000 - accuracy: 0.9945 - precision: 0.9951 - recall: 0.9993 - auc: 0.8767 - val_loss: 0.1253 - val_tp: 57362.0000 - val_fp: 337.0000 - val_tn: 0.0000e+00 - val_fn: 0.0000e+00 - val_accuracy: 0.9942 - val_precision: 0.9942 - val_recall: 1.0000 - val_auc: 0.9023\n",
      "Epoch 87/100\n",
      "113/113 [==============================] - 1s 5ms/step - loss: 0.1032 - tp: 229332.0000 - fp: 1106.0000 - tn: 200.0000 - fn: 156.0000 - accuracy: 0.9945 - precision: 0.9952 - recall: 0.9993 - auc: 0.8755 - val_loss: 0.0280 - val_tp: 57362.0000 - val_fp: 337.0000 - val_tn: 0.0000e+00 - val_fn: 0.0000e+00 - val_accuracy: 0.9942 - val_precision: 0.9942 - val_recall: 1.0000 - val_auc: 0.8977\n",
      "Epoch 88/100\n",
      "113/113 [==============================] - 1s 5ms/step - loss: 0.0677 - tp: 229355.0000 - fp: 1084.0000 - tn: 222.0000 - fn: 133.0000 - accuracy: 0.9947 - precision: 0.9953 - recall: 0.9994 - auc: 0.8781 - val_loss: 0.1841 - val_tp: 57362.0000 - val_fp: 337.0000 - val_tn: 0.0000e+00 - val_fn: 0.0000e+00 - val_accuracy: 0.9942 - val_precision: 0.9942 - val_recall: 1.0000 - val_auc: 0.9029\n",
      "Epoch 89/100\n",
      "113/113 [==============================] - 1s 5ms/step - loss: 0.1013 - tp: 229398.0000 - fp: 1085.0000 - tn: 221.0000 - fn: 90.0000 - accuracy: 0.9949 - precision: 0.9953 - recall: 0.9996 - auc: 0.8737 - val_loss: 0.0410 - val_tp: 57362.0000 - val_fp: 337.0000 - val_tn: 0.0000e+00 - val_fn: 0.0000e+00 - val_accuracy: 0.9942 - val_precision: 0.9942 - val_recall: 1.0000 - val_auc: 0.9061\n",
      "Epoch 90/100\n",
      "113/113 [==============================] - 1s 5ms/step - loss: 0.1421 - tp: 229394.0000 - fp: 1116.0000 - tn: 190.0000 - fn: 94.0000 - accuracy: 0.9948 - precision: 0.9952 - recall: 0.9996 - auc: 0.8767 - val_loss: 0.1192 - val_tp: 57362.0000 - val_fp: 298.0000 - val_tn: 39.0000 - val_fn: 0.0000e+00 - val_accuracy: 0.9948 - val_precision: 0.9948 - val_recall: 1.0000 - val_auc: 0.9115\n",
      "Epoch 91/100\n",
      "113/113 [==============================] - 1s 5ms/step - loss: 0.0948 - tp: 229411.0000 - fp: 1088.0000 - tn: 218.0000 - fn: 77.0000 - accuracy: 0.9950 - precision: 0.9953 - recall: 0.9997 - auc: 0.8731 - val_loss: 0.0302 - val_tp: 57362.0000 - val_fp: 334.0000 - val_tn: 3.0000 - val_fn: 0.0000e+00 - val_accuracy: 0.9942 - val_precision: 0.9942 - val_recall: 1.0000 - val_auc: 0.9051\n",
      "Epoch 92/100\n",
      "113/113 [==============================] - 1s 5ms/step - loss: 0.0520 - tp: 229344.0000 - fp: 1124.0000 - tn: 182.0000 - fn: 144.0000 - accuracy: 0.9945 - precision: 0.9951 - recall: 0.9994 - auc: 0.8738 - val_loss: 0.0279 - val_tp: 57337.0000 - val_fp: 336.0000 - val_tn: 1.0000 - val_fn: 25.0000 - val_accuracy: 0.9937 - val_precision: 0.9942 - val_recall: 0.9996 - val_auc: 0.8880\n",
      "Epoch 93/100\n",
      "113/113 [==============================] - 0s 4ms/step - loss: 0.0313 - tp: 229369.0000 - fp: 1117.0000 - tn: 189.0000 - fn: 119.0000 - accuracy: 0.9946 - precision: 0.9952 - recall: 0.9995 - auc: 0.8707 - val_loss: 0.0261 - val_tp: 57362.0000 - val_fp: 337.0000 - val_tn: 0.0000e+00 - val_fn: 0.0000e+00 - val_accuracy: 0.9942 - val_precision: 0.9942 - val_recall: 1.0000 - val_auc: 0.9016\n",
      "Epoch 94/100\n",
      "113/113 [==============================] - 1s 5ms/step - loss: 0.1386 - tp: 229327.0000 - fp: 1102.0000 - tn: 204.0000 - fn: 161.0000 - accuracy: 0.9945 - precision: 0.9952 - recall: 0.9993 - auc: 0.8608 - val_loss: 0.1360 - val_tp: 57361.0000 - val_fp: 304.0000 - val_tn: 33.0000 - val_fn: 1.0000 - val_accuracy: 0.9947 - val_precision: 0.9947 - val_recall: 1.0000 - val_auc: 0.9053\n",
      "Epoch 95/100\n",
      "113/113 [==============================] - 1s 5ms/step - loss: 0.1305 - tp: 229399.0000 - fp: 1100.0000 - tn: 206.0000 - fn: 89.0000 - accuracy: 0.9948 - precision: 0.9952 - recall: 0.9996 - auc: 0.8664 - val_loss: 0.0681 - val_tp: 57362.0000 - val_fp: 336.0000 - val_tn: 1.0000 - val_fn: 0.0000e+00 - val_accuracy: 0.9942 - val_precision: 0.9942 - val_recall: 1.0000 - val_auc: 0.8977\n",
      "Epoch 96/100\n",
      "113/113 [==============================] - 1s 5ms/step - loss: 0.0600 - tp: 229410.0000 - fp: 1135.0000 - tn: 171.0000 - fn: 78.0000 - accuracy: 0.9947 - precision: 0.9951 - recall: 0.9997 - auc: 0.8668 - val_loss: 0.0429 - val_tp: 57355.0000 - val_fp: 327.0000 - val_tn: 10.0000 - val_fn: 7.0000 - val_accuracy: 0.9942 - val_precision: 0.9943 - val_recall: 0.9999 - val_auc: 0.8862\n",
      "Epoch 97/100\n",
      "113/113 [==============================] - 1s 5ms/step - loss: 0.0487 - tp: 229389.0000 - fp: 1124.0000 - tn: 182.0000 - fn: 99.0000 - accuracy: 0.9947 - precision: 0.9951 - recall: 0.9996 - auc: 0.8540 - val_loss: 0.0291 - val_tp: 57362.0000 - val_fp: 301.0000 - val_tn: 36.0000 - val_fn: 0.0000e+00 - val_accuracy: 0.9948 - val_precision: 0.9948 - val_recall: 1.0000 - val_auc: 0.8989\n",
      "Epoch 98/100\n",
      "113/113 [==============================] - 1s 5ms/step - loss: 0.0310 - tp: 229406.0000 - fp: 1120.0000 - tn: 186.0000 - fn: 82.0000 - accuracy: 0.9948 - precision: 0.9951 - recall: 0.9996 - auc: 0.8525 - val_loss: 0.0322 - val_tp: 57360.0000 - val_fp: 283.0000 - val_tn: 54.0000 - val_fn: 2.0000 - val_accuracy: 0.9951 - val_precision: 0.9951 - val_recall: 1.0000 - val_auc: 0.8030\n",
      "Epoch 99/100\n",
      "113/113 [==============================] - 1s 4ms/step - loss: 0.0325 - tp: 229405.0000 - fp: 1103.0000 - tn: 203.0000 - fn: 83.0000 - accuracy: 0.9949 - precision: 0.9952 - recall: 0.9996 - auc: 0.8395 - val_loss: 0.0270 - val_tp: 57362.0000 - val_fp: 337.0000 - val_tn: 0.0000e+00 - val_fn: 0.0000e+00 - val_accuracy: 0.9942 - val_precision: 0.9942 - val_recall: 1.0000 - val_auc: 0.9031\n",
      "Epoch 100/100\n",
      "104/113 [==========================>...] - ETA: 0s - loss: 0.0296 - tp: 211710.0000 - fp: 1017.0000 - tn: 191.0000 - fn: 74.0000 - accuracy: 0.9949 - precision: 0.9952 - recall: 0.9997 - auc: 0.8213Restoring model weights from the end of the best epoch.\n",
      "113/113 [==============================] - 0s 4ms/step - loss: 0.0354 - tp: 229412.0000 - fp: 1099.0000 - tn: 207.0000 - fn: 76.0000 - accuracy: 0.9949 - precision: 0.9952 - recall: 0.9997 - auc: 0.8223 - val_loss: 0.1007 - val_tp: 57362.0000 - val_fp: 297.0000 - val_tn: 40.0000 - val_fn: 0.0000e+00 - val_accuracy: 0.9949 - val_precision: 0.9948 - val_recall: 1.0000 - val_auc: 0.9020\n",
      "Epoch 00100: early stopping\n"
     ]
    }
   ],
   "source": [
    "EPOCHS = 100\n",
    "BATCH_SIZE = 2048\n",
    "early_stopping = tf.keras.callbacks.EarlyStopping(\n",
    "    monitor='val_auc', \n",
    "    verbose=1,\n",
    "    patience=10,\n",
    "    mode='max',\n",
    "    restore_best_weights=True)\n",
    "\n",
    "initial_bias = np.log([neg/pos])\n",
    "\n",
    "model = make_model(output_bias=initial_bias)\n",
    "model.load_weights(initial_weights)\n",
    "baseline_history = model.fit(\n",
    "    train_features,\n",
    "    train_labels,\n",
    "    batch_size=BATCH_SIZE,\n",
    "    epochs=EPOCHS,\n",
    "    callbacks = [early_stopping],\n",
    "    validation_data=(val_features, val_labels))"
   ]
  },
  {
   "cell_type": "code",
   "execution_count": 16,
   "metadata": {},
   "outputs": [],
   "source": [
    "def plot_metrics(history):\n",
    "  metrics =  ['loss', 'auc', 'precision', 'recall']\n",
    "  for n, metric in enumerate(metrics):\n",
    "    name = metric.replace(\"_\",\" \").capitalize()\n",
    "    plt.subplot(2,2,n+1)\n",
    "    plt.plot(history.epoch,  history.history[metric], color=colors[0], label='Train')\n",
    "    plt.plot(history.epoch, history.history['val_'+metric],\n",
    "             color=colors[0], linestyle=\"--\", label='Val')\n",
    "    plt.xlabel('Epoch')\n",
    "    plt.ylabel(name)\n",
    "    if metric == 'loss':\n",
    "      plt.ylim([0, plt.ylim()[1]])\n",
    "    elif metric == 'auc':\n",
    "      plt.ylim([0.8,1])\n",
    "    else:\n",
    "      plt.ylim([0,1])\n",
    "\n",
    "    plt.legend()"
   ]
  },
  {
   "cell_type": "code",
   "execution_count": 28,
   "metadata": {},
   "outputs": [
    {
     "data": {
      "text/plain": [
       "Reusing TensorBoard on port 6006 (pid 3617), started 0:04:02 ago. (Use '!kill 3617' to kill it.)"
      ]
     },
     "metadata": {},
     "output_type": "display_data"
    },
    {
     "data": {
      "text/html": [
       "\n",
       "      <iframe id=\"tensorboard-frame-f86c7aec5c9ebce7\" width=\"100%\" height=\"800\" frameborder=\"0\">\n",
       "      </iframe>\n",
       "      <script>\n",
       "        (function() {\n",
       "          const frame = document.getElementById(\"tensorboard-frame-f86c7aec5c9ebce7\");\n",
       "          const url = new URL(\"/\", window.location);\n",
       "          url.port = 6006;\n",
       "          frame.src = url;\n",
       "        })();\n",
       "      </script>\n",
       "  "
      ],
      "text/plain": [
       "<IPython.core.display.HTML object>"
      ]
     },
     "metadata": {},
     "output_type": "display_data"
    }
   ],
   "source": [
    "%tensorboard --logdir logs/fit\n"
   ]
  },
  {
   "cell_type": "code",
   "execution_count": 17,
   "metadata": {},
   "outputs": [
    {
     "data": {
      "image/png": "[encoded data removed]",
      "text/plain": [
       "<Figure size 864x720 with 4 Axes>"
      ]
     },
     "metadata": {
      "needs_background": "light"
     },
     "output_type": "display_data"
    }
   ],
   "source": [
    "plot_metrics(baseline_history)\n"
   ]
  },
  {
   "cell_type": "markdown",
   "metadata": {},
   "source": [
    "# Confusion Matrix"
   ]
  },
  {
   "cell_type": "code",
   "execution_count": 48,
   "metadata": {},
   "outputs": [],
   "source": [
    "val_predictions_baseline = model.predict(val_features, batch_size=BATCH_SIZE)"
   ]
  },
  {
   "cell_type": "code",
   "execution_count": 49,
   "metadata": {},
   "outputs": [],
   "source": [
    "def plot_cm(labels, predictions, p=0.5):\n",
    "  cm = confusion_matrix(labels, predictions > p)\n",
    "  plt.figure(figsize=(5,5))\n",
    "  sns.heatmap(cm, annot=True, fmt=\"d\")\n",
    "  plt.title('Confusion matrix @{:.2f}'.format(p))\n",
    "  plt.ylabel('Actual label')\n",
    "  plt.xlabel('Predicted label')\n",
    "\n",
    "  print('Legitimate Transactions Detected (True Negatives): ', cm[0][0])\n",
    "  print('Legitimate Transactions Incorrectly Detected (False Positives): ', cm[0][1])\n",
    "  print('Fraudulent Transactions Missed (False Negatives): ', cm[1][0])\n",
    "  print('Fraudulent Transactions Detected (True Positives): ', cm[1][1])\n",
    "  print('Total Fraudulent Transactions: ', np.sum(cm[1]))"
   ]
  },
  {
   "cell_type": "code",
   "execution_count": 50,
   "metadata": {},
   "outputs": [
    {
     "name": "stdout",
     "output_type": "stream",
     "text": [
      "loss :  1.464199423789978\n",
      "tp :  57208.0\n",
      "fp :  299.0\n",
      "tn :  9.0\n",
      "fn :  183.0\n",
      "accuracy :  0.9916462898254395\n",
      "precision :  0.9948006272315979\n",
      "recall :  0.9968113303184509\n",
      "auc :  0.7687747478485107\n",
      "\n",
      "Legitimate Transactions Detected (True Negatives):  9\n",
      "Legitimate Transactions Incorrectly Detected (False Positives):  299\n",
      "Fraudulent Transactions Missed (False Negatives):  183\n",
      "Fraudulent Transactions Detected (True Positives):  57208\n",
      "Total Fraudulent Transactions:  57391\n"
     ]
    },
    {
     "data": {
      "image/png": "[encoded data removed]",
      "text/plain": [
       "<Figure size 360x360 with 2 Axes>"
      ]
     },
     "metadata": {
      "needs_background": "light"
     },
     "output_type": "display_data"
    }
   ],
   "source": [
    "baseline_results = model.evaluate(val_features, val_labels,\n",
    "                                  batch_size=BATCH_SIZE, verbose=0)\n",
    "for name, value in zip(model.metrics_names, baseline_results):\n",
    "  print(name, ': ', value)\n",
    "print()\n",
    "\n",
    "plot_cm(val_labels, val_predictions_baseline)"
   ]
  },
  {
   "cell_type": "code",
   "execution_count": 25,
   "metadata": {},
   "outputs": [
    {
     "name": "stdout",
     "output_type": "stream",
     "text": [
      "Weight for class 0: 89.93\n",
      "Weight for class 1: 0.50\n"
     ]
    }
   ],
   "source": [
    "total = pos + neg\n",
    "weight_for_0 = (1/neg)*(total)/2.0\n",
    "weight_for_1 = (1/pos)*(total)/2.0\n",
    "\n",
    "class_weight={0: weight_for_0, 1: weight_for_1}\n",
    "\n",
    "print('Weight for class 0: {:.2f}'.format(weight_for_0))\n",
    "print('Weight for class 1: {:.2f}'.format(weight_for_1))"
   ]
  },
  {
   "cell_type": "code",
   "execution_count": 30,
   "metadata": {},
   "outputs": [
    {
     "name": "stdout",
     "output_type": "stream",
     "text": [
      "Epoch 1/100\n",
      "113/113 [==============================] - 1s 11ms/step - loss: 6468.9487 - tp: 172641.0000 - fp: 437.0000 - tn: 1177.0000 - fn: 114238.0000 - accuracy: 0.6025 - precision: 0.9975 - recall: 0.6018 - auc: 0.6500 - val_loss: 20.0810 - val_tp: 53991.0000 - val_fp: 82.0000 - val_tn: 256.0000 - val_fn: 3370.0000 - val_accuracy: 0.9402 - val_precision: 0.9985 - val_recall: 0.9412 - val_auc: 0.8495\n",
      "Epoch 2/100\n",
      "113/113 [==============================] - 1s 5ms/step - loss: 1318.6174 - tp: 181480.0000 - fp: 386.0000 - tn: 890.0000 - fn: 48038.0000 - accuracy: 0.7902 - precision: 0.9979 - recall: 0.7907 - auc: 0.7450 - val_loss: 14.1115 - val_tp: 53881.0000 - val_fp: 77.0000 - val_tn: 261.0000 - val_fn: 3480.0000 - val_accuracy: 0.9384 - val_precision: 0.9986 - val_recall: 0.9393 - val_auc: 0.8573\n",
      "Epoch 3/100\n",
      "113/113 [==============================] - 1s 5ms/step - loss: 375.3545 - tp: 183001.0000 - fp: 339.0000 - tn: 937.0000 - fn: 46517.0000 - accuracy: 0.7970 - precision: 0.9982 - recall: 0.7973 - auc: 0.7700 - val_loss: 21.0129 - val_tp: 48148.0000 - val_fp: 48.0000 - val_tn: 290.0000 - val_fn: 9213.0000 - val_accuracy: 0.8395 - val_precision: 0.9990 - val_recall: 0.8394 - val_auc: 0.8497\n",
      "Epoch 4/100\n",
      "113/113 [==============================] - 1s 5ms/step - loss: 262.3842 - tp: 186038.0000 - fp: 313.0000 - tn: 963.0000 - fn: 43480.0000 - accuracy: 0.8103 - precision: 0.9983 - recall: 0.8106 - auc: 0.7880 - val_loss: 32.6187 - val_tp: 40618.0000 - val_fp: 30.0000 - val_tn: 308.0000 - val_fn: 16743.0000 - val_accuracy: 0.7093 - val_precision: 0.9993 - val_recall: 0.7081 - val_auc: 0.8154\n",
      "Epoch 5/100\n",
      "113/113 [==============================] - 1s 5ms/step - loss: 168.1980 - tp: 189043.0000 - fp: 289.0000 - tn: 987.0000 - fn: 40475.0000 - accuracy: 0.8234 - precision: 0.9985 - recall: 0.8237 - auc: 0.8034 - val_loss: 29.8866 - val_tp: 37617.0000 - val_fp: 18.0000 - val_tn: 320.0000 - val_fn: 19744.0000 - val_accuracy: 0.6575 - val_precision: 0.9995 - val_recall: 0.6558 - val_auc: 0.8061\n",
      "Epoch 6/100\n",
      "113/113 [==============================] - 1s 5ms/step - loss: 101.3274 - tp: 188163.0000 - fp: 292.0000 - tn: 984.0000 - fn: 41355.0000 - accuracy: 0.8195 - precision: 0.9985 - recall: 0.8198 - auc: 0.8020 - val_loss: 14.8862 - val_tp: 46950.0000 - val_fp: 43.0000 - val_tn: 295.0000 - val_fn: 10411.0000 - val_accuracy: 0.8188 - val_precision: 0.9991 - val_recall: 0.8185 - val_auc: 0.8497\n",
      "Epoch 7/100\n",
      "113/113 [==============================] - 1s 5ms/step - loss: 57.5925 - tp: 185802.0000 - fp: 301.0000 - tn: 975.0000 - fn: 43716.0000 - accuracy: 0.8093 - precision: 0.9984 - recall: 0.8095 - auc: 0.7988 - val_loss: 21.2758 - val_tp: 40618.0000 - val_fp: 29.0000 - val_tn: 309.0000 - val_fn: 16743.0000 - val_accuracy: 0.7093 - val_precision: 0.9993 - val_recall: 0.7081 - val_auc: 0.8201\n",
      "Epoch 8/100\n",
      "113/113 [==============================] - 1s 5ms/step - loss: 46.8417 - tp: 184385.0000 - fp: 302.0000 - tn: 974.0000 - fn: 45133.0000 - accuracy: 0.8031 - precision: 0.9984 - recall: 0.8034 - auc: 0.8095 - val_loss: 8.6351 - val_tp: 49163.0000 - val_fp: 44.0000 - val_tn: 294.0000 - val_fn: 8198.0000 - val_accuracy: 0.8572 - val_precision: 0.9991 - val_recall: 0.8571 - val_auc: 0.8679\n",
      "Epoch 9/100\n",
      "113/113 [==============================] - 1s 5ms/step - loss: 37.0440 - tp: 184232.0000 - fp: 298.0000 - tn: 978.0000 - fn: 45286.0000 - accuracy: 0.8025 - precision: 0.9984 - recall: 0.8027 - auc: 0.8133 - val_loss: 8.9649 - val_tp: 47449.0000 - val_fp: 38.0000 - val_tn: 300.0000 - val_fn: 9912.0000 - val_accuracy: 0.8276 - val_precision: 0.9992 - val_recall: 0.8272 - val_auc: 0.8644\n",
      "Epoch 10/100\n",
      "113/113 [==============================] - 1s 5ms/step - loss: 28.9248 - tp: 182012.0000 - fp: 296.0000 - tn: 980.0000 - fn: 47506.0000 - accuracy: 0.7929 - precision: 0.9984 - recall: 0.7930 - auc: 0.8104 - val_loss: 7.1142 - val_tp: 48548.0000 - val_fp: 46.0000 - val_tn: 292.0000 - val_fn: 8813.0000 - val_accuracy: 0.8465 - val_precision: 0.9991 - val_recall: 0.8464 - val_auc: 0.8634\n",
      "Epoch 11/100\n",
      "113/113 [==============================] - 1s 5ms/step - loss: 24.5759 - tp: 183516.0000 - fp: 265.0000 - tn: 1011.0000 - fn: 46002.0000 - accuracy: 0.7995 - precision: 0.9986 - recall: 0.7996 - auc: 0.8207 - val_loss: 3.7819 - val_tp: 51069.0000 - val_fp: 60.0000 - val_tn: 278.0000 - val_fn: 6292.0000 - val_accuracy: 0.8899 - val_precision: 0.9988 - val_recall: 0.8903 - val_auc: 0.8693\n",
      "Epoch 12/100\n",
      "113/113 [==============================] - 1s 5ms/step - loss: 27.1167 - tp: 182951.0000 - fp: 289.0000 - tn: 987.0000 - fn: 46567.0000 - accuracy: 0.7970 - precision: 0.9984 - recall: 0.7971 - auc: 0.8118 - val_loss: 4.9351 - val_tp: 49754.0000 - val_fp: 52.0000 - val_tn: 286.0000 - val_fn: 7607.0000 - val_accuracy: 0.8673 - val_precision: 0.9990 - val_recall: 0.8674 - val_auc: 0.8654\n",
      "Epoch 13/100\n",
      "113/113 [==============================] - 1s 6ms/step - loss: 28.8733 - tp: 183991.0000 - fp: 264.0000 - tn: 1012.0000 - fn: 45527.0000 - accuracy: 0.8016 - precision: 0.9986 - recall: 0.8016 - auc: 0.8240 - val_loss: 3.9654 - val_tp: 49411.0000 - val_fp: 48.0000 - val_tn: 290.0000 - val_fn: 7950.0000 - val_accuracy: 0.8614 - val_precision: 0.9990 - val_recall: 0.8614 - val_auc: 0.8704\n",
      "Epoch 14/100\n",
      "113/113 [==============================] - 1s 5ms/step - loss: 19.4102 - tp: 182903.0000 - fp: 264.0000 - tn: 1012.0000 - fn: 46615.0000 - accuracy: 0.7969 - precision: 0.9986 - recall: 0.7969 - auc: 0.8239 - val_loss: 7.2002 - val_tp: 43604.0000 - val_fp: 26.0000 - val_tn: 312.0000 - val_fn: 13757.0000 - val_accuracy: 0.7611 - val_precision: 0.9994 - val_recall: 0.7602 - val_auc: 0.8601\n",
      "Epoch 15/100\n",
      "113/113 [==============================] - 1s 5ms/step - loss: 17.4528 - tp: 183867.0000 - fp: 271.0000 - tn: 1005.0000 - fn: 45651.0000 - accuracy: 0.8010 - precision: 0.9985 - recall: 0.8011 - auc: 0.8252 - val_loss: 3.9034 - val_tp: 48533.0000 - val_fp: 36.0000 - val_tn: 302.0000 - val_fn: 8828.0000 - val_accuracy: 0.8464 - val_precision: 0.9993 - val_recall: 0.8461 - val_auc: 0.8802\n",
      "Epoch 16/100\n",
      "113/113 [==============================] - 1s 5ms/step - loss: 23.8772 - tp: 182358.0000 - fp: 287.0000 - tn: 989.0000 - fn: 47160.0000 - accuracy: 0.7944 - precision: 0.9984 - recall: 0.7945 - auc: 0.8089 - val_loss: 3.9077 - val_tp: 51151.0000 - val_fp: 48.0000 - val_tn: 290.0000 - val_fn: 6210.0000 - val_accuracy: 0.8915 - val_precision: 0.9991 - val_recall: 0.8917 - val_auc: 0.8789\n",
      "Epoch 17/100\n",
      "113/113 [==============================] - 1s 5ms/step - loss: 16.5004 - tp: 183186.0000 - fp: 260.0000 - tn: 1016.0000 - fn: 46332.0000 - accuracy: 0.7981 - precision: 0.9986 - recall: 0.7981 - auc: 0.8271 - val_loss: 47.5132 - val_tp: 1269.0000 - val_fp: 20.0000 - val_tn: 318.0000 - val_fn: 56092.0000 - val_accuracy: 0.0275 - val_precision: 0.9845 - val_recall: 0.0221 - val_auc: 0.4564\n",
      "Epoch 18/100\n",
      "113/113 [==============================] - 1s 5ms/step - loss: 14.6158 - tp: 182819.0000 - fp: 247.0000 - tn: 1029.0000 - fn: 46699.0000 - accuracy: 0.7966 - precision: 0.9987 - recall: 0.7965 - auc: 0.8310 - val_loss: 5.8054 - val_tp: 26129.0000 - val_fp: 46.0000 - val_tn: 292.0000 - val_fn: 31232.0000 - val_accuracy: 0.4579 - val_precision: 0.9982 - val_recall: 0.4555 - val_auc: 0.7180\n",
      "Epoch 19/100\n",
      "113/113 [==============================] - 1s 5ms/step - loss: 19.0957 - tp: 181847.0000 - fp: 266.0000 - tn: 1010.0000 - fn: 47671.0000 - accuracy: 0.7923 - precision: 0.9985 - recall: 0.7923 - auc: 0.8207 - val_loss: 1.3467 - val_tp: 52847.0000 - val_fp: 67.0000 - val_tn: 271.0000 - val_fn: 4514.0000 - val_accuracy: 0.9206 - val_precision: 0.9987 - val_recall: 0.9213 - val_auc: 0.8782\n",
      "Epoch 20/100\n",
      "113/113 [==============================] - 1s 6ms/step - loss: 16.2568 - tp: 182508.0000 - fp: 266.0000 - tn: 1010.0000 - fn: 47010.0000 - accuracy: 0.7952 - precision: 0.9985 - recall: 0.7952 - auc: 0.8208 - val_loss: 2.4520 - val_tp: 47606.0000 - val_fp: 35.0000 - val_tn: 303.0000 - val_fn: 9755.0000 - val_accuracy: 0.8303 - val_precision: 0.9993 - val_recall: 0.8299 - val_auc: 0.8868\n",
      "Epoch 21/100\n",
      "113/113 [==============================] - 1s 6ms/step - loss: 13.8527 - tp: 183542.0000 - fp: 249.0000 - tn: 1027.0000 - fn: 45976.0000 - accuracy: 0.7997 - precision: 0.9986 - recall: 0.7997 - auc: 0.8338 - val_loss: 1.8869 - val_tp: 50487.0000 - val_fp: 50.0000 - val_tn: 288.0000 - val_fn: 6874.0000 - val_accuracy: 0.8800 - val_precision: 0.9990 - val_recall: 0.8802 - val_auc: 0.8817\n",
      "Epoch 22/100\n",
      "113/113 [==============================] - 1s 5ms/step - loss: 13.4986 - tp: 182798.0000 - fp: 260.0000 - tn: 1016.0000 - fn: 46720.0000 - accuracy: 0.7964 - precision: 0.9986 - recall: 0.7964 - auc: 0.8242 - val_loss: 0.7447 - val_tp: 54111.0000 - val_fp: 79.0000 - val_tn: 259.0000 - val_fn: 3250.0000 - val_accuracy: 0.9423 - val_precision: 0.9985 - val_recall: 0.9433 - val_auc: 0.8815\n",
      "Epoch 23/100\n",
      "113/113 [==============================] - 1s 5ms/step - loss: 14.4411 - tp: 183593.0000 - fp: 251.0000 - tn: 1025.0000 - fn: 45925.0000 - accuracy: 0.7999 - precision: 0.9986 - recall: 0.7999 - auc: 0.8291 - val_loss: 0.6604 - val_tp: 55131.0000 - val_fp: 96.0000 - val_tn: 242.0000 - val_fn: 2230.0000 - val_accuracy: 0.9597 - val_precision: 0.9983 - val_recall: 0.9611 - val_auc: 0.8749\n",
      "Epoch 24/100\n",
      "113/113 [==============================] - 1s 6ms/step - loss: 13.0192 - tp: 183530.0000 - fp: 260.0000 - tn: 1016.0000 - fn: 45988.0000 - accuracy: 0.7996 - precision: 0.9986 - recall: 0.7996 - auc: 0.8299 - val_loss: 0.7557 - val_tp: 52691.0000 - val_fp: 59.0000 - val_tn: 279.0000 - val_fn: 4670.0000 - val_accuracy: 0.9180 - val_precision: 0.9989 - val_recall: 0.9186 - val_auc: 0.8936\n",
      "Epoch 25/100\n",
      "113/113 [==============================] - 1s 5ms/step - loss: 13.0761 - tp: 181796.0000 - fp: 251.0000 - tn: 1025.0000 - fn: 47722.0000 - accuracy: 0.7921 - precision: 0.9986 - recall: 0.7921 - auc: 0.8251 - val_loss: 1.3472 - val_tp: 49713.0000 - val_fp: 48.0000 - val_tn: 290.0000 - val_fn: 7648.0000 - val_accuracy: 0.8666 - val_precision: 0.9990 - val_recall: 0.8667 - val_auc: 0.8867\n",
      "Epoch 26/100\n",
      "113/113 [==============================] - 1s 5ms/step - loss: 15.0361 - tp: 181485.0000 - fp: 244.0000 - tn: 1032.0000 - fn: 48033.0000 - accuracy: 0.7908 - precision: 0.9987 - recall: 0.7907 - auc: 0.8241 - val_loss: 0.9558 - val_tp: 50844.0000 - val_fp: 53.0000 - val_tn: 285.0000 - val_fn: 6517.0000 - val_accuracy: 0.8861 - val_precision: 0.9990 - val_recall: 0.8864 - val_auc: 0.8968\n",
      "Epoch 27/100\n",
      "113/113 [==============================] - 1s 5ms/step - loss: 13.0464 - tp: 182552.0000 - fp: 245.0000 - tn: 1031.0000 - fn: 46966.0000 - accuracy: 0.7954 - precision: 0.9987 - recall: 0.7954 - auc: 0.8247 - val_loss: 0.6467 - val_tp: 53288.0000 - val_fp: 63.0000 - val_tn: 275.0000 - val_fn: 4073.0000 - val_accuracy: 0.9283 - val_precision: 0.9988 - val_recall: 0.9290 - val_auc: 0.8882\n",
      "Epoch 28/100\n",
      "113/113 [==============================] - 1s 5ms/step - loss: 13.8249 - tp: 183869.0000 - fp: 233.0000 - tn: 1043.0000 - fn: 45649.0000 - accuracy: 0.8012 - precision: 0.9987 - recall: 0.8011 - auc: 0.8334 - val_loss: 0.8429 - val_tp: 50539.0000 - val_fp: 65.0000 - val_tn: 273.0000 - val_fn: 6822.0000 - val_accuracy: 0.8806 - val_precision: 0.9987 - val_recall: 0.8811 - val_auc: 0.8978\n",
      "Epoch 29/100\n",
      "113/113 [==============================] - 1s 5ms/step - loss: 19.0943 - tp: 183964.0000 - fp: 263.0000 - tn: 1013.0000 - fn: 45554.0000 - accuracy: 0.8015 - precision: 0.9986 - recall: 0.8015 - auc: 0.8167 - val_loss: 1.1895 - val_tp: 52058.0000 - val_fp: 54.0000 - val_tn: 284.0000 - val_fn: 5303.0000 - val_accuracy: 0.9072 - val_precision: 0.9990 - val_recall: 0.9076 - val_auc: 0.8787\n",
      "Epoch 30/100\n",
      "113/113 [==============================] - 1s 5ms/step - loss: 14.3942 - tp: 182549.0000 - fp: 248.0000 - tn: 1028.0000 - fn: 46969.0000 - accuracy: 0.7954 - precision: 0.9986 - recall: 0.7954 - auc: 0.8242 - val_loss: 2.2679 - val_tp: 44495.0000 - val_fp: 27.0000 - val_tn: 311.0000 - val_fn: 12866.0000 - val_accuracy: 0.7765 - val_precision: 0.9994 - val_recall: 0.7757 - val_auc: 0.8676\n",
      "Epoch 31/100\n",
      "113/113 [==============================] - 1s 5ms/step - loss: 9.4641 - tp: 182185.0000 - fp: 228.0000 - tn: 1048.0000 - fn: 47333.0000 - accuracy: 0.7939 - precision: 0.9988 - recall: 0.7938 - auc: 0.8302 - val_loss: 0.7859 - val_tp: 52605.0000 - val_fp: 59.0000 - val_tn: 279.0000 - val_fn: 4756.0000 - val_accuracy: 0.9165 - val_precision: 0.9989 - val_recall: 0.9171 - val_auc: 0.8827\n",
      "Epoch 32/100\n",
      "113/113 [==============================] - 1s 4ms/step - loss: 14.2408 - tp: 183043.0000 - fp: 254.0000 - tn: 1022.0000 - fn: 46475.0000 - accuracy: 0.7975 - precision: 0.9986 - recall: 0.7975 - auc: 0.8224 - val_loss: 0.4715 - val_tp: 53645.0000 - val_fp: 65.0000 - val_tn: 273.0000 - val_fn: 3716.0000 - val_accuracy: 0.9345 - val_precision: 0.9988 - val_recall: 0.9352 - val_auc: 0.8806\n",
      "Epoch 33/100\n",
      "113/113 [==============================] - 1s 5ms/step - loss: 12.5909 - tp: 181983.0000 - fp: 225.0000 - tn: 1051.0000 - fn: 47535.0000 - accuracy: 0.7931 - precision: 0.9988 - recall: 0.7929 - auc: 0.8232 - val_loss: 0.5991 - val_tp: 51769.0000 - val_fp: 53.0000 - val_tn: 285.0000 - val_fn: 5592.0000 - val_accuracy: 0.9022 - val_precision: 0.9990 - val_recall: 0.9025 - val_auc: 0.8770\n",
      "Epoch 34/100\n",
      "113/113 [==============================] - 1s 5ms/step - loss: 9.1716 - tp: 180930.0000 - fp: 220.0000 - tn: 1056.0000 - fn: 48588.0000 - accuracy: 0.7885 - precision: 0.9988 - recall: 0.7883 - auc: 0.8248 - val_loss: 0.7626 - val_tp: 50727.0000 - val_fp: 50.0000 - val_tn: 288.0000 - val_fn: 6634.0000 - val_accuracy: 0.8842 - val_precision: 0.9990 - val_recall: 0.8843 - val_auc: 0.8886\n",
      "Epoch 35/100\n",
      "113/113 [==============================] - 1s 5ms/step - loss: 14.8258 - tp: 181811.0000 - fp: 246.0000 - tn: 1030.0000 - fn: 47707.0000 - accuracy: 0.7922 - precision: 0.9986 - recall: 0.7921 - auc: 0.8174 - val_loss: 0.4366 - val_tp: 53990.0000 - val_fp: 71.0000 - val_tn: 267.0000 - val_fn: 3371.0000 - val_accuracy: 0.9403 - val_precision: 0.9987 - val_recall: 0.9412 - val_auc: 0.8801\n",
      "Epoch 36/100\n",
      "113/113 [==============================] - 1s 5ms/step - loss: 10.9541 - tp: 182176.0000 - fp: 224.0000 - tn: 1052.0000 - fn: 47342.0000 - accuracy: 0.7939 - precision: 0.9988 - recall: 0.7937 - auc: 0.8259 - val_loss: 1.2094 - val_tp: 48638.0000 - val_fp: 32.0000 - val_tn: 306.0000 - val_fn: 8723.0000 - val_accuracy: 0.8483 - val_precision: 0.9993 - val_recall: 0.8479 - val_auc: 0.8723\n",
      "Epoch 37/100\n",
      "113/113 [==============================] - 1s 5ms/step - loss: 10.4327 - tp: 179871.0000 - fp: 235.0000 - tn: 1041.0000 - fn: 49647.0000 - accuracy: 0.7839 - precision: 0.9987 - recall: 0.7837 - auc: 0.8149 - val_loss: 0.8922 - val_tp: 51991.0000 - val_fp: 54.0000 - val_tn: 284.0000 - val_fn: 5370.0000 - val_accuracy: 0.9060 - val_precision: 0.9990 - val_recall: 0.9064 - val_auc: 0.8752\n",
      "Epoch 38/100\n",
      "101/113 [=========================>....] - ETA: 0s - loss: 12.1117 - tp: 161427.0000 - fp: 211.0000 - tn: 946.0000 - fn: 44264.0000 - accuracy: 0.7850 - precision: 0.9987 - recall: 0.7848 - auc: 0.8175Restoring model weights from the end of the best epoch.\n",
      "113/113 [==============================] - 1s 5ms/step - loss: 12.8754 - tp: 180831.0000 - fp: 241.0000 - tn: 1035.0000 - fn: 48687.0000 - accuracy: 0.7880 - precision: 0.9987 - recall: 0.7879 - auc: 0.8155 - val_loss: 0.7468 - val_tp: 51360.0000 - val_fp: 48.0000 - val_tn: 290.0000 - val_fn: 6001.0000 - val_accuracy: 0.8952 - val_precision: 0.9991 - val_recall: 0.8954 - val_auc: 0.8896\n",
      "Epoch 00038: early stopping\n"
     ]
    }
   ],
   "source": [
    "weighted_model = make_model()\n",
    "weighted_model.load_weights(initial_weights)\n",
    "\n",
    "weighted_history = weighted_model.fit(\n",
    "    train_features,\n",
    "    train_labels,\n",
    "    batch_size=BATCH_SIZE,\n",
    "    epochs=EPOCHS,\n",
    "    callbacks = [early_stopping, tensorboard_callback],\n",
    "    validation_data=(val_features, val_labels),\n",
    "    class_weight=class_weight) "
   ]
  },
  {
   "cell_type": "code",
   "execution_count": 54,
   "metadata": {},
   "outputs": [
    {
     "data": {
      "text/plain": [
       "Reusing TensorBoard on port 6006 (pid 25415), started 1:17:27 ago. (Use '!kill 25415' to kill it.)"
      ]
     },
     "metadata": {},
     "output_type": "display_data"
    },
    {
     "data": {
      "text/html": [
       "\n",
       "      <iframe id=\"tensorboard-frame-67944925aa95fe52\" width=\"100%\" height=\"800\" frameborder=\"0\">\n",
       "      </iframe>\n",
       "      <script>\n",
       "        (function() {\n",
       "          const frame = document.getElementById(\"tensorboard-frame-67944925aa95fe52\");\n",
       "          const url = new URL(\"/\", window.location);\n",
       "          url.port = 6006;\n",
       "          frame.src = url;\n",
       "        })();\n",
       "      </script>\n",
       "  "
      ],
      "text/plain": [
       "<IPython.core.display.HTML object>"
      ]
     },
     "metadata": {},
     "output_type": "display_data"
    }
   ],
   "source": [
    "%tensorboard --logdir logs/fit"
   ]
  },
  {
   "cell_type": "code",
   "execution_count": 33,
   "metadata": {},
   "outputs": [
    {
     "data": {
      "image/png": "[encoded data removed]",
      "text/plain": [
       "<Figure size 864x720 with 4 Axes>"
      ]
     },
     "metadata": {
      "needs_background": "light"
     },
     "output_type": "display_data"
    }
   ],
   "source": [
    "plot_metrics(weighted_history)\n"
   ]
  },
  {
   "cell_type": "code",
   "execution_count": 56,
   "metadata": {},
   "outputs": [
    {
     "name": "stdout",
     "output_type": "stream",
     "text": [
      "loss :  0.4120755195617676\n",
      "tp :  49501.0\n",
      "fp :  48.0\n",
      "tn :  260.0\n",
      "fn :  7890.0\n",
      "accuracy :  0.8624239563941956\n",
      "precision :  0.9990312457084656\n",
      "recall :  0.8625220060348511\n",
      "auc :  0.9276014566421509\n",
      "\n",
      "Legitimate Transactions Detected (True Negatives):  260\n",
      "Legitimate Transactions Incorrectly Detected (False Positives):  48\n",
      "Fraudulent Transactions Missed (False Negatives):  7890\n",
      "Fraudulent Transactions Detected (True Positives):  49501\n",
      "Total Fraudulent Transactions:  57391\n"
     ]
    },
    {
     "data": {
      "image/png": "[encoded data removed]",
      "text/plain": [
       "<Figure size 360x360 with 2 Axes>"
      ]
     },
     "metadata": {
      "needs_background": "light"
     },
     "output_type": "display_data"
    }
   ],
   "source": [
    "val_predictions_weighted = weighted_model.predict(val_features, batch_size=BATCH_SIZE)\n",
    "\n",
    "weighted_results = weighted_model.evaluate(val_features, val_labels,\n",
    "                                  batch_size=BATCH_SIZE, verbose=0)\n",
    "for name, value in zip(weighted_model.metrics_names, weighted_results):\n",
    "  print(name, ': ', value)\n",
    "print()\n",
    "\n",
    "plot_cm(val_labels, val_predictions_weighted)"
   ]
  },
  {
   "cell_type": "code",
   "execution_count": null,
   "metadata": {},
   "outputs": [],
   "source": []
  }
 ],
 "metadata": {
  "kernelspec": {
   "display_name": "Python 3",
   "language": "python",
   "name": "python3"
  },
  "language_info": {
   "codemirror_mode": {
    "name": "ipython",
    "version": 3
   },
   "file_extension": ".py",
   "mimetype": "text/x-python",
   "name": "python",
   "nbconvert_exporter": "python",
   "pygments_lexer": "ipython3",
   "version": "3.8.2"
  }
 },
 "nbformat": 4,
 "nbformat_minor": 4
}
