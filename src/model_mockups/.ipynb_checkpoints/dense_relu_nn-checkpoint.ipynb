{
 "cells": [
  {
   "cell_type": "code",
   "execution_count": 1,
   "metadata": {},
   "outputs": [],
   "source": [
    "import numpy as np \n",
    "import pandas as pd\n",
    "\n",
    "import tensorflow as tf\n",
    "\n",
    "from tensorflow import feature_column\n",
    "from tensorflow.keras import layers\n",
    "from sklearn.model_selection import train_test_split\n",
    "\n",
    "DEVICE = 'GPU/:0'"
   ]
  },
  {
   "cell_type": "markdown",
   "metadata": {},
   "source": [
    "Configuração para o data set"
   ]
  },
  {
   "cell_type": "code",
   "execution_count": 2,
   "metadata": {},
   "outputs": [],
   "source": [
    "tf.keras.backend.set_floatx('float64')\n",
    "\n",
    "#getting the csv\n",
    "CICIDS_DIRECTORY = '../../datasets/cicids/MachineLearningCVE/'\n",
    "CICIDS_MONDAY_FILENAME = 'Monday-WorkingHours.pcap_ISCX.csv'\n",
    "CICIDS_WEDNESDAY_FILENAME = 'Wednesday-workingHours.pcap_ISCX.csv'\n",
    "CICIDS_MONDAY = CICIDS_DIRECTORY + CICIDS_MONDAY_FILENAME\n",
    "CICIDS_WEDNESDAY = CICIDS_DIRECTORY + CICIDS_WEDNESDAY_FILENAME"
   ]
  },
  {
   "cell_type": "markdown",
   "metadata": {},
   "source": [
    "Tratando o data frame"
   ]
  },
  {
   "cell_type": "code",
   "execution_count": 3,
   "metadata": {},
   "outputs": [],
   "source": [
    "dataFrame = pd.read_csv(CICIDS_WEDNESDAY)\n",
    "## Remove NaN and inf values\n",
    "dataFrame.replace ('Infinity', np.nan, inplace = True) ## Or other text values\n",
    "dataFrame.replace (np.inf, np.nan, inplace = True) ## Remove infinity\n",
    "dataFrame.replace (np.nan, 0, inplace = True)"
   ]
  },
  {
   "cell_type": "code",
   "execution_count": 4,
   "metadata": {},
   "outputs": [],
   "source": [
    "#converting labels\n",
    "dataFrame [' Label'] = dataFrame [' Label'].replace ('BENIGN', 0)\n",
    "dataFrame [' Label'] = dataFrame [' Label'].replace ('DoS slowloris', 1)\n",
    "dataFrame [' Label'] = dataFrame [' Label'].replace ('DoS Slowhttptest', 2)\n",
    "dataFrame [' Label'] = dataFrame [' Label'].replace ('DoS Hulk', 3)\n",
    "dataFrame [' Label'] = dataFrame [' Label'].replace ('DoS GoldenEye', 4)\n",
    "dataFrame [' Label'] = dataFrame [' Label'].replace ('Heartbleed', 5)"
   ]
  },
  {
   "cell_type": "code",
   "execution_count": 5,
   "metadata": {},
   "outputs": [
    {
     "name": "stdout",
     "output_type": "stream",
     "text": [
      "443329 train examples\n",
      "110833 validation examples\n",
      "138541 test examples\n"
     ]
    }
   ],
   "source": [
    "#splitting dataset\n",
    "train, test = train_test_split(dataFrame, test_size=0.2)\n",
    "train, val = train_test_split(train, test_size=0.2)\n",
    "print(len(train), 'train examples')\n",
    "print(len(val), 'validation examples')\n",
    "print(len(test), 'test examples')"
   ]
  },
  {
   "cell_type": "code",
   "execution_count": 6,
   "metadata": {},
   "outputs": [],
   "source": [
    "#make dataFrame into a data set\n",
    "def df_to_dataset(dataFrame, shuffle=True, batch_size=32):\n",
    "    dataFrame = dataFrame.copy()\n",
    "    labels = dataFrame.pop(' Label')\n",
    "    data_set = tf.data.Dataset.from_tensor_slices((dict(dataFrame), labels))\n",
    "    if shuffle:\n",
    "        data_set = data_set.shuffle(buffer_size=len(dataFrame))\n",
    "    data_set = data_set.batch(batch_size)\n",
    "    return data_set"
   ]
  },
  {
   "cell_type": "code",
   "execution_count": 7,
   "metadata": {},
   "outputs": [],
   "source": [
    "#transform each part of the dataFrame into the data_set format\n",
    "BATCH_SIZE = 32\n",
    "train_ds = df_to_dataset(train, batch_size=BATCH_SIZE)\n",
    "val_ds = df_to_dataset(val, shuffle=False, batch_size=BATCH_SIZE)\n",
    "test_ds = df_to_dataset(test, shuffle=False, batch_size=BATCH_SIZE)"
   ]
  },
  {
   "cell_type": "markdown",
   "metadata": {},
   "source": [
    "# Feature columns preset for the model\n",
    "Note: All columns of this dataset are numeric\n"
   ]
  },
  {
   "cell_type": "markdown",
   "metadata": {},
   "source": [
    "1st approach: using all columns.\n"
   ]
  },
  {
   "cell_type": "code",
   "execution_count": 9,
   "metadata": {},
   "outputs": [
    {
     "name": "stdout",
     "output_type": "stream",
     "text": [
      "[NumericColumn(key=' Destination Port', shape=(1,), default_value=None, dtype=tf.float32, normalizer_fn=None), NumericColumn(key=' Flow Duration', shape=(1,), default_value=None, dtype=tf.float32, normalizer_fn=None), NumericColumn(key=' Total Fwd Packets', shape=(1,), default_value=None, dtype=tf.float32, normalizer_fn=None), NumericColumn(key=' Total Backward Packets', shape=(1,), default_value=None, dtype=tf.float32, normalizer_fn=None), NumericColumn(key='Total Length of Fwd Packets', shape=(1,), default_value=None, dtype=tf.float32, normalizer_fn=None), NumericColumn(key=' Total Length of Bwd Packets', shape=(1,), default_value=None, dtype=tf.float32, normalizer_fn=None), NumericColumn(key=' Fwd Packet Length Max', shape=(1,), default_value=None, dtype=tf.float32, normalizer_fn=None), NumericColumn(key=' Fwd Packet Length Min', shape=(1,), default_value=None, dtype=tf.float32, normalizer_fn=None), NumericColumn(key=' Fwd Packet Length Mean', shape=(1,), default_value=None, dtype=tf.float32, normalizer_fn=None), NumericColumn(key=' Fwd Packet Length Std', shape=(1,), default_value=None, dtype=tf.float32, normalizer_fn=None), NumericColumn(key='Bwd Packet Length Max', shape=(1,), default_value=None, dtype=tf.float32, normalizer_fn=None), NumericColumn(key=' Bwd Packet Length Min', shape=(1,), default_value=None, dtype=tf.float32, normalizer_fn=None), NumericColumn(key=' Bwd Packet Length Mean', shape=(1,), default_value=None, dtype=tf.float32, normalizer_fn=None), NumericColumn(key=' Bwd Packet Length Std', shape=(1,), default_value=None, dtype=tf.float32, normalizer_fn=None), NumericColumn(key='Flow Bytes/s', shape=(1,), default_value=None, dtype=tf.float32, normalizer_fn=None), NumericColumn(key=' Flow Packets/s', shape=(1,), default_value=None, dtype=tf.float32, normalizer_fn=None), NumericColumn(key=' Flow IAT Mean', shape=(1,), default_value=None, dtype=tf.float32, normalizer_fn=None), NumericColumn(key=' Flow IAT Std', shape=(1,), default_value=None, dtype=tf.float32, normalizer_fn=None), NumericColumn(key=' Flow IAT Max', shape=(1,), default_value=None, dtype=tf.float32, normalizer_fn=None), NumericColumn(key=' Flow IAT Min', shape=(1,), default_value=None, dtype=tf.float32, normalizer_fn=None), NumericColumn(key='Fwd IAT Total', shape=(1,), default_value=None, dtype=tf.float32, normalizer_fn=None), NumericColumn(key=' Fwd IAT Mean', shape=(1,), default_value=None, dtype=tf.float32, normalizer_fn=None), NumericColumn(key=' Fwd IAT Std', shape=(1,), default_value=None, dtype=tf.float32, normalizer_fn=None), NumericColumn(key=' Fwd IAT Max', shape=(1,), default_value=None, dtype=tf.float32, normalizer_fn=None), NumericColumn(key=' Fwd IAT Min', shape=(1,), default_value=None, dtype=tf.float32, normalizer_fn=None), NumericColumn(key='Bwd IAT Total', shape=(1,), default_value=None, dtype=tf.float32, normalizer_fn=None), NumericColumn(key=' Bwd IAT Mean', shape=(1,), default_value=None, dtype=tf.float32, normalizer_fn=None), NumericColumn(key=' Bwd IAT Std', shape=(1,), default_value=None, dtype=tf.float32, normalizer_fn=None), NumericColumn(key=' Bwd IAT Max', shape=(1,), default_value=None, dtype=tf.float32, normalizer_fn=None), NumericColumn(key=' Bwd IAT Min', shape=(1,), default_value=None, dtype=tf.float32, normalizer_fn=None), NumericColumn(key='Fwd PSH Flags', shape=(1,), default_value=None, dtype=tf.float32, normalizer_fn=None), NumericColumn(key=' Bwd PSH Flags', shape=(1,), default_value=None, dtype=tf.float32, normalizer_fn=None), NumericColumn(key=' Fwd URG Flags', shape=(1,), default_value=None, dtype=tf.float32, normalizer_fn=None), NumericColumn(key=' Bwd URG Flags', shape=(1,), default_value=None, dtype=tf.float32, normalizer_fn=None), NumericColumn(key=' Fwd Header Length', shape=(1,), default_value=None, dtype=tf.float32, normalizer_fn=None), NumericColumn(key=' Bwd Header Length', shape=(1,), default_value=None, dtype=tf.float32, normalizer_fn=None), NumericColumn(key='Fwd Packets/s', shape=(1,), default_value=None, dtype=tf.float32, normalizer_fn=None), NumericColumn(key=' Bwd Packets/s', shape=(1,), default_value=None, dtype=tf.float32, normalizer_fn=None), NumericColumn(key=' Min Packet Length', shape=(1,), default_value=None, dtype=tf.float32, normalizer_fn=None), NumericColumn(key=' Max Packet Length', shape=(1,), default_value=None, dtype=tf.float32, normalizer_fn=None), NumericColumn(key=' Packet Length Mean', shape=(1,), default_value=None, dtype=tf.float32, normalizer_fn=None), NumericColumn(key=' Packet Length Std', shape=(1,), default_value=None, dtype=tf.float32, normalizer_fn=None), NumericColumn(key=' Packet Length Variance', shape=(1,), default_value=None, dtype=tf.float32, normalizer_fn=None), NumericColumn(key='FIN Flag Count', shape=(1,), default_value=None, dtype=tf.float32, normalizer_fn=None), NumericColumn(key=' SYN Flag Count', shape=(1,), default_value=None, dtype=tf.float32, normalizer_fn=None), NumericColumn(key=' RST Flag Count', shape=(1,), default_value=None, dtype=tf.float32, normalizer_fn=None), NumericColumn(key=' PSH Flag Count', shape=(1,), default_value=None, dtype=tf.float32, normalizer_fn=None), NumericColumn(key=' ACK Flag Count', shape=(1,), default_value=None, dtype=tf.float32, normalizer_fn=None), NumericColumn(key=' URG Flag Count', shape=(1,), default_value=None, dtype=tf.float32, normalizer_fn=None), NumericColumn(key=' CWE Flag Count', shape=(1,), default_value=None, dtype=tf.float32, normalizer_fn=None), NumericColumn(key=' ECE Flag Count', shape=(1,), default_value=None, dtype=tf.float32, normalizer_fn=None), NumericColumn(key=' Down/Up Ratio', shape=(1,), default_value=None, dtype=tf.float32, normalizer_fn=None), NumericColumn(key=' Average Packet Size', shape=(1,), default_value=None, dtype=tf.float32, normalizer_fn=None), NumericColumn(key=' Avg Fwd Segment Size', shape=(1,), default_value=None, dtype=tf.float32, normalizer_fn=None), NumericColumn(key=' Avg Bwd Segment Size', shape=(1,), default_value=None, dtype=tf.float32, normalizer_fn=None), NumericColumn(key=' Fwd Header Length.1', shape=(1,), default_value=None, dtype=tf.float32, normalizer_fn=None), NumericColumn(key='Fwd Avg Bytes/Bulk', shape=(1,), default_value=None, dtype=tf.float32, normalizer_fn=None), NumericColumn(key=' Fwd Avg Packets/Bulk', shape=(1,), default_value=None, dtype=tf.float32, normalizer_fn=None), NumericColumn(key=' Fwd Avg Bulk Rate', shape=(1,), default_value=None, dtype=tf.float32, normalizer_fn=None), NumericColumn(key=' Bwd Avg Bytes/Bulk', shape=(1,), default_value=None, dtype=tf.float32, normalizer_fn=None), NumericColumn(key=' Bwd Avg Packets/Bulk', shape=(1,), default_value=None, dtype=tf.float32, normalizer_fn=None), NumericColumn(key='Bwd Avg Bulk Rate', shape=(1,), default_value=None, dtype=tf.float32, normalizer_fn=None), NumericColumn(key='Subflow Fwd Packets', shape=(1,), default_value=None, dtype=tf.float32, normalizer_fn=None), NumericColumn(key=' Subflow Fwd Bytes', shape=(1,), default_value=None, dtype=tf.float32, normalizer_fn=None), NumericColumn(key=' Subflow Bwd Packets', shape=(1,), default_value=None, dtype=tf.float32, normalizer_fn=None), NumericColumn(key=' Subflow Bwd Bytes', shape=(1,), default_value=None, dtype=tf.float32, normalizer_fn=None), NumericColumn(key='Init_Win_bytes_forward', shape=(1,), default_value=None, dtype=tf.float32, normalizer_fn=None), NumericColumn(key=' Init_Win_bytes_backward', shape=(1,), default_value=None, dtype=tf.float32, normalizer_fn=None), NumericColumn(key=' act_data_pkt_fwd', shape=(1,), default_value=None, dtype=tf.float32, normalizer_fn=None), NumericColumn(key=' min_seg_size_forward', shape=(1,), default_value=None, dtype=tf.float32, normalizer_fn=None), NumericColumn(key='Active Mean', shape=(1,), default_value=None, dtype=tf.float32, normalizer_fn=None), NumericColumn(key=' Active Std', shape=(1,), default_value=None, dtype=tf.float32, normalizer_fn=None), NumericColumn(key=' Active Max', shape=(1,), default_value=None, dtype=tf.float32, normalizer_fn=None), NumericColumn(key=' Active Min', shape=(1,), default_value=None, dtype=tf.float32, normalizer_fn=None), NumericColumn(key='Idle Mean', shape=(1,), default_value=None, dtype=tf.float32, normalizer_fn=None), NumericColumn(key=' Idle Std', shape=(1,), default_value=None, dtype=tf.float32, normalizer_fn=None), NumericColumn(key=' Idle Max', shape=(1,), default_value=None, dtype=tf.float32, normalizer_fn=None), NumericColumn(key=' Idle Min', shape=(1,), default_value=None, dtype=tf.float32, normalizer_fn=None)]\n"
     ]
    }
   ],
   "source": [
    "feature_columns = []\n",
    "numeric_headers = []\n",
    "categorical_headers = []\n",
    "count = 0\n",
    "for feature, label in train_ds.take(1):\n",
    "    for key in list(feature.keys()):\n",
    "        feature_columns.append(feature_column.numeric_column(key))\n",
    "        print (key[0])\n",
    "# print (feature_columns)"
   ]
  },
  {
   "cell_type": "code",
   "execution_count": 10,
   "metadata": {},
   "outputs": [],
   "source": [
    "feature_layer = tf.keras.layers.DenseFeatures(feature_columns)\n"
   ]
  },
  {
   "cell_type": "code",
   "execution_count": 12,
   "metadata": {},
   "outputs": [],
   "source": [
    "initializer = tf.initializers.VarianceScaling(scale=2.0)\n",
    "hidden_layer_size, num_classes = 128, 6\n",
    "\n",
    "layers = [\n",
    "    feature_layer,\n",
    "    tf.keras.layers.Dense(hidden_layer_size, use_bias=True, activation='relu', kernel_initializer=initializer),\n",
    "    tf.keras.layers.Dense(hidden_layer_size,  use_bias=True, activation='relu', kernel_initializer=initializer),\n",
    "    tf.keras.layers.Dense(num_classes,  use_bias=True, activation='softmax', kernel_initializer=initializer),\n",
    "]\n",
    "\n",
    "model = tf.keras.Sequential(layers)\n",
    "model.compile(optimizer='adam', loss='sparse_categorical_crossentropy', metrics=[tf.keras.metrics.sparse_categorical_accuracy])"
   ]
  },
  {
   "cell_type": "code",
   "execution_count": 14,
   "metadata": {},
   "outputs": [
    {
     "name": "stdout",
     "output_type": "stream",
     "text": [
      "Epoch 1/5\n"
     ]
    },
    {
     "ename": "ValueError",
     "evalue": "in user code:\n\n    /home/luizgis/.local/lib/python3.8/site-packages/tensorflow/python/keras/engine/training.py:571 train_function  *\n        outputs = self.distribute_strategy.run(\n    /home/luizgis/.local/lib/python3.8/site-packages/tensorflow/python/distribute/distribute_lib.py:951 run  **\n        return self._extended.call_for_each_replica(fn, args=args, kwargs=kwargs)\n    /home/luizgis/.local/lib/python3.8/site-packages/tensorflow/python/distribute/distribute_lib.py:2290 call_for_each_replica\n        return self._call_for_each_replica(fn, args, kwargs)\n    /home/luizgis/.local/lib/python3.8/site-packages/tensorflow/python/distribute/distribute_lib.py:2649 _call_for_each_replica\n        return fn(*args, **kwargs)\n    /home/luizgis/.local/lib/python3.8/site-packages/tensorflow/python/keras/engine/training.py:531 train_step  **\n        y_pred = self(x, training=True)\n    /home/luizgis/.local/lib/python3.8/site-packages/tensorflow/python/keras/engine/base_layer.py:927 __call__\n        outputs = call_fn(cast_inputs, *args, **kwargs)\n    /home/luizgis/.local/lib/python3.8/site-packages/tensorflow/python/keras/engine/sequential.py:291 call\n        outputs = layer(inputs, **kwargs)\n    /home/luizgis/.local/lib/python3.8/site-packages/tensorflow/python/keras/engine/base_layer.py:927 __call__\n        outputs = call_fn(cast_inputs, *args, **kwargs)\n    /home/luizgis/.local/lib/python3.8/site-packages/tensorflow/python/feature_column/dense_features.py:143 call  **\n        with ops.name_scope(column.name):\n    /home/luizgis/.local/lib/python3.8/site-packages/tensorflow/python/framework/ops.py:6296 __enter__\n        return self._name_scope.__enter__()\n    /usr/lib/python3.8/contextlib.py:113 __enter__\n        return next(self.gen)\n    /home/luizgis/.local/lib/python3.8/site-packages/tensorflow/python/framework/ops.py:4027 name_scope\n        raise ValueError(\"'%s' is not a valid scope name\" % name)\n\n    ValueError: ' ACK Flag Count' is not a valid scope name\n",
     "output_type": "error",
     "traceback": [
      "\u001b[0;31m---------------------------------------------------------------------------\u001b[0m",
      "\u001b[0;31mValueError\u001b[0m                                Traceback (most recent call last)",
      "\u001b[0;32m<ipython-input-14-c744c4473b6a>\u001b[0m in \u001b[0;36m<module>\u001b[0;34m\u001b[0m\n\u001b[1;32m      1\u001b[0m \u001b[0;32mwith\u001b[0m \u001b[0mtf\u001b[0m\u001b[0;34m.\u001b[0m\u001b[0mdevice\u001b[0m\u001b[0;34m(\u001b[0m\u001b[0mDEVICE\u001b[0m\u001b[0;34m)\u001b[0m\u001b[0;34m:\u001b[0m\u001b[0;34m\u001b[0m\u001b[0;34m\u001b[0m\u001b[0m\n\u001b[0;32m----> 2\u001b[0;31m     \u001b[0mmodel\u001b[0m\u001b[0;34m.\u001b[0m\u001b[0mfit\u001b[0m\u001b[0;34m(\u001b[0m\u001b[0mtrain_ds\u001b[0m\u001b[0;34m,\u001b[0m \u001b[0mvalidation_data\u001b[0m\u001b[0;34m=\u001b[0m\u001b[0mval_ds\u001b[0m\u001b[0;34m,\u001b[0m \u001b[0mepochs\u001b[0m\u001b[0;34m=\u001b[0m\u001b[0;36m5\u001b[0m\u001b[0;34m)\u001b[0m\u001b[0;34m\u001b[0m\u001b[0;34m\u001b[0m\u001b[0m\n\u001b[0m",
      "\u001b[0;32m~/.local/lib/python3.8/site-packages/tensorflow/python/keras/engine/training.py\u001b[0m in \u001b[0;36m_method_wrapper\u001b[0;34m(self, *args, **kwargs)\u001b[0m\n\u001b[1;32m     64\u001b[0m   \u001b[0;32mdef\u001b[0m \u001b[0m_method_wrapper\u001b[0m\u001b[0;34m(\u001b[0m\u001b[0mself\u001b[0m\u001b[0;34m,\u001b[0m \u001b[0;34m*\u001b[0m\u001b[0margs\u001b[0m\u001b[0;34m,\u001b[0m \u001b[0;34m**\u001b[0m\u001b[0mkwargs\u001b[0m\u001b[0;34m)\u001b[0m\u001b[0;34m:\u001b[0m\u001b[0;34m\u001b[0m\u001b[0;34m\u001b[0m\u001b[0m\n\u001b[1;32m     65\u001b[0m     \u001b[0;32mif\u001b[0m \u001b[0;32mnot\u001b[0m \u001b[0mself\u001b[0m\u001b[0;34m.\u001b[0m\u001b[0m_in_multi_worker_mode\u001b[0m\u001b[0;34m(\u001b[0m\u001b[0;34m)\u001b[0m\u001b[0;34m:\u001b[0m  \u001b[0;31m# pylint: disable=protected-access\u001b[0m\u001b[0;34m\u001b[0m\u001b[0;34m\u001b[0m\u001b[0m\n\u001b[0;32m---> 66\u001b[0;31m       \u001b[0;32mreturn\u001b[0m \u001b[0mmethod\u001b[0m\u001b[0;34m(\u001b[0m\u001b[0mself\u001b[0m\u001b[0;34m,\u001b[0m \u001b[0;34m*\u001b[0m\u001b[0margs\u001b[0m\u001b[0;34m,\u001b[0m \u001b[0;34m**\u001b[0m\u001b[0mkwargs\u001b[0m\u001b[0;34m)\u001b[0m\u001b[0;34m\u001b[0m\u001b[0;34m\u001b[0m\u001b[0m\n\u001b[0m\u001b[1;32m     67\u001b[0m \u001b[0;34m\u001b[0m\u001b[0m\n\u001b[1;32m     68\u001b[0m     \u001b[0;31m# Running inside `run_distribute_coordinator` already.\u001b[0m\u001b[0;34m\u001b[0m\u001b[0;34m\u001b[0m\u001b[0;34m\u001b[0m\u001b[0m\n",
      "\u001b[0;32m~/.local/lib/python3.8/site-packages/tensorflow/python/keras/engine/training.py\u001b[0m in \u001b[0;36mfit\u001b[0;34m(self, x, y, batch_size, epochs, verbose, callbacks, validation_split, validation_data, shuffle, class_weight, sample_weight, initial_epoch, steps_per_epoch, validation_steps, validation_batch_size, validation_freq, max_queue_size, workers, use_multiprocessing)\u001b[0m\n\u001b[1;32m    846\u001b[0m                 batch_size=batch_size):\n\u001b[1;32m    847\u001b[0m               \u001b[0mcallbacks\u001b[0m\u001b[0;34m.\u001b[0m\u001b[0mon_train_batch_begin\u001b[0m\u001b[0;34m(\u001b[0m\u001b[0mstep\u001b[0m\u001b[0;34m)\u001b[0m\u001b[0;34m\u001b[0m\u001b[0;34m\u001b[0m\u001b[0m\n\u001b[0;32m--> 848\u001b[0;31m               \u001b[0mtmp_logs\u001b[0m \u001b[0;34m=\u001b[0m \u001b[0mtrain_function\u001b[0m\u001b[0;34m(\u001b[0m\u001b[0miterator\u001b[0m\u001b[0;34m)\u001b[0m\u001b[0;34m\u001b[0m\u001b[0;34m\u001b[0m\u001b[0m\n\u001b[0m\u001b[1;32m    849\u001b[0m               \u001b[0;31m# Catch OutOfRangeError for Datasets of unknown size.\u001b[0m\u001b[0;34m\u001b[0m\u001b[0;34m\u001b[0m\u001b[0;34m\u001b[0m\u001b[0m\n\u001b[1;32m    850\u001b[0m               \u001b[0;31m# This blocks until the batch has finished executing.\u001b[0m\u001b[0;34m\u001b[0m\u001b[0;34m\u001b[0m\u001b[0;34m\u001b[0m\u001b[0m\n",
      "\u001b[0;32m~/.local/lib/python3.8/site-packages/tensorflow/python/eager/def_function.py\u001b[0m in \u001b[0;36m__call__\u001b[0;34m(self, *args, **kwds)\u001b[0m\n\u001b[1;32m    578\u001b[0m         \u001b[0mxla_context\u001b[0m\u001b[0;34m.\u001b[0m\u001b[0mExit\u001b[0m\u001b[0;34m(\u001b[0m\u001b[0;34m)\u001b[0m\u001b[0;34m\u001b[0m\u001b[0;34m\u001b[0m\u001b[0m\n\u001b[1;32m    579\u001b[0m     \u001b[0;32melse\u001b[0m\u001b[0;34m:\u001b[0m\u001b[0;34m\u001b[0m\u001b[0;34m\u001b[0m\u001b[0m\n\u001b[0;32m--> 580\u001b[0;31m       \u001b[0mresult\u001b[0m \u001b[0;34m=\u001b[0m \u001b[0mself\u001b[0m\u001b[0;34m.\u001b[0m\u001b[0m_call\u001b[0m\u001b[0;34m(\u001b[0m\u001b[0;34m*\u001b[0m\u001b[0margs\u001b[0m\u001b[0;34m,\u001b[0m \u001b[0;34m**\u001b[0m\u001b[0mkwds\u001b[0m\u001b[0;34m)\u001b[0m\u001b[0;34m\u001b[0m\u001b[0;34m\u001b[0m\u001b[0m\n\u001b[0m\u001b[1;32m    581\u001b[0m \u001b[0;34m\u001b[0m\u001b[0m\n\u001b[1;32m    582\u001b[0m     \u001b[0;32mif\u001b[0m \u001b[0mtracing_count\u001b[0m \u001b[0;34m==\u001b[0m \u001b[0mself\u001b[0m\u001b[0;34m.\u001b[0m\u001b[0m_get_tracing_count\u001b[0m\u001b[0;34m(\u001b[0m\u001b[0;34m)\u001b[0m\u001b[0;34m:\u001b[0m\u001b[0;34m\u001b[0m\u001b[0;34m\u001b[0m\u001b[0m\n",
      "\u001b[0;32m~/.local/lib/python3.8/site-packages/tensorflow/python/eager/def_function.py\u001b[0m in \u001b[0;36m_call\u001b[0;34m(self, *args, **kwds)\u001b[0m\n\u001b[1;32m    616\u001b[0m       \u001b[0;31m# In this case we have not created variables on the first call. So we can\u001b[0m\u001b[0;34m\u001b[0m\u001b[0;34m\u001b[0m\u001b[0;34m\u001b[0m\u001b[0m\n\u001b[1;32m    617\u001b[0m       \u001b[0;31m# run the first trace but we should fail if variables are created.\u001b[0m\u001b[0;34m\u001b[0m\u001b[0;34m\u001b[0m\u001b[0;34m\u001b[0m\u001b[0m\n\u001b[0;32m--> 618\u001b[0;31m       \u001b[0mresults\u001b[0m \u001b[0;34m=\u001b[0m \u001b[0mself\u001b[0m\u001b[0;34m.\u001b[0m\u001b[0m_stateful_fn\u001b[0m\u001b[0;34m(\u001b[0m\u001b[0;34m*\u001b[0m\u001b[0margs\u001b[0m\u001b[0;34m,\u001b[0m \u001b[0;34m**\u001b[0m\u001b[0mkwds\u001b[0m\u001b[0;34m)\u001b[0m\u001b[0;34m\u001b[0m\u001b[0;34m\u001b[0m\u001b[0m\n\u001b[0m\u001b[1;32m    619\u001b[0m       \u001b[0;32mif\u001b[0m \u001b[0mself\u001b[0m\u001b[0;34m.\u001b[0m\u001b[0m_created_variables\u001b[0m\u001b[0;34m:\u001b[0m\u001b[0;34m\u001b[0m\u001b[0;34m\u001b[0m\u001b[0m\n\u001b[1;32m    620\u001b[0m         raise ValueError(\"Creating variables on a non-first call to a function\"\n",
      "\u001b[0;32m~/.local/lib/python3.8/site-packages/tensorflow/python/eager/function.py\u001b[0m in \u001b[0;36m__call__\u001b[0;34m(self, *args, **kwargs)\u001b[0m\n\u001b[1;32m   2417\u001b[0m     \u001b[0;34m\"\"\"Calls a graph function specialized to the inputs.\"\"\"\u001b[0m\u001b[0;34m\u001b[0m\u001b[0;34m\u001b[0m\u001b[0m\n\u001b[1;32m   2418\u001b[0m     \u001b[0;32mwith\u001b[0m \u001b[0mself\u001b[0m\u001b[0;34m.\u001b[0m\u001b[0m_lock\u001b[0m\u001b[0;34m:\u001b[0m\u001b[0;34m\u001b[0m\u001b[0;34m\u001b[0m\u001b[0m\n\u001b[0;32m-> 2419\u001b[0;31m       \u001b[0mgraph_function\u001b[0m\u001b[0;34m,\u001b[0m \u001b[0margs\u001b[0m\u001b[0;34m,\u001b[0m \u001b[0mkwargs\u001b[0m \u001b[0;34m=\u001b[0m \u001b[0mself\u001b[0m\u001b[0;34m.\u001b[0m\u001b[0m_maybe_define_function\u001b[0m\u001b[0;34m(\u001b[0m\u001b[0margs\u001b[0m\u001b[0;34m,\u001b[0m \u001b[0mkwargs\u001b[0m\u001b[0;34m)\u001b[0m\u001b[0;34m\u001b[0m\u001b[0;34m\u001b[0m\u001b[0m\n\u001b[0m\u001b[1;32m   2420\u001b[0m     \u001b[0;32mreturn\u001b[0m \u001b[0mgraph_function\u001b[0m\u001b[0;34m.\u001b[0m\u001b[0m_filtered_call\u001b[0m\u001b[0;34m(\u001b[0m\u001b[0margs\u001b[0m\u001b[0;34m,\u001b[0m \u001b[0mkwargs\u001b[0m\u001b[0;34m)\u001b[0m  \u001b[0;31m# pylint: disable=protected-access\u001b[0m\u001b[0;34m\u001b[0m\u001b[0;34m\u001b[0m\u001b[0m\n\u001b[1;32m   2421\u001b[0m \u001b[0;34m\u001b[0m\u001b[0m\n",
      "\u001b[0;32m~/.local/lib/python3.8/site-packages/tensorflow/python/eager/function.py\u001b[0m in \u001b[0;36m_maybe_define_function\u001b[0;34m(self, args, kwargs)\u001b[0m\n\u001b[1;32m   2772\u001b[0m           \u001b[0;32mand\u001b[0m \u001b[0mself\u001b[0m\u001b[0;34m.\u001b[0m\u001b[0minput_signature\u001b[0m \u001b[0;32mis\u001b[0m \u001b[0;32mNone\u001b[0m\u001b[0;34m\u001b[0m\u001b[0;34m\u001b[0m\u001b[0m\n\u001b[1;32m   2773\u001b[0m           and call_context_key in self._function_cache.missed):\n\u001b[0;32m-> 2774\u001b[0;31m         \u001b[0;32mreturn\u001b[0m \u001b[0mself\u001b[0m\u001b[0;34m.\u001b[0m\u001b[0m_define_function_with_shape_relaxation\u001b[0m\u001b[0;34m(\u001b[0m\u001b[0margs\u001b[0m\u001b[0;34m,\u001b[0m \u001b[0mkwargs\u001b[0m\u001b[0;34m)\u001b[0m\u001b[0;34m\u001b[0m\u001b[0;34m\u001b[0m\u001b[0m\n\u001b[0m\u001b[1;32m   2775\u001b[0m \u001b[0;34m\u001b[0m\u001b[0m\n\u001b[1;32m   2776\u001b[0m       \u001b[0mself\u001b[0m\u001b[0;34m.\u001b[0m\u001b[0m_function_cache\u001b[0m\u001b[0;34m.\u001b[0m\u001b[0mmissed\u001b[0m\u001b[0;34m.\u001b[0m\u001b[0madd\u001b[0m\u001b[0;34m(\u001b[0m\u001b[0mcall_context_key\u001b[0m\u001b[0;34m)\u001b[0m\u001b[0;34m\u001b[0m\u001b[0;34m\u001b[0m\u001b[0m\n",
      "\u001b[0;32m~/.local/lib/python3.8/site-packages/tensorflow/python/eager/function.py\u001b[0m in \u001b[0;36m_define_function_with_shape_relaxation\u001b[0;34m(self, args, kwargs)\u001b[0m\n\u001b[1;32m   2703\u001b[0m     self._function_cache.arg_relaxed_shapes[rank_only_cache_key] = (\n\u001b[1;32m   2704\u001b[0m         relaxed_arg_shapes)\n\u001b[0;32m-> 2705\u001b[0;31m     graph_function = self._create_graph_function(\n\u001b[0m\u001b[1;32m   2706\u001b[0m         args, kwargs, override_flat_arg_shapes=relaxed_arg_shapes)\n\u001b[1;32m   2707\u001b[0m     \u001b[0mself\u001b[0m\u001b[0;34m.\u001b[0m\u001b[0m_function_cache\u001b[0m\u001b[0;34m.\u001b[0m\u001b[0marg_relaxed\u001b[0m\u001b[0;34m[\u001b[0m\u001b[0mrank_only_cache_key\u001b[0m\u001b[0;34m]\u001b[0m \u001b[0;34m=\u001b[0m \u001b[0mgraph_function\u001b[0m\u001b[0;34m\u001b[0m\u001b[0;34m\u001b[0m\u001b[0m\n",
      "\u001b[0;32m~/.local/lib/python3.8/site-packages/tensorflow/python/eager/function.py\u001b[0m in \u001b[0;36m_create_graph_function\u001b[0;34m(self, args, kwargs, override_flat_arg_shapes)\u001b[0m\n\u001b[1;32m   2655\u001b[0m     \u001b[0marg_names\u001b[0m \u001b[0;34m=\u001b[0m \u001b[0mbase_arg_names\u001b[0m \u001b[0;34m+\u001b[0m \u001b[0mmissing_arg_names\u001b[0m\u001b[0;34m\u001b[0m\u001b[0;34m\u001b[0m\u001b[0m\n\u001b[1;32m   2656\u001b[0m     graph_function = ConcreteFunction(\n\u001b[0;32m-> 2657\u001b[0;31m         func_graph_module.func_graph_from_py_func(\n\u001b[0m\u001b[1;32m   2658\u001b[0m             \u001b[0mself\u001b[0m\u001b[0;34m.\u001b[0m\u001b[0m_name\u001b[0m\u001b[0;34m,\u001b[0m\u001b[0;34m\u001b[0m\u001b[0;34m\u001b[0m\u001b[0m\n\u001b[1;32m   2659\u001b[0m             \u001b[0mself\u001b[0m\u001b[0;34m.\u001b[0m\u001b[0m_python_function\u001b[0m\u001b[0;34m,\u001b[0m\u001b[0;34m\u001b[0m\u001b[0;34m\u001b[0m\u001b[0m\n",
      "\u001b[0;32m~/.local/lib/python3.8/site-packages/tensorflow/python/framework/func_graph.py\u001b[0m in \u001b[0;36mfunc_graph_from_py_func\u001b[0;34m(name, python_func, args, kwargs, signature, func_graph, autograph, autograph_options, add_control_dependencies, arg_names, op_return_value, collections, capture_by_value, override_flat_arg_shapes)\u001b[0m\n\u001b[1;32m    979\u001b[0m         \u001b[0m_\u001b[0m\u001b[0;34m,\u001b[0m \u001b[0moriginal_func\u001b[0m \u001b[0;34m=\u001b[0m \u001b[0mtf_decorator\u001b[0m\u001b[0;34m.\u001b[0m\u001b[0munwrap\u001b[0m\u001b[0;34m(\u001b[0m\u001b[0mpython_func\u001b[0m\u001b[0;34m)\u001b[0m\u001b[0;34m\u001b[0m\u001b[0;34m\u001b[0m\u001b[0m\n\u001b[1;32m    980\u001b[0m \u001b[0;34m\u001b[0m\u001b[0m\n\u001b[0;32m--> 981\u001b[0;31m       \u001b[0mfunc_outputs\u001b[0m \u001b[0;34m=\u001b[0m \u001b[0mpython_func\u001b[0m\u001b[0;34m(\u001b[0m\u001b[0;34m*\u001b[0m\u001b[0mfunc_args\u001b[0m\u001b[0;34m,\u001b[0m \u001b[0;34m**\u001b[0m\u001b[0mfunc_kwargs\u001b[0m\u001b[0;34m)\u001b[0m\u001b[0;34m\u001b[0m\u001b[0;34m\u001b[0m\u001b[0m\n\u001b[0m\u001b[1;32m    982\u001b[0m \u001b[0;34m\u001b[0m\u001b[0m\n\u001b[1;32m    983\u001b[0m       \u001b[0;31m# invariant: `func_outputs` contains only Tensors, CompositeTensors,\u001b[0m\u001b[0;34m\u001b[0m\u001b[0;34m\u001b[0m\u001b[0;34m\u001b[0m\u001b[0m\n",
      "\u001b[0;32m~/.local/lib/python3.8/site-packages/tensorflow/python/eager/def_function.py\u001b[0m in \u001b[0;36mwrapped_fn\u001b[0;34m(*args, **kwds)\u001b[0m\n\u001b[1;32m    439\u001b[0m         \u001b[0;31m# __wrapped__ allows AutoGraph to swap in a converted function. We give\u001b[0m\u001b[0;34m\u001b[0m\u001b[0;34m\u001b[0m\u001b[0;34m\u001b[0m\u001b[0m\n\u001b[1;32m    440\u001b[0m         \u001b[0;31m# the function a weak reference to itself to avoid a reference cycle.\u001b[0m\u001b[0;34m\u001b[0m\u001b[0;34m\u001b[0m\u001b[0;34m\u001b[0m\u001b[0m\n\u001b[0;32m--> 441\u001b[0;31m         \u001b[0;32mreturn\u001b[0m \u001b[0mweak_wrapped_fn\u001b[0m\u001b[0;34m(\u001b[0m\u001b[0;34m)\u001b[0m\u001b[0;34m.\u001b[0m\u001b[0m__wrapped__\u001b[0m\u001b[0;34m(\u001b[0m\u001b[0;34m*\u001b[0m\u001b[0margs\u001b[0m\u001b[0;34m,\u001b[0m \u001b[0;34m**\u001b[0m\u001b[0mkwds\u001b[0m\u001b[0;34m)\u001b[0m\u001b[0;34m\u001b[0m\u001b[0;34m\u001b[0m\u001b[0m\n\u001b[0m\u001b[1;32m    442\u001b[0m     \u001b[0mweak_wrapped_fn\u001b[0m \u001b[0;34m=\u001b[0m \u001b[0mweakref\u001b[0m\u001b[0;34m.\u001b[0m\u001b[0mref\u001b[0m\u001b[0;34m(\u001b[0m\u001b[0mwrapped_fn\u001b[0m\u001b[0;34m)\u001b[0m\u001b[0;34m\u001b[0m\u001b[0;34m\u001b[0m\u001b[0m\n\u001b[1;32m    443\u001b[0m \u001b[0;34m\u001b[0m\u001b[0m\n",
      "\u001b[0;32m~/.local/lib/python3.8/site-packages/tensorflow/python/framework/func_graph.py\u001b[0m in \u001b[0;36mwrapper\u001b[0;34m(*args, **kwargs)\u001b[0m\n\u001b[1;32m    966\u001b[0m           \u001b[0;32mexcept\u001b[0m \u001b[0mException\u001b[0m \u001b[0;32mas\u001b[0m \u001b[0me\u001b[0m\u001b[0;34m:\u001b[0m  \u001b[0;31m# pylint:disable=broad-except\u001b[0m\u001b[0;34m\u001b[0m\u001b[0;34m\u001b[0m\u001b[0m\n\u001b[1;32m    967\u001b[0m             \u001b[0;32mif\u001b[0m \u001b[0mhasattr\u001b[0m\u001b[0;34m(\u001b[0m\u001b[0me\u001b[0m\u001b[0;34m,\u001b[0m \u001b[0;34m\"ag_error_metadata\"\u001b[0m\u001b[0;34m)\u001b[0m\u001b[0;34m:\u001b[0m\u001b[0;34m\u001b[0m\u001b[0;34m\u001b[0m\u001b[0m\n\u001b[0;32m--> 968\u001b[0;31m               \u001b[0;32mraise\u001b[0m \u001b[0me\u001b[0m\u001b[0;34m.\u001b[0m\u001b[0mag_error_metadata\u001b[0m\u001b[0;34m.\u001b[0m\u001b[0mto_exception\u001b[0m\u001b[0;34m(\u001b[0m\u001b[0me\u001b[0m\u001b[0;34m)\u001b[0m\u001b[0;34m\u001b[0m\u001b[0;34m\u001b[0m\u001b[0m\n\u001b[0m\u001b[1;32m    969\u001b[0m             \u001b[0;32melse\u001b[0m\u001b[0;34m:\u001b[0m\u001b[0;34m\u001b[0m\u001b[0;34m\u001b[0m\u001b[0m\n\u001b[1;32m    970\u001b[0m               \u001b[0;32mraise\u001b[0m\u001b[0;34m\u001b[0m\u001b[0;34m\u001b[0m\u001b[0m\n",
      "\u001b[0;31mValueError\u001b[0m: in user code:\n\n    /home/luizgis/.local/lib/python3.8/site-packages/tensorflow/python/keras/engine/training.py:571 train_function  *\n        outputs = self.distribute_strategy.run(\n    /home/luizgis/.local/lib/python3.8/site-packages/tensorflow/python/distribute/distribute_lib.py:951 run  **\n        return self._extended.call_for_each_replica(fn, args=args, kwargs=kwargs)\n    /home/luizgis/.local/lib/python3.8/site-packages/tensorflow/python/distribute/distribute_lib.py:2290 call_for_each_replica\n        return self._call_for_each_replica(fn, args, kwargs)\n    /home/luizgis/.local/lib/python3.8/site-packages/tensorflow/python/distribute/distribute_lib.py:2649 _call_for_each_replica\n        return fn(*args, **kwargs)\n    /home/luizgis/.local/lib/python3.8/site-packages/tensorflow/python/keras/engine/training.py:531 train_step  **\n        y_pred = self(x, training=True)\n    /home/luizgis/.local/lib/python3.8/site-packages/tensorflow/python/keras/engine/base_layer.py:927 __call__\n        outputs = call_fn(cast_inputs, *args, **kwargs)\n    /home/luizgis/.local/lib/python3.8/site-packages/tensorflow/python/keras/engine/sequential.py:291 call\n        outputs = layer(inputs, **kwargs)\n    /home/luizgis/.local/lib/python3.8/site-packages/tensorflow/python/keras/engine/base_layer.py:927 __call__\n        outputs = call_fn(cast_inputs, *args, **kwargs)\n    /home/luizgis/.local/lib/python3.8/site-packages/tensorflow/python/feature_column/dense_features.py:143 call  **\n        with ops.name_scope(column.name):\n    /home/luizgis/.local/lib/python3.8/site-packages/tensorflow/python/framework/ops.py:6296 __enter__\n        return self._name_scope.__enter__()\n    /usr/lib/python3.8/contextlib.py:113 __enter__\n        return next(self.gen)\n    /home/luizgis/.local/lib/python3.8/site-packages/tensorflow/python/framework/ops.py:4027 name_scope\n        raise ValueError(\"'%s' is not a valid scope name\" % name)\n\n    ValueError: ' ACK Flag Count' is not a valid scope name\n"
     ]
    }
   ],
   "source": [
    "with tf.device(DEVICE):\n",
    "    model.fit(train_ds, validation_data=val_ds, epochs=5)"
   ]
  },
  {
   "cell_type": "code",
   "execution_count": null,
   "metadata": {},
   "outputs": [],
   "source": []
  }
 ],
 "metadata": {
  "kernelspec": {
   "display_name": "Python 3",
   "language": "python",
   "name": "python3"
  },
  "language_info": {
   "codemirror_mode": {
    "name": "ipython",
    "version": 3
   },
   "file_extension": ".py",
   "mimetype": "text/x-python",
   "name": "python",
   "nbconvert_exporter": "python",
   "pygments_lexer": "ipython3",
   "version": "3.8.2"
  }
 },
 "nbformat": 4,
 "nbformat_minor": 4
}
