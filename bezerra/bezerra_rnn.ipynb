{
 "cells": [
  {
   "cell_type": "code",
   "execution_count": 1,
   "metadata": {},
   "outputs": [],
   "source": [
    "# Author: Ernesto Rodríguez\n",
    "# github.com/ernestorodg\n",
    "\n",
    "###############################################################################\n",
    "## Analyse Bezerra's dataset for intrusion detection using Decision Trees\n",
    "###############################################################################"
   ]
  },
  {
   "cell_type": "code",
   "execution_count": 2,
   "metadata": {},
   "outputs": [],
   "source": [
    "import pandas as pd\n",
    "import numpy as np\n",
    "import sys\n",
    "\n",
    "###############################################################################\n",
    "## Define constants \n",
    "###############################################################################\n",
    "\n",
    "\n",
    "# Random state for reproducibility\n",
    "STATE = 0\n",
    "np.random.seed(10)\n",
    "# List of available attacks on the dataset\n",
    "\n",
    "\n",
    "# Especific to the repository \n",
    "DATASET_DIRECTORY = r'../datasets/Dataset-bezerra-IoT-20200528T203526Z-001/Dataset-IoT/'\n",
    "NETFLOW_DIRECTORY = r'NetFlow/'\n",
    "\n",
    "\n",
    "# There are different csv files on the Dataset, with different types of data:\n",
    "\n",
    "# Some meanings:\n",
    "# MC: Media Center\n",
    "# I: One hour of legitimate and malicious NetFlow data from profile.\n",
    "# L: One hour of legitimate NetFlow data from profile.\n",
    "\n",
    "MC = r'MC/'\n",
    "ST = r'ST/'\n",
    "SC = r'SC/'\n",
    "\n",
    "\n",
    "# MC_I_FIRST: Has infected data by Hajime, Aidra and BashLite botnets \n",
    "MC_I_FIRST = r'MC_I1.csv'\n",
    "\n",
    "# MC_I_SECOND: Has infected data from Mirai botnets\n",
    "MC_I_SECOND = r'MC_I2.csv'\n",
    "\n",
    "# MC_I_THIR: Has infected data from Mirai, Doflo, Tsunami and Wroba botnets\n",
    "MC_I_THIRD = r'MC_I3.csv'\n",
    "\n",
    "# MC_L: Has legitimate data, no infection\n",
    "MC_L = r'MC_L.csv'\n",
    "\n",
    "\n",
    "# Constants for ST\n",
    "ST_I_FIRST = r'ST_I1.csv'\n",
    "ST_I_SECOND = r'ST_I2.csv'\n",
    "ST_I_THIRD = r'ST_I3.csv'\n",
    "ST_L = r'ST_L.csv'\n",
    "\n",
    "# Constants for SC\n",
    "SC_I_FIRST = r'SC_I1.csv'\n",
    "SC_I_SECOND = r'SC_I2.csv'\n",
    "SC_I_THIRD = r'SC_I3.csv'\n",
    "SC_L = r'SC_L.csv'\n"
   ]
  },
  {
   "cell_type": "code",
   "execution_count": 3,
   "metadata": {},
   "outputs": [],
   "source": [
    "###############################################################################\n",
    "## Load dataset\n",
    "###############################################################################\n",
    "\n",
    "# For MC data:\n",
    "df_mc_I_first = pd.read_csv (DATASET_DIRECTORY + MC + NETFLOW_DIRECTORY + MC_I_FIRST)\n",
    "df_mc_I_second = pd.read_csv (DATASET_DIRECTORY + MC + NETFLOW_DIRECTORY + MC_I_SECOND)\n",
    "df_mc_I_third = pd.read_csv (DATASET_DIRECTORY + MC + NETFLOW_DIRECTORY + MC_I_THIRD)\n",
    "\n",
    "# Add legitimate rows from MC_L\n",
    "legitimate_frame_mc = pd.read_csv (DATASET_DIRECTORY + MC + NETFLOW_DIRECTORY + MC_L)\n",
    "\n",
    "###################\n",
    "\n",
    "# For ST data:\n",
    "df_st_I_first = pd.read_csv (DATASET_DIRECTORY + ST + NETFLOW_DIRECTORY + ST_I_FIRST)\n",
    "df_st_I_second = pd.read_csv (DATASET_DIRECTORY + ST + NETFLOW_DIRECTORY + ST_I_SECOND)\n",
    "df_st_I_third = pd.read_csv (DATASET_DIRECTORY + ST + NETFLOW_DIRECTORY + ST_I_THIRD)\n",
    "\n",
    "# Add legitimate rows from SC_L\n",
    "legitimate_frame_st = pd.read_csv (DATASET_DIRECTORY + ST + NETFLOW_DIRECTORY + ST_L)\n",
    "\n",
    "\n",
    "###################\n",
    "\n",
    "# For SC data:\n",
    "df_sc_I_first = pd.read_csv (DATASET_DIRECTORY + SC + NETFLOW_DIRECTORY + SC_I_FIRST)\n",
    "df_sc_I_second = pd.read_csv (DATASET_DIRECTORY + SC + NETFLOW_DIRECTORY + SC_I_SECOND)\n",
    "df_sc_I_third = pd.read_csv (DATASET_DIRECTORY + SC + NETFLOW_DIRECTORY + SC_I_THIRD)\n",
    "\n",
    "# Add legitimate rows from MC_L\n",
    "legitimate_frame_sc = pd.read_csv (DATASET_DIRECTORY + SC + NETFLOW_DIRECTORY + SC_L)\n",
    "\n",
    "dataframes_list = [df_mc_I_first,\n",
    "                df_mc_I_second,\n",
    "                df_mc_I_third,\n",
    "                legitimate_frame_mc,\n",
    "                df_st_I_first,\n",
    "                df_st_I_second,\n",
    "                df_st_I_third,\n",
    "                legitimate_frame_st,\n",
    "                df_sc_I_first,\n",
    "                df_sc_I_second,\n",
    "                df_sc_I_third,\n",
    "                legitimate_frame_sc]\n",
    "\n",
    "# Joining the differents DataFrames\n",
    "prev_df = pd.concat(dataframes_list)\n",
    "\n"
   ]
  },
  {
   "cell_type": "code",
   "execution_count": 4,
   "metadata": {},
   "outputs": [
    {
     "data": {
      "text/html": [
       "<div>\n",
       "<style scoped>\n",
       "    .dataframe tbody tr th:only-of-type {\n",
       "        vertical-align: middle;\n",
       "    }\n",
       "\n",
       "    .dataframe tbody tr th {\n",
       "        vertical-align: top;\n",
       "    }\n",
       "\n",
       "    .dataframe thead th {\n",
       "        text-align: right;\n",
       "    }\n",
       "</style>\n",
       "<table border=\"1\" class=\"dataframe\">\n",
       "  <thead>\n",
       "    <tr style=\"text-align: right;\">\n",
       "      <th></th>\n",
       "      <th>Unnamed: 0</th>\n",
       "      <th>Label</th>\n",
       "      <th>ts</th>\n",
       "      <th>te</th>\n",
       "      <th>td</th>\n",
       "      <th>sa</th>\n",
       "      <th>da</th>\n",
       "      <th>sp</th>\n",
       "      <th>dp</th>\n",
       "      <th>pr</th>\n",
       "      <th>...</th>\n",
       "      <th>mpls8</th>\n",
       "      <th>mpls9</th>\n",
       "      <th>mpls10</th>\n",
       "      <th>cl</th>\n",
       "      <th>sl</th>\n",
       "      <th>al</th>\n",
       "      <th>ra</th>\n",
       "      <th>eng</th>\n",
       "      <th>exid</th>\n",
       "      <th>tr</th>\n",
       "    </tr>\n",
       "  </thead>\n",
       "  <tbody>\n",
       "    <tr>\n",
       "      <th>0</th>\n",
       "      <td>0</td>\n",
       "      <td>0</td>\n",
       "      <td>2018-11-11 03:16:47</td>\n",
       "      <td>2018-11-11 03:16:47</td>\n",
       "      <td>16.00</td>\n",
       "      <td>192.168.1.100</td>\n",
       "      <td>192.168.1.109</td>\n",
       "      <td>53</td>\n",
       "      <td>55800.0</td>\n",
       "      <td>UDP</td>\n",
       "      <td>...</td>\n",
       "      <td>0-0-0</td>\n",
       "      <td>0-0-0</td>\n",
       "      <td>0-0-0</td>\n",
       "      <td>0.0</td>\n",
       "      <td>0.0</td>\n",
       "      <td>0.0</td>\n",
       "      <td>0.0.0.0</td>\n",
       "      <td>0/0</td>\n",
       "      <td>1.0</td>\n",
       "      <td>1969-12-31 21:00:00.000</td>\n",
       "    </tr>\n",
       "    <tr>\n",
       "      <th>1</th>\n",
       "      <td>1</td>\n",
       "      <td>0</td>\n",
       "      <td>2018-11-11 03:16:47</td>\n",
       "      <td>2018-11-11 03:16:47</td>\n",
       "      <td>16.00</td>\n",
       "      <td>192.168.1.109</td>\n",
       "      <td>192.168.1.100</td>\n",
       "      <td>55800</td>\n",
       "      <td>53.0</td>\n",
       "      <td>UDP</td>\n",
       "      <td>...</td>\n",
       "      <td>0-0-0</td>\n",
       "      <td>0-0-0</td>\n",
       "      <td>0-0-0</td>\n",
       "      <td>0.0</td>\n",
       "      <td>0.0</td>\n",
       "      <td>0.0</td>\n",
       "      <td>0.0.0.0</td>\n",
       "      <td>0/0</td>\n",
       "      <td>1.0</td>\n",
       "      <td>1969-12-31 21:00:00.000</td>\n",
       "    </tr>\n",
       "    <tr>\n",
       "      <th>2</th>\n",
       "      <td>2</td>\n",
       "      <td>0</td>\n",
       "      <td>2018-11-11 03:16:47</td>\n",
       "      <td>2018-11-11 03:20:48</td>\n",
       "      <td>240798.00</td>\n",
       "      <td>147.231.99.14</td>\n",
       "      <td>192.168.1.109</td>\n",
       "      <td>443</td>\n",
       "      <td>42582.0</td>\n",
       "      <td>TCP</td>\n",
       "      <td>...</td>\n",
       "      <td>0-0-0</td>\n",
       "      <td>0-0-0</td>\n",
       "      <td>0-0-0</td>\n",
       "      <td>0.0</td>\n",
       "      <td>0.0</td>\n",
       "      <td>0.0</td>\n",
       "      <td>0.0.0.0</td>\n",
       "      <td>0/0</td>\n",
       "      <td>1.0</td>\n",
       "      <td>1969-12-31 21:00:00.000</td>\n",
       "    </tr>\n",
       "    <tr>\n",
       "      <th>3</th>\n",
       "      <td>3</td>\n",
       "      <td>0</td>\n",
       "      <td>2018-11-11 03:16:47</td>\n",
       "      <td>2018-11-11 03:20:48</td>\n",
       "      <td>240798.00</td>\n",
       "      <td>192.168.1.109</td>\n",
       "      <td>147.231.99.14</td>\n",
       "      <td>42582</td>\n",
       "      <td>443.0</td>\n",
       "      <td>TCP</td>\n",
       "      <td>...</td>\n",
       "      <td>0-0-0</td>\n",
       "      <td>0-0-0</td>\n",
       "      <td>0-0-0</td>\n",
       "      <td>0.0</td>\n",
       "      <td>0.0</td>\n",
       "      <td>0.0</td>\n",
       "      <td>0.0.0.0</td>\n",
       "      <td>0/0</td>\n",
       "      <td>1.0</td>\n",
       "      <td>1969-12-31 21:00:00.000</td>\n",
       "    </tr>\n",
       "    <tr>\n",
       "      <th>4</th>\n",
       "      <td>4</td>\n",
       "      <td>0</td>\n",
       "      <td>2018-11-11 03:16:47</td>\n",
       "      <td>2018-11-11 03:16:47</td>\n",
       "      <td>0.11</td>\n",
       "      <td>192.168.1.100</td>\n",
       "      <td>192.168.1.109</td>\n",
       "      <td>53</td>\n",
       "      <td>47839.0</td>\n",
       "      <td>UDP</td>\n",
       "      <td>...</td>\n",
       "      <td>0-0-0</td>\n",
       "      <td>0-0-0</td>\n",
       "      <td>0-0-0</td>\n",
       "      <td>0.0</td>\n",
       "      <td>0.0</td>\n",
       "      <td>0.0</td>\n",
       "      <td>0.0.0.0</td>\n",
       "      <td>0/0</td>\n",
       "      <td>1.0</td>\n",
       "      <td>1969-12-31 21:00:00.000</td>\n",
       "    </tr>\n",
       "    <tr>\n",
       "      <th>...</th>\n",
       "      <td>...</td>\n",
       "      <td>...</td>\n",
       "      <td>...</td>\n",
       "      <td>...</td>\n",
       "      <td>...</td>\n",
       "      <td>...</td>\n",
       "      <td>...</td>\n",
       "      <td>...</td>\n",
       "      <td>...</td>\n",
       "      <td>...</td>\n",
       "      <td>...</td>\n",
       "      <td>...</td>\n",
       "      <td>...</td>\n",
       "      <td>...</td>\n",
       "      <td>...</td>\n",
       "      <td>...</td>\n",
       "      <td>...</td>\n",
       "      <td>...</td>\n",
       "      <td>...</td>\n",
       "      <td>...</td>\n",
       "      <td>...</td>\n",
       "    </tr>\n",
       "    <tr>\n",
       "      <th>756</th>\n",
       "      <td>756</td>\n",
       "      <td>0</td>\n",
       "      <td>2018-11-07 03:20:47</td>\n",
       "      <td>2018-11-07 04:19:11</td>\n",
       "      <td>3503418.00</td>\n",
       "      <td>192.168.1.100</td>\n",
       "      <td>224.0.0.251</td>\n",
       "      <td>0</td>\n",
       "      <td>0.0</td>\n",
       "      <td>IGMP</td>\n",
       "      <td>...</td>\n",
       "      <td>0-0-0</td>\n",
       "      <td>0-0-0</td>\n",
       "      <td>0-0-0</td>\n",
       "      <td>0.0</td>\n",
       "      <td>0.0</td>\n",
       "      <td>0.0</td>\n",
       "      <td>0.0.0.0</td>\n",
       "      <td>0/0</td>\n",
       "      <td>1.0</td>\n",
       "      <td>1969-12-31 21:00:00.000</td>\n",
       "    </tr>\n",
       "    <tr>\n",
       "      <th>757</th>\n",
       "      <td>757</td>\n",
       "      <td>0</td>\n",
       "      <td>2018-11-07 03:20:51</td>\n",
       "      <td>2018-11-07 04:19:11</td>\n",
       "      <td>3499963.00</td>\n",
       "      <td>192.168.1.102</td>\n",
       "      <td>224.0.0.251</td>\n",
       "      <td>0</td>\n",
       "      <td>0.0</td>\n",
       "      <td>IGMP</td>\n",
       "      <td>...</td>\n",
       "      <td>0-0-0</td>\n",
       "      <td>0-0-0</td>\n",
       "      <td>0-0-0</td>\n",
       "      <td>0.0</td>\n",
       "      <td>0.0</td>\n",
       "      <td>0.0</td>\n",
       "      <td>0.0.0.0</td>\n",
       "      <td>0/0</td>\n",
       "      <td>1.0</td>\n",
       "      <td>1969-12-31 21:00:00.000</td>\n",
       "    </tr>\n",
       "    <tr>\n",
       "      <th>758</th>\n",
       "      <td>758</td>\n",
       "      <td>0</td>\n",
       "      <td>2018-11-07 03:20:45</td>\n",
       "      <td>2018-11-07 04:19:13</td>\n",
       "      <td>3507705.00</td>\n",
       "      <td>192.168.1.101</td>\n",
       "      <td>224.0.0.251</td>\n",
       "      <td>0</td>\n",
       "      <td>0.0</td>\n",
       "      <td>IGMP</td>\n",
       "      <td>...</td>\n",
       "      <td>0-0-0</td>\n",
       "      <td>0-0-0</td>\n",
       "      <td>0-0-0</td>\n",
       "      <td>0.0</td>\n",
       "      <td>0.0</td>\n",
       "      <td>0.0</td>\n",
       "      <td>0.0.0.0</td>\n",
       "      <td>0/0</td>\n",
       "      <td>1.0</td>\n",
       "      <td>1969-12-31 21:00:00.000</td>\n",
       "    </tr>\n",
       "    <tr>\n",
       "      <th>759</th>\n",
       "      <td>759</td>\n",
       "      <td>0</td>\n",
       "      <td>2018-11-07 04:07:59</td>\n",
       "      <td>2018-11-07 04:19:36</td>\n",
       "      <td>696894.00</td>\n",
       "      <td>192.168.1.101</td>\n",
       "      <td>192.168.1.109</td>\n",
       "      <td>60194</td>\n",
       "      <td>8080.0</td>\n",
       "      <td>TCP</td>\n",
       "      <td>...</td>\n",
       "      <td>0-0-0</td>\n",
       "      <td>0-0-0</td>\n",
       "      <td>0-0-0</td>\n",
       "      <td>0.0</td>\n",
       "      <td>0.0</td>\n",
       "      <td>0.0</td>\n",
       "      <td>0.0.0.0</td>\n",
       "      <td>0/0</td>\n",
       "      <td>1.0</td>\n",
       "      <td>1969-12-31 21:00:00.000</td>\n",
       "    </tr>\n",
       "    <tr>\n",
       "      <th>760</th>\n",
       "      <td>760</td>\n",
       "      <td>0</td>\n",
       "      <td>2018-11-07 04:07:59</td>\n",
       "      <td>2018-11-07 04:19:36</td>\n",
       "      <td>696894.00</td>\n",
       "      <td>192.168.1.109</td>\n",
       "      <td>192.168.1.101</td>\n",
       "      <td>8080</td>\n",
       "      <td>60194.0</td>\n",
       "      <td>TCP</td>\n",
       "      <td>...</td>\n",
       "      <td>0-0-0</td>\n",
       "      <td>0-0-0</td>\n",
       "      <td>0-0-0</td>\n",
       "      <td>0.0</td>\n",
       "      <td>0.0</td>\n",
       "      <td>0.0</td>\n",
       "      <td>0.0.0.0</td>\n",
       "      <td>0/0</td>\n",
       "      <td>1.0</td>\n",
       "      <td>1969-12-31 21:00:00.000</td>\n",
       "    </tr>\n",
       "  </tbody>\n",
       "</table>\n",
       "<p>1724406 rows × 50 columns</p>\n",
       "</div>"
      ],
      "text/plain": [
       "     Unnamed: 0  Label                   ts                   te          td  \\\n",
       "0             0      0  2018-11-11 03:16:47  2018-11-11 03:16:47       16.00   \n",
       "1             1      0  2018-11-11 03:16:47  2018-11-11 03:16:47       16.00   \n",
       "2             2      0  2018-11-11 03:16:47  2018-11-11 03:20:48   240798.00   \n",
       "3             3      0  2018-11-11 03:16:47  2018-11-11 03:20:48   240798.00   \n",
       "4             4      0  2018-11-11 03:16:47  2018-11-11 03:16:47        0.11   \n",
       "..          ...    ...                  ...                  ...         ...   \n",
       "756         756      0  2018-11-07 03:20:47  2018-11-07 04:19:11  3503418.00   \n",
       "757         757      0  2018-11-07 03:20:51  2018-11-07 04:19:11  3499963.00   \n",
       "758         758      0  2018-11-07 03:20:45  2018-11-07 04:19:13  3507705.00   \n",
       "759         759      0  2018-11-07 04:07:59  2018-11-07 04:19:36   696894.00   \n",
       "760         760      0  2018-11-07 04:07:59  2018-11-07 04:19:36   696894.00   \n",
       "\n",
       "                sa             da     sp       dp    pr  ...  mpls8  mpls9  \\\n",
       "0    192.168.1.100  192.168.1.109     53  55800.0   UDP  ...  0-0-0  0-0-0   \n",
       "1    192.168.1.109  192.168.1.100  55800     53.0   UDP  ...  0-0-0  0-0-0   \n",
       "2    147.231.99.14  192.168.1.109    443  42582.0   TCP  ...  0-0-0  0-0-0   \n",
       "3    192.168.1.109  147.231.99.14  42582    443.0   TCP  ...  0-0-0  0-0-0   \n",
       "4    192.168.1.100  192.168.1.109     53  47839.0   UDP  ...  0-0-0  0-0-0   \n",
       "..             ...            ...    ...      ...   ...  ...    ...    ...   \n",
       "756  192.168.1.100    224.0.0.251      0      0.0  IGMP  ...  0-0-0  0-0-0   \n",
       "757  192.168.1.102    224.0.0.251      0      0.0  IGMP  ...  0-0-0  0-0-0   \n",
       "758  192.168.1.101    224.0.0.251      0      0.0  IGMP  ...  0-0-0  0-0-0   \n",
       "759  192.168.1.101  192.168.1.109  60194   8080.0   TCP  ...  0-0-0  0-0-0   \n",
       "760  192.168.1.109  192.168.1.101   8080  60194.0   TCP  ...  0-0-0  0-0-0   \n",
       "\n",
       "     mpls10   cl   sl   al       ra  eng  exid                       tr  \n",
       "0     0-0-0  0.0  0.0  0.0  0.0.0.0  0/0   1.0  1969-12-31 21:00:00.000  \n",
       "1     0-0-0  0.0  0.0  0.0  0.0.0.0  0/0   1.0  1969-12-31 21:00:00.000  \n",
       "2     0-0-0  0.0  0.0  0.0  0.0.0.0  0/0   1.0  1969-12-31 21:00:00.000  \n",
       "3     0-0-0  0.0  0.0  0.0  0.0.0.0  0/0   1.0  1969-12-31 21:00:00.000  \n",
       "4     0-0-0  0.0  0.0  0.0  0.0.0.0  0/0   1.0  1969-12-31 21:00:00.000  \n",
       "..      ...  ...  ...  ...      ...  ...   ...                      ...  \n",
       "756   0-0-0  0.0  0.0  0.0  0.0.0.0  0/0   1.0  1969-12-31 21:00:00.000  \n",
       "757   0-0-0  0.0  0.0  0.0  0.0.0.0  0/0   1.0  1969-12-31 21:00:00.000  \n",
       "758   0-0-0  0.0  0.0  0.0  0.0.0.0  0/0   1.0  1969-12-31 21:00:00.000  \n",
       "759   0-0-0  0.0  0.0  0.0  0.0.0.0  0/0   1.0  1969-12-31 21:00:00.000  \n",
       "760   0-0-0  0.0  0.0  0.0  0.0.0.0  0/0   1.0  1969-12-31 21:00:00.000  \n",
       "\n",
       "[1724406 rows x 50 columns]"
      ]
     },
     "execution_count": 4,
     "metadata": {},
     "output_type": "execute_result"
    }
   ],
   "source": [
    "prev_df"
   ]
  },
  {
   "cell_type": "code",
   "execution_count": 62,
   "metadata": {},
   "outputs": [],
   "source": [
    "###############################################################################\n",
    "## Modify the DataFrame\n",
    "###############################################################################\n",
    "\n",
    "\n",
    "# Sample the dataset if necessary\n",
    "# df = prev_df.sample (frac = 0.1, replace = True, random_state = 0)\n",
    "# Not taking a random sample:\n",
    "df = prev_df.iloc[:100588, :]\n",
    "\n",
    "\n",
    "# We can see that this dataset has a temporal description.\n",
    "# So it is not a good idea to randomly remove rows if using RNN\n",
    "\n",
    "# In this case we drop the index column, since pandas library creates an index\n",
    "# automatically. \n",
    "df = df.drop(df.columns[0], axis=1)\n",
    "\n",
    "# Also drop columns that has no significant data\n",
    "df = df.drop(df.columns[14:], axis=1)\n",
    "\n",
    "df = df.drop(['ts', 'te'], axis=1)\n",
    "\n",
    "# Trying another drops to see relation between features and results\n",
    "df = df.drop(['fwd', 'stos', 'sa', 'da'], axis=1)\n",
    "# 'sp', 'dp', 'sa',  'da',  \n",
    "\n",
    "# Counting number of null data\n",
    "nanColumns = [i for i in df.columns if df [i].isnull ().any ()]\n",
    "\n",
    "# Remove NaN and inf values\n",
    "df.replace ('Infinity', np.nan, inplace = True) ## Or other text values\n",
    "df.replace (np.inf, np.nan, inplace = True) ## Remove infinity\n",
    "df.replace (np.nan, 0, inplace = True)\n"
   ]
  },
  {
   "cell_type": "code",
   "execution_count": 144,
   "metadata": {},
   "outputs": [
    {
     "name": "stdout",
     "output_type": "stream",
     "text": [
      "Number of non-attacks:  588\n",
      "Number of attacks:  100000\n"
     ]
    }
   ],
   "source": [
    "###############################################################################\n",
    "## Slice the dataframe (usually the last column is the target)\n",
    "###############################################################################\n",
    "\n",
    "X = pd.DataFrame(df.iloc [:, 1:])\n",
    "\n",
    "# Selecting other columns\n",
    "# X = pd.concat([X, df.iloc[:, 2]], axis=1)\n",
    "\n",
    "y = df.iloc [:, 0]\n",
    "print('Number of non-attacks: ', y.value_counts()[0])\n",
    "print('Number of attacks: ', y.value_counts()[1])\n",
    "\n",
    "# See Output, only available on jupyter-notebooks\n",
    "# X"
   ]
  },
  {
   "cell_type": "code",
   "execution_count": 145,
   "metadata": {},
   "outputs": [
    {
     "name": "stdout",
     "output_type": "stream",
     "text": [
      "Number of non-attacks:  100000\n",
      "Number of attacks:  100000\n"
     ]
    }
   ],
   "source": [
    "###############################################################################\n",
    "## Create artificial non-attacks samples using Random Oversampling\n",
    "###############################################################################\n",
    "\n",
    "from imblearn.over_sampling import RandomOverSampler # doctest: +NORMALIZE_WHITESPACE\n",
    "\n",
    "ros = RandomOverSampler(random_state=42)\n",
    "\n",
    "X, y = ros.fit_resample(X, y)\n",
    "\n",
    "print('Number of non-attacks: ', y.value_counts()[0])\n",
    "print('Number of attacks: ', y.value_counts()[1])"
   ]
  },
  {
   "cell_type": "code",
   "execution_count": 146,
   "metadata": {},
   "outputs": [],
   "source": [
    "# ###############################################################################\n",
    "# ## Create artificial non-attacks samples using Random undersampling\n",
    "# ###############################################################################\n",
    "\n",
    "# from imblearn.under_sampling import RandomUnderSampler # doctest: +NORMALIZE_WHITESPACE\n",
    "\n",
    "# ros = RandomUnderSampler(random_state=42)\n",
    "\n",
    "# X, y = ros.fit_resample(X, y)\n",
    "\n",
    "# print('Number of non-attacks: ', y.value_counts()[0])\n",
    "# print('Number of attacks: ', y.value_counts()[1])"
   ]
  },
  {
   "cell_type": "code",
   "execution_count": 147,
   "metadata": {},
   "outputs": [],
   "source": [
    "####################################################################\n",
    "# Treating categorical data before splitting the dataset into the differents sets\n",
    "####################################################################\n",
    "from sklearn.impute import SimpleImputer\n",
    "from sklearn.preprocessing import OrdinalEncoder\n",
    "\n",
    "cat_cols = X.columns[X.dtypes == 'O'] # Returns array with the columns that has Object types elements\n",
    "\n",
    "# Check wether cat_cols is empty or not. If it is empty, do not do anything\n",
    "if list(cat_cols):\n",
    "    categories = [\n",
    "        X[column].unique() for column in X[cat_cols]]\n",
    "\n",
    "    for cat in categories:\n",
    "        cat[cat == None] = 'missing'  # noqa\n",
    "\n",
    "    # Replacing missing values\n",
    "    categorical_imputer = SimpleImputer(missing_values=None, \n",
    "                                        strategy='constant', \n",
    "                                        fill_value='missing')\n",
    "\n",
    "    X[cat_cols] = categorical_imputer.fit_transform(X[cat_cols])\n",
    "\n",
    "    # Encoding the categorical data\n",
    "    categorical_encoder = OrdinalEncoder(categories = categories)\n",
    "    categorical_encoder.fit(X[cat_cols])\n",
    "    X[cat_cols] = categorical_encoder.transform(X[cat_cols])"
   ]
  },
  {
   "cell_type": "code",
   "execution_count": 156,
   "metadata": {},
   "outputs": [
    {
     "name": "stdout",
     "output_type": "stream",
     "text": [
      "\n",
      "Splitting dataset (validation/train): 0.2\n"
     ]
    }
   ],
   "source": [
    "###############################################################################\n",
    "## Split dataset into train and test sets if not using cross validation\n",
    "###############################################################################\n",
    "from sklearn.model_selection import train_test_split\n",
    "TEST_SIZE = 1/5\n",
    "VALIDATION_SIZE = 1/5\n",
    "\n",
    "\n",
    "X_train, X_test, y_train, y_test = train_test_split (X, y, test_size = TEST_SIZE,\n",
    "                                                     random_state = STATE)\n",
    "\n",
    "\n",
    "print ('\\nSplitting dataset (validation/train):', 1/5)\n",
    "X_train_val, X_val, y_train_val, y_val = train_test_split (\n",
    "                                             X_train,\n",
    "                                             y_train,\n",
    "                                             test_size = VALIDATION_SIZE,\n",
    "                                             random_state = STATE)\n",
    "\n",
    "\n",
    "X_train = pd.DataFrame(X_train)\n",
    "X_test = pd.DataFrame(X_test)\n",
    "X_train_val = pd.DataFrame(X_train_val)\n",
    "X_val = pd.DataFrame(X_val)\n"
   ]
  },
  {
   "cell_type": "code",
   "execution_count": 157,
   "metadata": {},
   "outputs": [],
   "source": [
    "####################################################################\n",
    "# Treat numerical data \n",
    "####################################################################\n",
    "from sklearn.preprocessing import StandardScaler\n",
    "\n",
    "\n",
    "num_cols = X_train.columns[(X_train.dtypes == 'float64') | (X_train.dtypes == 'int64')] # Returns array with the columns that has float types elements\n",
    "\n",
    "# Scaling numerical values\n",
    "\n",
    "numerical_scaler = StandardScaler()\n",
    "numerical_scaler.fit(X_train)\n",
    "X_train = numerical_scaler.transform(X_train)\n",
    "\n",
    "X_test = numerical_scaler.transform(X_test)\n",
    "\n",
    "# X_train"
   ]
  },
  {
   "cell_type": "code",
   "execution_count": 158,
   "metadata": {},
   "outputs": [
    {
     "data": {
      "text/plain": [
       "0    20107\n",
       "1    19893\n",
       "Name: Label, dtype: int64"
      ]
     },
     "execution_count": 158,
     "metadata": {},
     "output_type": "execute_result"
    }
   ],
   "source": [
    "y_test.value_counts()"
   ]
  },
  {
   "cell_type": "code",
   "execution_count": 159,
   "metadata": {},
   "outputs": [],
   "source": [
    "from numpy import array\n",
    "LENGTH = 5\n",
    "\n",
    "sets_list = [X_train, X_test]\n",
    "for index, data in enumerate(sets_list):\n",
    "    n = data.shape[0]\n",
    "    samples = []\n",
    "\n",
    "    # step over the X_train.shape[0] (samples) in jumps of 200 (time_steps)\n",
    "    for i in range(0,n,LENGTH):\n",
    "        # grab from i to i + 200\n",
    "        sample = data[i:i+LENGTH]\n",
    "        samples.append(sample)\n",
    "\n",
    "    # convert list of arrays into 2d array\n",
    "    new_data = list()\n",
    "    new_data = np.array(new_data)\n",
    "    for i in range(len(samples)):\n",
    "        new_data = np.append(new_data, samples[i])\n",
    "        \n",
    "    sets_list[index] = new_data.reshape(len(samples), LENGTH, data.shape[1])\n",
    "     \n",
    "    \n",
    "X_train = sets_list[0]\n",
    "X_test = sets_list[1]"
   ]
  },
  {
   "cell_type": "code",
   "execution_count": 160,
   "metadata": {},
   "outputs": [
    {
     "data": {
      "text/plain": [
       "(32000, 5, 7)"
      ]
     },
     "execution_count": 160,
     "metadata": {},
     "output_type": "execute_result"
    }
   ],
   "source": [
    "X_train.shape"
   ]
  },
  {
   "cell_type": "code",
   "execution_count": 161,
   "metadata": {},
   "outputs": [],
   "source": [
    "answer_list = [y_train, y_test]\n",
    "for index, answer in enumerate(answer_list):\n",
    "\n",
    "    new_answer = list()\n",
    "    new_answer = np.array(new_answer)\n",
    "    answer = np.array(answer)\n",
    "    for i in range (0, len(answer), LENGTH):\n",
    "        new_answer = np.append(new_answer, answer[i])\n",
    "    answer_list[index] = new_answer"
   ]
  },
  {
   "cell_type": "code",
   "execution_count": 162,
   "metadata": {},
   "outputs": [],
   "source": [
    "## Preparing the test to see performance\n",
    "y_train = answer_list[0]\n",
    "y_test = answer_list[1]"
   ]
  },
  {
   "cell_type": "code",
   "execution_count": 163,
   "metadata": {},
   "outputs": [
    {
     "data": {
      "text/plain": [
       "1.0    16071\n",
       "0.0    15929\n",
       "dtype: int64"
      ]
     },
     "execution_count": 163,
     "metadata": {},
     "output_type": "execute_result"
    }
   ],
   "source": [
    "pd.Series(y_train).value_counts()"
   ]
  },
  {
   "cell_type": "code",
   "execution_count": 164,
   "metadata": {},
   "outputs": [
    {
     "data": {
      "text/plain": [
       "array([[-0.23479317,  0.97831506, -0.58819965, -1.45313105, -1.13781338,\n",
       "        -0.10000111, -0.07311963],\n",
       "       [-0.23694535, -1.16873591,  1.21037682, -1.45313105, -1.13781338,\n",
       "        -0.10000111, -0.07311609],\n",
       "       [-0.23701669, -1.11533542, -0.58967789,  0.37076358,  1.01292705,\n",
       "        -0.10000111, -0.0731292 ],\n",
       "       [-0.23682645,  1.34131234, -0.58819965, -1.45313105, -1.13781338,\n",
       "        -0.10000111, -0.07311857],\n",
       "       [-0.23701669,  0.26600833, -0.58681995,  0.37076358,  1.01292705,\n",
       "        -0.10000111, -0.0731292 ]])"
      ]
     },
     "execution_count": 164,
     "metadata": {},
     "output_type": "execute_result"
    }
   ],
   "source": [
    "X_train[0]"
   ]
  },
  {
   "cell_type": "code",
   "execution_count": 165,
   "metadata": {},
   "outputs": [],
   "source": [
    "# univariate lstm\n",
    "\n",
    "from keras.models import Sequential\n",
    "from keras.layers import LSTM\n",
    "from keras.layers import Dense\n",
    "\n",
    "# define model\n",
    "model = Sequential()\n",
    "model.add(LSTM(50, activation= 'relu' , input_shape=(X_train.shape[1], X_train.shape[2])))\n",
    "model.add(Dense(1))\n",
    "model.compile(optimizer= 'adam' , loss= 'mse' )"
   ]
  },
  {
   "cell_type": "code",
   "execution_count": 166,
   "metadata": {},
   "outputs": [
    {
     "name": "stdout",
     "output_type": "stream",
     "text": [
      "--- 118.69728326797485 seconds ---\n"
     ]
    }
   ],
   "source": [
    "import time\n",
    "# fit model\n",
    "\n",
    "# Measure time of this training\n",
    "start_time = time.time()\n",
    "\n",
    "model.fit(X_train, y_train, epochs=50, verbose=0)\n",
    "\n",
    "print(\"--- %s seconds ---\" % (time.time() - start_time))"
   ]
  },
  {
   "cell_type": "code",
   "execution_count": 167,
   "metadata": {},
   "outputs": [
    {
     "name": "stdout",
     "output_type": "stream",
     "text": [
      "[[1.0043707 ]\n",
      " [0.99507767]\n",
      " [1.0162234 ]\n",
      " ...\n",
      " [0.01259566]\n",
      " [1.0045002 ]\n",
      " [0.00712124]]\n"
     ]
    }
   ],
   "source": [
    "y_pred = model.predict(X_test, verbose=0)\n",
    "print(y_pred)"
   ]
  },
  {
   "cell_type": "code",
   "execution_count": 168,
   "metadata": {},
   "outputs": [
    {
     "data": {
      "text/plain": [
       "1.0    16071\n",
       "0.0    15929\n",
       "dtype: int64"
      ]
     },
     "execution_count": 168,
     "metadata": {},
     "output_type": "execute_result"
    }
   ],
   "source": [
    "pd.Series(y_train).value_counts()"
   ]
  },
  {
   "cell_type": "code",
   "execution_count": 181,
   "metadata": {},
   "outputs": [],
   "source": [
    "y_pred_rounded = np.round(y_pred, 0)"
   ]
  },
  {
   "cell_type": "code",
   "execution_count": 189,
   "metadata": {},
   "outputs": [],
   "source": [
    "y_pred_rounded = pd.Series(y_pred_rounded.reshape(8000))"
   ]
  },
  {
   "cell_type": "code",
   "execution_count": 187,
   "metadata": {},
   "outputs": [
    {
     "data": {
      "text/plain": [
       "0.6666667"
      ]
     },
     "execution_count": 187,
     "metadata": {},
     "output_type": "execute_result"
    }
   ],
   "source": [
    "import tensorflow as tf\n",
    "m = tf.keras.metrics.Precision()\n",
    "m.update_state([0, 1, 1, 1], [1, 0, 1, 1])\n",
    "m.result().numpy()\n",
    "\n"
   ]
  },
  {
   "cell_type": "code",
   "execution_count": 192,
   "metadata": {},
   "outputs": [
    {
     "data": {
      "text/plain": [
       "array([1., 1., 1., ..., 0., 1., 0.])"
      ]
     },
     "execution_count": 192,
     "metadata": {},
     "output_type": "execute_result"
    }
   ],
   "source": [
    "np.array(y_test)"
   ]
  },
  {
   "cell_type": "code",
   "execution_count": 197,
   "metadata": {},
   "outputs": [],
   "source": [
    "import matplotlib.pyplot as plt\n",
    "from sklearn.metrics import confusion_matrix\n",
    "import seaborn as sns\n",
    "\n",
    "def plot_cm(labels, predictions, p=0.5):\n",
    "    cm = confusion_matrix(labels, predictions > p)\n",
    "    plt.figure(figsize=(5,5))\n",
    "    sns.heatmap(cm, annot=True, fmt=\"d\")\n",
    "    plt.title('Confusion matrix @{:.2f}'.format(p))\n",
    "    plt.ylabel('Actual label')\n",
    "    plt.xlabel('Predicted label')\n",
    "\n",
    "    print('Legitimate Transactions Detected (True Negatives): ', cm[0][0])\n",
    "    print('Legitimate Transactions Incorrectly Detected (False Positives): ', cm[0][1])\n",
    "    print('Fraudulent Transactions Missed (False Negatives): ', cm[1][0])\n",
    "    print('Fraudulent Transactions Detected (True Positives): ', cm[1][1])\n",
    "    print('Total Fraudulent Transactions: ', np.sum(cm[1]))"
   ]
  },
  {
   "cell_type": "code",
   "execution_count": 198,
   "metadata": {},
   "outputs": [
    {
     "name": "stdout",
     "output_type": "stream",
     "text": [
      "Legitimate Transactions Detected (True Negatives):  3955\n",
      "Legitimate Transactions Incorrectly Detected (False Positives):  52\n",
      "Fraudulent Transactions Missed (False Negatives):  41\n",
      "Fraudulent Transactions Detected (True Positives):  3952\n",
      "Total Fraudulent Transactions:  3993\n"
     ]
    },
    {
     "data": {
      "image/png": "[encoded data removed]",
      "text/plain": [
       "<Figure size 360x360 with 2 Axes>"
      ]
     },
     "metadata": {
      "needs_background": "light"
     },
     "output_type": "display_data"
    }
   ],
   "source": [
    "plot_cm(y_test, y_pred_rounded)"
   ]
  },
  {
   "cell_type": "code",
   "execution_count": null,
   "metadata": {},
   "outputs": [],
   "source": []
  }
 ],
 "metadata": {
  "kernelspec": {
   "display_name": "Python 3",
   "language": "python",
   "name": "python3"
  },
  "language_info": {
   "codemirror_mode": {
    "name": "ipython",
    "version": 3
   },
   "file_extension": ".py",
   "mimetype": "text/x-python",
   "name": "python",
   "nbconvert_exporter": "python",
   "pygments_lexer": "ipython3",
   "version": "3.6.9"
  }
 },
 "nbformat": 4,
 "nbformat_minor": 4
}
